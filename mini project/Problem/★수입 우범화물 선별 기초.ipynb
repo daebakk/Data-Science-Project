{
 "cells": [
  {
   "cell_type": "markdown",
   "metadata": {},
   "source": [
    "# 수입 우범화물 선별 기초 - XGBoost 모델"
   ]
  },
  {
   "cell_type": "markdown",
   "metadata": {},
   "source": [
    "# 1. 분석 환경 설정 및 데이터 로딩<a id='id1'></a> "
   ]
  },
  {
   "cell_type": "code",
   "execution_count": 1,
   "metadata": {},
   "outputs": [],
   "source": [
    "# 모델 구현 시간 체크\n",
    "import time\n",
    "# 시작시간 체크\n",
    "start = time.time()"
   ]
  },
  {
   "cell_type": "code",
   "execution_count": 2,
   "metadata": {},
   "outputs": [
    {
     "name": "stdout",
     "output_type": "stream",
     "text": [
      "['NanumGothicOTF']\n"
     ]
    }
   ],
   "source": [
    "# 패키지 로딩\n",
    "import pickle\n",
    "import pandas as pd\n",
    "import numpy as np\n",
    "import matplotlib.pyplot as plt\n",
    "import seaborn as sns\n",
    "\n",
    "\n",
    "# 한글폰트 적용\n",
    "plt.rc('font', family='NanumGothicOTF') # For MacOS\n",
    "# plt.rc('font', family='NanumGothic') # For Windows\n",
    "print(plt.rcParams['font.family'])"
   ]
  },
  {
   "cell_type": "code",
   "execution_count": 3,
   "metadata": {},
   "outputs": [],
   "source": [
    "# 수입 데이터 로딩 (가상데이터)\n",
    "df_org = pd.read_csv('train.csv')"
   ]
  },
  {
   "cell_type": "code",
   "execution_count": 4,
   "metadata": {},
   "outputs": [],
   "source": [
    "# 분석 차트 그리는 함수 목록\n",
    "\n",
    "def show_pie_chart(df, col_name):\n",
    "    colname_survived = survived_crosstab(df, col_name)\n",
    "    pie_chart(colname_survived)\n",
    "    return colname_survived\n",
    "\n",
    "def survived_crosstab(df, col_name):\n",
    "    '''col_name과 Survived간의 교차도표 생성'''\n",
    "    feature_survived = pd.crosstab(df[col_name], df['우범여부'])\n",
    "    feature_survived.columns = feature_survived.columns.map({0:\"정상\", 1:\"우범\"})\n",
    "    return feature_survived\n",
    "\n",
    "def pie_chart(feature_survived):\n",
    "    '''\n",
    "    pie_chart 생성\n",
    "    pcol, prow = 차트를 출력할 개수. pcol * prow 만큼의 차트 출력 \n",
    "    '''\n",
    "    frows, fcols = feature_survived.shape\n",
    "    pcol = 3\n",
    "    prow = (frows/pcol + frows%pcol)\n",
    "    plot_height = prow * 2.5\n",
    "    plt.figure(figsize=(8, plot_height))\n",
    "\n",
    "    for row in range(0, frows):\n",
    "        plt.subplot(prow, pcol, row+1)\n",
    "\n",
    "        index_name = feature_survived.index[row]\n",
    "        plt.pie(feature_survived.loc[index_name], labels=feature_survived.loc[index_name].index, autopct='%1.1f%%')\n",
    "        plt.title(\"{0}' 우범\".format(index_name))\n",
    "\n",
    "    plt.show()"
   ]
  },
  {
   "cell_type": "markdown",
   "metadata": {},
   "source": [
    "# 2. 데이터 전처리 <a id='id2'></a>"
   ]
  },
  {
   "cell_type": "markdown",
   "metadata": {},
   "source": [
    "## 2.1. 전처리 기본(수치형 변수 및 범주형 변수 지정 등)"
   ]
  },
  {
   "cell_type": "code",
   "execution_count": 5,
   "metadata": {},
   "outputs": [
    {
     "data": {
      "text/plain": [
       "(76837, 24)"
      ]
     },
     "execution_count": 5,
     "metadata": {},
     "output_type": "execute_result"
    }
   ],
   "source": [
    "# 데이터 사이즈 확인\n",
    "df_org.shape"
   ]
  },
  {
   "cell_type": "code",
   "execution_count": 6,
   "metadata": {},
   "outputs": [
    {
     "data": {
      "text/html": [
       "<div>\n",
       "<style scoped>\n",
       "    .dataframe tbody tr th:only-of-type {\n",
       "        vertical-align: middle;\n",
       "    }\n",
       "\n",
       "    .dataframe tbody tr th {\n",
       "        vertical-align: top;\n",
       "    }\n",
       "\n",
       "    .dataframe thead th {\n",
       "        text-align: right;\n",
       "    }\n",
       "</style>\n",
       "<table border=\"1\" class=\"dataframe\">\n",
       "  <thead>\n",
       "    <tr style=\"text-align: right;\">\n",
       "      <th></th>\n",
       "      <th>신고번호</th>\n",
       "      <th>신고일자</th>\n",
       "      <th>통관지세관부호</th>\n",
       "      <th>신고인부호</th>\n",
       "      <th>수입자부호</th>\n",
       "      <th>해외거래처부호</th>\n",
       "      <th>특송업체부호</th>\n",
       "      <th>수입통관계획코드</th>\n",
       "      <th>수입신고구분코드</th>\n",
       "      <th>수입거래구분코드</th>\n",
       "      <th>...</th>\n",
       "      <th>운송수단유형코드</th>\n",
       "      <th>반입보세구역부호</th>\n",
       "      <th>HS10단위부호</th>\n",
       "      <th>적출국가코드</th>\n",
       "      <th>원산지국가코드</th>\n",
       "      <th>관세율구분코드</th>\n",
       "      <th>관세율</th>\n",
       "      <th>검사결과코드</th>\n",
       "      <th>우범여부</th>\n",
       "      <th>핵심적발</th>\n",
       "    </tr>\n",
       "  </thead>\n",
       "  <tbody>\n",
       "    <tr>\n",
       "      <th>62493</th>\n",
       "      <td>18240772</td>\n",
       "      <td>2020.8.5</td>\n",
       "      <td>20</td>\n",
       "      <td>3A8I7</td>\n",
       "      <td>VFM1MLF</td>\n",
       "      <td>NaN</td>\n",
       "      <td>NaN</td>\n",
       "      <td>D</td>\n",
       "      <td>B</td>\n",
       "      <td>11</td>\n",
       "      <td>...</td>\n",
       "      <td>40</td>\n",
       "      <td>4077008</td>\n",
       "      <td>710807000</td>\n",
       "      <td>CN</td>\n",
       "      <td>CN</td>\n",
       "      <td>A</td>\n",
       "      <td>27.0</td>\n",
       "      <td>A</td>\n",
       "      <td>0</td>\n",
       "      <td>0</td>\n",
       "    </tr>\n",
       "    <tr>\n",
       "      <th>15946</th>\n",
       "      <td>37145361</td>\n",
       "      <td>2020.2.19</td>\n",
       "      <td>40</td>\n",
       "      <td>7Q31W</td>\n",
       "      <td>6C0YK5O</td>\n",
       "      <td>ANYU5CE</td>\n",
       "      <td>NaN</td>\n",
       "      <td>B</td>\n",
       "      <td>B</td>\n",
       "      <td>15</td>\n",
       "      <td>...</td>\n",
       "      <td>40</td>\n",
       "      <td>2006110</td>\n",
       "      <td>8517699000</td>\n",
       "      <td>HK</td>\n",
       "      <td>CN</td>\n",
       "      <td>C</td>\n",
       "      <td>0.0</td>\n",
       "      <td>A</td>\n",
       "      <td>0</td>\n",
       "      <td>0</td>\n",
       "    </tr>\n",
       "    <tr>\n",
       "      <th>50095</th>\n",
       "      <td>33441724</td>\n",
       "      <td>2020.6.22</td>\n",
       "      <td>40</td>\n",
       "      <td>7BOPY</td>\n",
       "      <td>W1TC7ZF</td>\n",
       "      <td>NaN</td>\n",
       "      <td>NaN</td>\n",
       "      <td>C</td>\n",
       "      <td>B</td>\n",
       "      <td>11</td>\n",
       "      <td>...</td>\n",
       "      <td>40</td>\n",
       "      <td>4002001</td>\n",
       "      <td>2106909099</td>\n",
       "      <td>TH</td>\n",
       "      <td>TH</td>\n",
       "      <td>A</td>\n",
       "      <td>8.0</td>\n",
       "      <td>A</td>\n",
       "      <td>0</td>\n",
       "      <td>0</td>\n",
       "    </tr>\n",
       "  </tbody>\n",
       "</table>\n",
       "<p>3 rows × 24 columns</p>\n",
       "</div>"
      ],
      "text/plain": [
       "           신고번호       신고일자  통관지세관부호  신고인부호    수입자부호  해외거래처부호 특송업체부호 수입통관계획코드  \\\n",
       "62493  18240772   2020.8.5       20  3A8I7  VFM1MLF      NaN    NaN        D   \n",
       "15946  37145361  2020.2.19       40  7Q31W  6C0YK5O  ANYU5CE    NaN        B   \n",
       "50095  33441724  2020.6.22       40  7BOPY  W1TC7ZF      NaN    NaN        C   \n",
       "\n",
       "      수입신고구분코드  수입거래구분코드  ...  운송수단유형코드  반입보세구역부호    HS10단위부호  적출국가코드  \\\n",
       "62493        B        11  ...        40   4077008   710807000      CN   \n",
       "15946        B        15  ...        40   2006110  8517699000      HK   \n",
       "50095        B        11  ...        40   4002001  2106909099      TH   \n",
       "\n",
       "       원산지국가코드  관세율구분코드   관세율 검사결과코드 우범여부 핵심적발  \n",
       "62493       CN        A  27.0      A    0    0  \n",
       "15946       CN        C   0.0      A    0    0  \n",
       "50095       TH        A   8.0      A    0    0  \n",
       "\n",
       "[3 rows x 24 columns]"
      ]
     },
     "execution_count": 6,
     "metadata": {},
     "output_type": "execute_result"
    }
   ],
   "source": [
    "# 데이터 샘플 3개 확인\n",
    "df_org.sample(3)"
   ]
  },
  {
   "cell_type": "code",
   "execution_count": 7,
   "metadata": {},
   "outputs": [
    {
     "data": {
      "text/plain": [
       "0    59265\n",
       "1    17572\n",
       "Name: 우범여부, dtype: int64"
      ]
     },
     "execution_count": 7,
     "metadata": {},
     "output_type": "execute_result"
    }
   ],
   "source": [
    "df_org['우범여부'].value_counts()"
   ]
  },
  {
   "cell_type": "code",
   "execution_count": 8,
   "metadata": {},
   "outputs": [
    {
     "data": {
      "text/plain": [
       "0    59265\n",
       "2     9049\n",
       "1     8523\n",
       "Name: 핵심적발, dtype: int64"
      ]
     },
     "execution_count": 8,
     "metadata": {},
     "output_type": "execute_result"
    }
   ],
   "source": [
    "df_org['핵심적발'].value_counts()"
   ]
  },
  {
   "cell_type": "code",
   "execution_count": 9,
   "metadata": {},
   "outputs": [],
   "source": [
    "# 불필요한 변수 삭제\n",
    "del df_org['검사결과코드']\n",
    "del df_org['핵심적발']\n",
    "del df_org['신고인부호']\n",
    "del df_org['수입자부호']\n",
    "del df_org['해외거래처부호']"
   ]
  },
  {
   "cell_type": "code",
   "execution_count": 10,
   "metadata": {},
   "outputs": [
    {
     "data": {
      "text/plain": [
       "Index(['신고번호', '신고일자', '통관지세관부호', '특송업체부호', '수입통관계획코드', '수입신고구분코드', '수입거래구분코드',\n",
       "       '수입종류코드', '징수형태코드', '신고중량(KG)', '과세가격원화금액', '운송수단유형코드', '반입보세구역부호',\n",
       "       'HS10단위부호', '적출국가코드', '원산지국가코드', '관세율구분코드', '관세율', '우범여부'],\n",
       "      dtype='object')"
      ]
     },
     "execution_count": 10,
     "metadata": {},
     "output_type": "execute_result"
    }
   ],
   "source": [
    "df_org.columns"
   ]
  },
  {
   "cell_type": "markdown",
   "metadata": {},
   "source": [
    "## 신고일자\n",
    "\n",
    "- 월로 변경"
   ]
  },
  {
   "cell_type": "code",
   "execution_count": 11,
   "metadata": {},
   "outputs": [
    {
     "data": {
      "text/plain": [
       "0    1\n",
       "1    1\n",
       "2    1\n",
       "3    1\n",
       "4    1\n",
       "5    1\n",
       "6    1\n",
       "7    1\n",
       "8    1\n",
       "9    1\n",
       "Name: 신고일자(월), dtype: int64"
      ]
     },
     "execution_count": 11,
     "metadata": {},
     "output_type": "execute_result"
    }
   ],
   "source": [
    "## 신고일자 -> 월로 변경\n",
    "\n",
    "df_org['신고일자'] = pd.to_datetime(df_org['신고일자'])\n",
    "df_org['신고일자(월)'] = df_org['신고일자'].dt.month\n",
    "df_org['신고일자(월)'].head(10)"
   ]
  },
  {
   "cell_type": "code",
   "execution_count": 12,
   "metadata": {},
   "outputs": [],
   "source": [
    "del df_org['신고일자']"
   ]
  },
  {
   "cell_type": "code",
   "execution_count": 15,
   "metadata": {},
   "outputs": [
    {
     "name": "stderr",
     "output_type": "stream",
     "text": [
      "<ipython-input-4-ce1c551bc529>:26: MatplotlibDeprecationWarning: Passing non-integers as three-element position specification is deprecated since 3.3 and will be removed two minor releases later.\n",
      "  plt.subplot(prow, pcol, row+1)\n"
     ]
    },
    {
     "data": {
      "image/png": "[encoded data removed]",
      "text/plain": [
       "<Figure size 576x540 with 9 Axes>"
      ]
     },
     "metadata": {},
     "output_type": "display_data"
    },
    {
     "data": {
      "text/html": [
       "<div>\n",
       "<style scoped>\n",
       "    .dataframe tbody tr th:only-of-type {\n",
       "        vertical-align: middle;\n",
       "    }\n",
       "\n",
       "    .dataframe tbody tr th {\n",
       "        vertical-align: top;\n",
       "    }\n",
       "\n",
       "    .dataframe thead th {\n",
       "        text-align: right;\n",
       "    }\n",
       "</style>\n",
       "<table border=\"1\" class=\"dataframe\">\n",
       "  <thead>\n",
       "    <tr style=\"text-align: right;\">\n",
       "      <th>우범여부</th>\n",
       "      <th>정상</th>\n",
       "      <th>우범</th>\n",
       "    </tr>\n",
       "    <tr>\n",
       "      <th>신고일자(월)</th>\n",
       "      <th></th>\n",
       "      <th></th>\n",
       "    </tr>\n",
       "  </thead>\n",
       "  <tbody>\n",
       "    <tr>\n",
       "      <th>1</th>\n",
       "      <td>8121</td>\n",
       "      <td>2203</td>\n",
       "    </tr>\n",
       "    <tr>\n",
       "      <th>2</th>\n",
       "      <td>6901</td>\n",
       "      <td>2020</td>\n",
       "    </tr>\n",
       "    <tr>\n",
       "      <th>3</th>\n",
       "      <td>7269</td>\n",
       "      <td>2093</td>\n",
       "    </tr>\n",
       "    <tr>\n",
       "      <th>4</th>\n",
       "      <td>5972</td>\n",
       "      <td>1908</td>\n",
       "    </tr>\n",
       "    <tr>\n",
       "      <th>5</th>\n",
       "      <td>6209</td>\n",
       "      <td>1835</td>\n",
       "    </tr>\n",
       "    <tr>\n",
       "      <th>6</th>\n",
       "      <td>6099</td>\n",
       "      <td>1885</td>\n",
       "    </tr>\n",
       "    <tr>\n",
       "      <th>7</th>\n",
       "      <td>6658</td>\n",
       "      <td>2027</td>\n",
       "    </tr>\n",
       "    <tr>\n",
       "      <th>8</th>\n",
       "      <td>6100</td>\n",
       "      <td>1794</td>\n",
       "    </tr>\n",
       "    <tr>\n",
       "      <th>9</th>\n",
       "      <td>5936</td>\n",
       "      <td>1807</td>\n",
       "    </tr>\n",
       "  </tbody>\n",
       "</table>\n",
       "</div>"
      ],
      "text/plain": [
       "우범여부       정상    우범\n",
       "신고일자(월)            \n",
       "1        8121  2203\n",
       "2        6901  2020\n",
       "3        7269  2093\n",
       "4        5972  1908\n",
       "5        6209  1835\n",
       "6        6099  1885\n",
       "7        6658  2027\n",
       "8        6100  1794\n",
       "9        5936  1807"
      ]
     },
     "execution_count": 15,
     "metadata": {},
     "output_type": "execute_result"
    }
   ],
   "source": [
    "c = show_pie_chart(df_org, '신고일자(월)')\n",
    "c"
   ]
  },
  {
   "cell_type": "code",
   "execution_count": 16,
   "metadata": {},
   "outputs": [],
   "source": [
    "# 범주형 변수 지정\n",
    "discrete_columns = ['신고일자(월)',  '통관지세관부호',\n",
    "                    '특송업체부호', '수입통관계획코드', \n",
    "                    '수입신고구분코드', '수입거래구분코드',\n",
    "                    '수입종류코드','징수형태코드', \n",
    "                    '운송수단유형코드', '반입보세구역부호', \n",
    "                    'HS10단위부호', '적출국가코드', \n",
    "                    '원산지국가코드', '관세율구분코드']\n",
    "\n",
    "# 범주형 변수들을 문자열로 지정 ('object' -> 'string')\n",
    "for var in discrete_columns:\n",
    "    df_org[var] = df_org[var].astype(str)"
   ]
  },
  {
   "cell_type": "code",
   "execution_count": 17,
   "metadata": {
    "scrolled": true
   },
   "outputs": [
    {
     "name": "stdout",
     "output_type": "stream",
     "text": [
      "<class 'pandas.core.frame.DataFrame'>\n",
      "RangeIndex: 76837 entries, 0 to 76836\n",
      "Data columns (total 19 columns):\n",
      " #   Column    Non-Null Count  Dtype  \n",
      "---  ------    --------------  -----  \n",
      " 0   신고번호      76837 non-null  int64  \n",
      " 1   통관지세관부호   76837 non-null  object \n",
      " 2   특송업체부호    76837 non-null  object \n",
      " 3   수입통관계획코드  76837 non-null  object \n",
      " 4   수입신고구분코드  76837 non-null  object \n",
      " 5   수입거래구분코드  76837 non-null  object \n",
      " 6   수입종류코드    76837 non-null  object \n",
      " 7   징수형태코드    76837 non-null  object \n",
      " 8   신고중량(KG)  76837 non-null  float64\n",
      " 9   과세가격원화금액  76837 non-null  float64\n",
      " 10  운송수단유형코드  76837 non-null  object \n",
      " 11  반입보세구역부호  76837 non-null  object \n",
      " 12  HS10단위부호  76837 non-null  object \n",
      " 13  적출국가코드    76837 non-null  object \n",
      " 14  원산지국가코드   76837 non-null  object \n",
      " 15  관세율구분코드   76837 non-null  object \n",
      " 16  관세율       76837 non-null  float64\n",
      " 17  우범여부      76837 non-null  int64  \n",
      " 18  신고일자(월)   76837 non-null  object \n",
      "dtypes: float64(3), int64(2), object(14)\n",
      "memory usage: 11.1+ MB\n"
     ]
    }
   ],
   "source": [
    "df_org.info()"
   ]
  },
  {
   "cell_type": "code",
   "execution_count": 18,
   "metadata": {},
   "outputs": [],
   "source": [
    "# 수치형 변수 지정\n",
    "numeric_columns = ['신고중량(KG)', '과세가격원화금액', '관세율', '우범여부']\n",
    "\n",
    "# 수치형 변수를 자연로그로 변환\n",
    "for var in ['신고중량(KG)', '과세가격원화금액']:\n",
    "    df_org[var] = df_org[var].apply(lambda x: np.log1p(x))"
   ]
  },
  {
   "cell_type": "code",
   "execution_count": 19,
   "metadata": {},
   "outputs": [
    {
     "data": {
      "text/html": [
       "<div>\n",
       "<style scoped>\n",
       "    .dataframe tbody tr th:only-of-type {\n",
       "        vertical-align: middle;\n",
       "    }\n",
       "\n",
       "    .dataframe tbody tr th {\n",
       "        vertical-align: top;\n",
       "    }\n",
       "\n",
       "    .dataframe thead th {\n",
       "        text-align: right;\n",
       "    }\n",
       "</style>\n",
       "<table border=\"1\" class=\"dataframe\">\n",
       "  <thead>\n",
       "    <tr style=\"text-align: right;\">\n",
       "      <th></th>\n",
       "      <th>신고번호</th>\n",
       "      <th>통관지세관부호</th>\n",
       "      <th>특송업체부호</th>\n",
       "      <th>수입통관계획코드</th>\n",
       "      <th>수입신고구분코드</th>\n",
       "      <th>수입거래구분코드</th>\n",
       "      <th>수입종류코드</th>\n",
       "      <th>징수형태코드</th>\n",
       "      <th>신고중량(KG)</th>\n",
       "      <th>과세가격원화금액</th>\n",
       "      <th>운송수단유형코드</th>\n",
       "      <th>반입보세구역부호</th>\n",
       "      <th>HS10단위부호</th>\n",
       "      <th>적출국가코드</th>\n",
       "      <th>원산지국가코드</th>\n",
       "      <th>관세율구분코드</th>\n",
       "      <th>관세율</th>\n",
       "      <th>우범여부</th>\n",
       "      <th>신고일자(월)</th>\n",
       "    </tr>\n",
       "  </thead>\n",
       "  <tbody>\n",
       "    <tr>\n",
       "      <th>0</th>\n",
       "      <td>57298928</td>\n",
       "      <td>121</td>\n",
       "      <td>TQ18AK</td>\n",
       "      <td>D</td>\n",
       "      <td>B</td>\n",
       "      <td>15</td>\n",
       "      <td>23</td>\n",
       "      <td>43</td>\n",
       "      <td>4.844187</td>\n",
       "      <td>8.593963</td>\n",
       "      <td>10</td>\n",
       "      <td>2106003</td>\n",
       "      <td>8481900000</td>\n",
       "      <td>US</td>\n",
       "      <td>US</td>\n",
       "      <td>A</td>\n",
       "      <td>8.0</td>\n",
       "      <td>1</td>\n",
       "      <td>1</td>\n",
       "    </tr>\n",
       "    <tr>\n",
       "      <th>1</th>\n",
       "      <td>85092852</td>\n",
       "      <td>30</td>\n",
       "      <td>nan</td>\n",
       "      <td>C</td>\n",
       "      <td>B</td>\n",
       "      <td>11</td>\n",
       "      <td>21</td>\n",
       "      <td>11</td>\n",
       "      <td>10.303820</td>\n",
       "      <td>13.258812</td>\n",
       "      <td>40</td>\n",
       "      <td>4077010</td>\n",
       "      <td>2106909099</td>\n",
       "      <td>US</td>\n",
       "      <td>US</td>\n",
       "      <td>A</td>\n",
       "      <td>8.0</td>\n",
       "      <td>0</td>\n",
       "      <td>1</td>\n",
       "    </tr>\n",
       "    <tr>\n",
       "      <th>2</th>\n",
       "      <td>63014158</td>\n",
       "      <td>20</td>\n",
       "      <td>nan</td>\n",
       "      <td>D</td>\n",
       "      <td>B</td>\n",
       "      <td>11</td>\n",
       "      <td>21</td>\n",
       "      <td>18</td>\n",
       "      <td>10.067242</td>\n",
       "      <td>10.862759</td>\n",
       "      <td>40</td>\n",
       "      <td>4077007</td>\n",
       "      <td>6307909000</td>\n",
       "      <td>US</td>\n",
       "      <td>US</td>\n",
       "      <td>A</td>\n",
       "      <td>10.0</td>\n",
       "      <td>0</td>\n",
       "      <td>1</td>\n",
       "    </tr>\n",
       "    <tr>\n",
       "      <th>3</th>\n",
       "      <td>40175917</td>\n",
       "      <td>40</td>\n",
       "      <td>nan</td>\n",
       "      <td>C</td>\n",
       "      <td>B</td>\n",
       "      <td>94</td>\n",
       "      <td>21</td>\n",
       "      <td>43</td>\n",
       "      <td>9.429564</td>\n",
       "      <td>14.388527</td>\n",
       "      <td>40</td>\n",
       "      <td>4077106</td>\n",
       "      <td>6505009090</td>\n",
       "      <td>CN</td>\n",
       "      <td>CN</td>\n",
       "      <td>A</td>\n",
       "      <td>8.0</td>\n",
       "      <td>0</td>\n",
       "      <td>1</td>\n",
       "    </tr>\n",
       "    <tr>\n",
       "      <th>4</th>\n",
       "      <td>11602631</td>\n",
       "      <td>30</td>\n",
       "      <td>nan</td>\n",
       "      <td>C</td>\n",
       "      <td>B</td>\n",
       "      <td>11</td>\n",
       "      <td>21</td>\n",
       "      <td>43</td>\n",
       "      <td>9.661015</td>\n",
       "      <td>15.987683</td>\n",
       "      <td>40</td>\n",
       "      <td>2006075</td>\n",
       "      <td>6204320000</td>\n",
       "      <td>CN</td>\n",
       "      <td>CN</td>\n",
       "      <td>FCN1</td>\n",
       "      <td>5.2</td>\n",
       "      <td>1</td>\n",
       "      <td>1</td>\n",
       "    </tr>\n",
       "  </tbody>\n",
       "</table>\n",
       "</div>"
      ],
      "text/plain": [
       "       신고번호 통관지세관부호  특송업체부호 수입통관계획코드 수입신고구분코드 수입거래구분코드 수입종류코드 징수형태코드  \\\n",
       "0  57298928     121  TQ18AK        D        B       15     23     43   \n",
       "1  85092852      30     nan        C        B       11     21     11   \n",
       "2  63014158      20     nan        D        B       11     21     18   \n",
       "3  40175917      40     nan        C        B       94     21     43   \n",
       "4  11602631      30     nan        C        B       11     21     43   \n",
       "\n",
       "    신고중량(KG)   과세가격원화금액 운송수단유형코드 반입보세구역부호    HS10단위부호 적출국가코드 원산지국가코드 관세율구분코드  \\\n",
       "0   4.844187   8.593963       10  2106003  8481900000     US      US       A   \n",
       "1  10.303820  13.258812       40  4077010  2106909099     US      US       A   \n",
       "2  10.067242  10.862759       40  4077007  6307909000     US      US       A   \n",
       "3   9.429564  14.388527       40  4077106  6505009090     CN      CN       A   \n",
       "4   9.661015  15.987683       40  2006075  6204320000     CN      CN    FCN1   \n",
       "\n",
       "    관세율  우범여부 신고일자(월)  \n",
       "0   8.0     1       1  \n",
       "1   8.0     0       1  \n",
       "2  10.0     0       1  \n",
       "3   8.0     0       1  \n",
       "4   5.2     1       1  "
      ]
     },
     "execution_count": 19,
     "metadata": {},
     "output_type": "execute_result"
    }
   ],
   "source": [
    "df_org.head(5)"
   ]
  },
  {
   "cell_type": "markdown",
   "metadata": {},
   "source": [
    "## 2.2. 훈련데이터와 테스트데이터 분리 및 범주형 변수 전처리 "
   ]
  },
  {
   "cell_type": "code",
   "execution_count": 20,
   "metadata": {},
   "outputs": [],
   "source": [
    "# 날짜 순에 따라 90:10 으로 훈련 및 테스트 데이터 분리\n",
    "df_org_train = df_org.iloc[:int(len(df_org)*0.9), :]\n",
    "df_org_test = df_org.iloc[int(len(df_org)*0.9):, :]"
   ]
  },
  {
   "cell_type": "code",
   "execution_count": 21,
   "metadata": {},
   "outputs": [
    {
     "name": "stdout",
     "output_type": "stream",
     "text": [
      "(69153, 19) (7684, 19)\n"
     ]
    }
   ],
   "source": [
    "# 데이터 사이즈 확인\n",
    "print(df_org_train.shape, df_org_test.shape)"
   ]
  },
  {
   "cell_type": "code",
   "execution_count": 22,
   "metadata": {},
   "outputs": [
    {
     "data": {
      "text/plain": [
       "Index(['신고번호', '통관지세관부호', '특송업체부호', '수입통관계획코드', '수입신고구분코드', '수입거래구분코드',\n",
       "       '수입종류코드', '징수형태코드', '신고중량(KG)', '과세가격원화금액', '운송수단유형코드', '반입보세구역부호',\n",
       "       'HS10단위부호', '적출국가코드', '원산지국가코드', '관세율구분코드', '관세율', '우범여부', '신고일자(월)'],\n",
       "      dtype='object')"
      ]
     },
     "execution_count": 22,
     "metadata": {},
     "output_type": "execute_result"
    }
   ],
   "source": [
    "df_org.columns"
   ]
  },
  {
   "cell_type": "code",
   "execution_count": 23,
   "metadata": {},
   "outputs": [
    {
     "data": {
      "text/plain": [
       "(76837, 19)"
      ]
     },
     "execution_count": 23,
     "metadata": {},
     "output_type": "execute_result"
    }
   ],
   "source": [
    "df_org.shape"
   ]
  },
  {
   "cell_type": "code",
   "execution_count": 24,
   "metadata": {
    "scrolled": true
   },
   "outputs": [
    {
     "name": "stderr",
     "output_type": "stream",
     "text": [
      "<ipython-input-24-77cfbc4bf424>:11: SettingWithCopyWarning: \n",
      "A value is trying to be set on a copy of a slice from a DataFrame.\n",
      "Try using .loc[row_indexer,col_indexer] = value instead\n",
      "\n",
      "See the caveats in the documentation: https://pandas.pydata.org/pandas-docs/stable/user_guide/indexing.html#returning-a-view-versus-a-copy\n",
      "  df_org_train[var] = [label_encoding_ref[var][x] for x in df_org_train[var]]\n",
      "<ipython-input-24-77cfbc4bf424>:12: SettingWithCopyWarning: \n",
      "A value is trying to be set on a copy of a slice from a DataFrame.\n",
      "Try using .loc[row_indexer,col_indexer] = value instead\n",
      "\n",
      "See the caveats in the documentation: https://pandas.pydata.org/pandas-docs/stable/user_guide/indexing.html#returning-a-view-versus-a-copy\n",
      "  df_org_test[var] = [label_encoding_ref[var].get(x,0) for x in df_org_test[var]]\n"
     ]
    }
   ],
   "source": [
    "# 이 코드는 문제 : categorical 변수를 단순히 숫자로 mapping\n",
    "\n",
    "# 범주형 변수 전처리 1단계: label encoding --> 각 범주형 변수가 갖는 클래스에 고유의 식별번호 부여\n",
    "# 예) 수입자 상호: AAABB -> 1, 가나다라 -> 2, ...\n",
    "\n",
    "label_encoding_ref = {}\n",
    "for var in discrete_columns:\n",
    "    label_encoding_ref[var] = {code: i+1 for i, code in enumerate(df_org_train[var].unique())}\n",
    "    # 0 padding for unseen data in test\n",
    "    # print(label_encoding_ref[var])\n",
    "    df_org_train[var] = [label_encoding_ref[var][x] for x in df_org_train[var]]\n",
    "    df_org_test[var] = [label_encoding_ref[var].get(x,0) for x in df_org_test[var]]\n",
    "\n",
    "df_org_train.reset_index(drop=True, inplace=True)\n",
    "df_org_test.reset_index(drop=True, inplace=True)"
   ]
  },
  {
   "cell_type": "code",
   "execution_count": 25,
   "metadata": {
    "scrolled": false
   },
   "outputs": [
    {
     "data": {
      "text/html": [
       "<div>\n",
       "<style scoped>\n",
       "    .dataframe tbody tr th:only-of-type {\n",
       "        vertical-align: middle;\n",
       "    }\n",
       "\n",
       "    .dataframe tbody tr th {\n",
       "        vertical-align: top;\n",
       "    }\n",
       "\n",
       "    .dataframe thead th {\n",
       "        text-align: right;\n",
       "    }\n",
       "</style>\n",
       "<table border=\"1\" class=\"dataframe\">\n",
       "  <thead>\n",
       "    <tr style=\"text-align: right;\">\n",
       "      <th></th>\n",
       "      <th>신고번호</th>\n",
       "      <th>통관지세관부호</th>\n",
       "      <th>특송업체부호</th>\n",
       "      <th>수입통관계획코드</th>\n",
       "      <th>수입신고구분코드</th>\n",
       "      <th>수입거래구분코드</th>\n",
       "      <th>수입종류코드</th>\n",
       "      <th>징수형태코드</th>\n",
       "      <th>신고중량(KG)</th>\n",
       "      <th>과세가격원화금액</th>\n",
       "      <th>운송수단유형코드</th>\n",
       "      <th>반입보세구역부호</th>\n",
       "      <th>HS10단위부호</th>\n",
       "      <th>적출국가코드</th>\n",
       "      <th>원산지국가코드</th>\n",
       "      <th>관세율구분코드</th>\n",
       "      <th>관세율</th>\n",
       "      <th>우범여부</th>\n",
       "      <th>신고일자(월)</th>\n",
       "    </tr>\n",
       "  </thead>\n",
       "  <tbody>\n",
       "    <tr>\n",
       "      <th>36117</th>\n",
       "      <td>55574882</td>\n",
       "      <td>2</td>\n",
       "      <td>21</td>\n",
       "      <td>2</td>\n",
       "      <td>2</td>\n",
       "      <td>4</td>\n",
       "      <td>2</td>\n",
       "      <td>2</td>\n",
       "      <td>7.915823</td>\n",
       "      <td>11.942319</td>\n",
       "      <td>2</td>\n",
       "      <td>47</td>\n",
       "      <td>4</td>\n",
       "      <td>2</td>\n",
       "      <td>2</td>\n",
       "      <td>1</td>\n",
       "      <td>8.0</td>\n",
       "      <td>1</td>\n",
       "      <td>4</td>\n",
       "    </tr>\n",
       "    <tr>\n",
       "      <th>63765</th>\n",
       "      <td>19630676</td>\n",
       "      <td>4</td>\n",
       "      <td>2</td>\n",
       "      <td>2</td>\n",
       "      <td>1</td>\n",
       "      <td>2</td>\n",
       "      <td>2</td>\n",
       "      <td>1</td>\n",
       "      <td>9.708044</td>\n",
       "      <td>12.027974</td>\n",
       "      <td>2</td>\n",
       "      <td>40</td>\n",
       "      <td>25</td>\n",
       "      <td>2</td>\n",
       "      <td>2</td>\n",
       "      <td>1</td>\n",
       "      <td>8.0</td>\n",
       "      <td>0</td>\n",
       "      <td>8</td>\n",
       "    </tr>\n",
       "    <tr>\n",
       "      <th>42341</th>\n",
       "      <td>69514537</td>\n",
       "      <td>3</td>\n",
       "      <td>2</td>\n",
       "      <td>1</td>\n",
       "      <td>1</td>\n",
       "      <td>2</td>\n",
       "      <td>2</td>\n",
       "      <td>2</td>\n",
       "      <td>8.628574</td>\n",
       "      <td>12.534152</td>\n",
       "      <td>2</td>\n",
       "      <td>37</td>\n",
       "      <td>301</td>\n",
       "      <td>17</td>\n",
       "      <td>16</td>\n",
       "      <td>8</td>\n",
       "      <td>0.0</td>\n",
       "      <td>0</td>\n",
       "      <td>5</td>\n",
       "    </tr>\n",
       "  </tbody>\n",
       "</table>\n",
       "</div>"
      ],
      "text/plain": [
       "           신고번호  통관지세관부호  특송업체부호  수입통관계획코드  수입신고구분코드  수입거래구분코드  수입종류코드  \\\n",
       "36117  55574882        2      21         2         2         4       2   \n",
       "63765  19630676        4       2         2         1         2       2   \n",
       "42341  69514537        3       2         1         1         2       2   \n",
       "\n",
       "       징수형태코드  신고중량(KG)   과세가격원화금액  운송수단유형코드  반입보세구역부호  HS10단위부호  적출국가코드  \\\n",
       "36117       2  7.915823  11.942319         2        47         4       2   \n",
       "63765       1  9.708044  12.027974         2        40        25       2   \n",
       "42341       2  8.628574  12.534152         2        37       301      17   \n",
       "\n",
       "       원산지국가코드  관세율구분코드  관세율  우범여부  신고일자(월)  \n",
       "36117        2        1  8.0     1        4  \n",
       "63765        2        1  8.0     0        8  \n",
       "42341       16        8  0.0     0        5  "
      ]
     },
     "execution_count": 25,
     "metadata": {},
     "output_type": "execute_result"
    }
   ],
   "source": [
    "# 트레인데이터 샘플 확인\n",
    "df_org_train.sample(3)"
   ]
  },
  {
   "cell_type": "code",
   "execution_count": 26,
   "metadata": {},
   "outputs": [
    {
     "data": {
      "text/html": [
       "<div>\n",
       "<style scoped>\n",
       "    .dataframe tbody tr th:only-of-type {\n",
       "        vertical-align: middle;\n",
       "    }\n",
       "\n",
       "    .dataframe tbody tr th {\n",
       "        vertical-align: top;\n",
       "    }\n",
       "\n",
       "    .dataframe thead th {\n",
       "        text-align: right;\n",
       "    }\n",
       "</style>\n",
       "<table border=\"1\" class=\"dataframe\">\n",
       "  <thead>\n",
       "    <tr style=\"text-align: right;\">\n",
       "      <th></th>\n",
       "      <th>신고번호</th>\n",
       "      <th>통관지세관부호</th>\n",
       "      <th>특송업체부호</th>\n",
       "      <th>수입통관계획코드</th>\n",
       "      <th>수입신고구분코드</th>\n",
       "      <th>수입거래구분코드</th>\n",
       "      <th>수입종류코드</th>\n",
       "      <th>징수형태코드</th>\n",
       "      <th>신고중량(KG)</th>\n",
       "      <th>과세가격원화금액</th>\n",
       "      <th>운송수단유형코드</th>\n",
       "      <th>반입보세구역부호</th>\n",
       "      <th>HS10단위부호</th>\n",
       "      <th>적출국가코드</th>\n",
       "      <th>원산지국가코드</th>\n",
       "      <th>관세율구분코드</th>\n",
       "      <th>관세율</th>\n",
       "      <th>우범여부</th>\n",
       "      <th>신고일자(월)</th>\n",
       "    </tr>\n",
       "  </thead>\n",
       "  <tbody>\n",
       "    <tr>\n",
       "      <th>4405</th>\n",
       "      <td>33141931</td>\n",
       "      <td>4</td>\n",
       "      <td>60</td>\n",
       "      <td>1</td>\n",
       "      <td>1</td>\n",
       "      <td>4</td>\n",
       "      <td>5</td>\n",
       "      <td>3</td>\n",
       "      <td>8.198282</td>\n",
       "      <td>12.082910</td>\n",
       "      <td>1</td>\n",
       "      <td>82</td>\n",
       "      <td>135</td>\n",
       "      <td>2</td>\n",
       "      <td>2</td>\n",
       "      <td>7</td>\n",
       "      <td>9.1</td>\n",
       "      <td>1</td>\n",
       "      <td>9</td>\n",
       "    </tr>\n",
       "    <tr>\n",
       "      <th>3086</th>\n",
       "      <td>13367135</td>\n",
       "      <td>3</td>\n",
       "      <td>14</td>\n",
       "      <td>1</td>\n",
       "      <td>1</td>\n",
       "      <td>2</td>\n",
       "      <td>4</td>\n",
       "      <td>2</td>\n",
       "      <td>8.862399</td>\n",
       "      <td>11.966458</td>\n",
       "      <td>1</td>\n",
       "      <td>2</td>\n",
       "      <td>2</td>\n",
       "      <td>1</td>\n",
       "      <td>1</td>\n",
       "      <td>1</td>\n",
       "      <td>8.0</td>\n",
       "      <td>0</td>\n",
       "      <td>9</td>\n",
       "    </tr>\n",
       "    <tr>\n",
       "      <th>610</th>\n",
       "      <td>60320161</td>\n",
       "      <td>11</td>\n",
       "      <td>2</td>\n",
       "      <td>2</td>\n",
       "      <td>1</td>\n",
       "      <td>2</td>\n",
       "      <td>2</td>\n",
       "      <td>2</td>\n",
       "      <td>8.699015</td>\n",
       "      <td>14.811303</td>\n",
       "      <td>1</td>\n",
       "      <td>195</td>\n",
       "      <td>1495</td>\n",
       "      <td>36</td>\n",
       "      <td>39</td>\n",
       "      <td>32</td>\n",
       "      <td>0.0</td>\n",
       "      <td>0</td>\n",
       "      <td>9</td>\n",
       "    </tr>\n",
       "  </tbody>\n",
       "</table>\n",
       "</div>"
      ],
      "text/plain": [
       "          신고번호  통관지세관부호  특송업체부호  수입통관계획코드  수입신고구분코드  수입거래구분코드  수입종류코드  징수형태코드  \\\n",
       "4405  33141931        4      60         1         1         4       5       3   \n",
       "3086  13367135        3      14         1         1         2       4       2   \n",
       "610   60320161       11       2         2         1         2       2       2   \n",
       "\n",
       "      신고중량(KG)   과세가격원화금액  운송수단유형코드  반입보세구역부호  HS10단위부호  적출국가코드  원산지국가코드  \\\n",
       "4405  8.198282  12.082910         1        82       135       2        2   \n",
       "3086  8.862399  11.966458         1         2         2       1        1   \n",
       "610   8.699015  14.811303         1       195      1495      36       39   \n",
       "\n",
       "      관세율구분코드  관세율  우범여부  신고일자(월)  \n",
       "4405        7  9.1     1        9  \n",
       "3086        1  8.0     0        9  \n",
       "610        32  0.0     0        9  "
      ]
     },
     "execution_count": 26,
     "metadata": {},
     "output_type": "execute_result"
    }
   ],
   "source": [
    "# 테스트데이터 샘플 확인\n",
    "df_org_test.sample(3)"
   ]
  },
  {
   "cell_type": "code",
   "execution_count": 27,
   "metadata": {},
   "outputs": [],
   "source": [
    "# 아까 숫자로 변환시킨 것에서 ->one-hot-encoding\n",
    "# 예) A,B,C 3개의 클래스가 있는 범주형 변수를 다음과 같이 변환\n",
    "# A -> [1,0,0] / B -> [0,1,0] / C -> [0,0,1]\n",
    "\n",
    "# 원핫인코더 로딩\n",
    "from sklearn.preprocessing import  OneHotEncoder\n",
    "# 원핫인코더 활성화\n",
    "xgbohe = OneHotEncoder(categories=\"auto\", handle_unknown='ignore')\n",
    "# 훈련데이터: 범주형 변수만 분리하여 원핫인코딩 적용\n",
    "df_org_train_cat = xgbohe.fit_transform(df_org_train[discrete_columns])\n",
    "df_org_train_cat = pd.DataFrame(df_org_train_cat.toarray(), \n",
    "                                columns = xgbohe.get_feature_names(discrete_columns))\n",
    "# 수치형 변수 분리\n",
    "df_org_train_num = df_org_train[numeric_columns]\n",
    "\n",
    "# 원핫인코딩된 범주형 변수와 수치형 변수 재결합\n",
    "df_org_train = pd.concat([df_org_train_num, df_org_train_cat], axis=1)"
   ]
  },
  {
   "cell_type": "code",
   "execution_count": 28,
   "metadata": {},
   "outputs": [
    {
     "name": "stdout",
     "output_type": "stream",
     "text": [
      "<class 'pandas.core.frame.DataFrame'>\n",
      "RangeIndex: 69153 entries, 0 to 69152\n",
      "Columns: 3375 entries, 신고중량(KG) to 관세율구분코드_35\n",
      "dtypes: float64(3374), int64(1)\n",
      "memory usage: 1.7 GB\n"
     ]
    }
   ],
   "source": [
    "# 전체 정보 확인\n",
    "df_org_train.info()"
   ]
  },
  {
   "cell_type": "code",
   "execution_count": 29,
   "metadata": {},
   "outputs": [
    {
     "data": {
      "text/html": [
       "<div>\n",
       "<style scoped>\n",
       "    .dataframe tbody tr th:only-of-type {\n",
       "        vertical-align: middle;\n",
       "    }\n",
       "\n",
       "    .dataframe tbody tr th {\n",
       "        vertical-align: top;\n",
       "    }\n",
       "\n",
       "    .dataframe thead th {\n",
       "        text-align: right;\n",
       "    }\n",
       "</style>\n",
       "<table border=\"1\" class=\"dataframe\">\n",
       "  <thead>\n",
       "    <tr style=\"text-align: right;\">\n",
       "      <th></th>\n",
       "      <th>신고중량(KG)</th>\n",
       "      <th>과세가격원화금액</th>\n",
       "      <th>관세율</th>\n",
       "      <th>우범여부</th>\n",
       "      <th>신고일자(월)_1</th>\n",
       "      <th>신고일자(월)_2</th>\n",
       "      <th>신고일자(월)_3</th>\n",
       "      <th>신고일자(월)_4</th>\n",
       "      <th>신고일자(월)_5</th>\n",
       "      <th>신고일자(월)_6</th>\n",
       "      <th>...</th>\n",
       "      <th>관세율구분코드_26</th>\n",
       "      <th>관세율구분코드_27</th>\n",
       "      <th>관세율구분코드_28</th>\n",
       "      <th>관세율구분코드_29</th>\n",
       "      <th>관세율구분코드_30</th>\n",
       "      <th>관세율구분코드_31</th>\n",
       "      <th>관세율구분코드_32</th>\n",
       "      <th>관세율구분코드_33</th>\n",
       "      <th>관세율구분코드_34</th>\n",
       "      <th>관세율구분코드_35</th>\n",
       "    </tr>\n",
       "  </thead>\n",
       "  <tbody>\n",
       "    <tr>\n",
       "      <th>0</th>\n",
       "      <td>4.844187</td>\n",
       "      <td>8.593963</td>\n",
       "      <td>8.0</td>\n",
       "      <td>1</td>\n",
       "      <td>1.0</td>\n",
       "      <td>0.0</td>\n",
       "      <td>0.0</td>\n",
       "      <td>0.0</td>\n",
       "      <td>0.0</td>\n",
       "      <td>0.0</td>\n",
       "      <td>...</td>\n",
       "      <td>0.0</td>\n",
       "      <td>0.0</td>\n",
       "      <td>0.0</td>\n",
       "      <td>0.0</td>\n",
       "      <td>0.0</td>\n",
       "      <td>0.0</td>\n",
       "      <td>0.0</td>\n",
       "      <td>0.0</td>\n",
       "      <td>0.0</td>\n",
       "      <td>0.0</td>\n",
       "    </tr>\n",
       "  </tbody>\n",
       "</table>\n",
       "<p>1 rows × 3375 columns</p>\n",
       "</div>"
      ],
      "text/plain": [
       "   신고중량(KG)  과세가격원화금액  관세율  우범여부  신고일자(월)_1  신고일자(월)_2  신고일자(월)_3  신고일자(월)_4  \\\n",
       "0  4.844187  8.593963  8.0     1        1.0        0.0        0.0        0.0   \n",
       "\n",
       "   신고일자(월)_5  신고일자(월)_6  ...  관세율구분코드_26  관세율구분코드_27  관세율구분코드_28  관세율구분코드_29  \\\n",
       "0        0.0        0.0  ...         0.0         0.0         0.0         0.0   \n",
       "\n",
       "   관세율구분코드_30  관세율구분코드_31  관세율구분코드_32  관세율구분코드_33  관세율구분코드_34  관세율구분코드_35  \n",
       "0         0.0         0.0         0.0         0.0         0.0         0.0  \n",
       "\n",
       "[1 rows x 3375 columns]"
      ]
     },
     "execution_count": 29,
     "metadata": {},
     "output_type": "execute_result"
    }
   ],
   "source": [
    "# 훈련데이터 샘플 확인\n",
    "df_org_train.head(1)"
   ]
  },
  {
   "cell_type": "code",
   "execution_count": 31,
   "metadata": {},
   "outputs": [
    {
     "data": {
      "text/plain": [
       "Index(['통관지세관부호_28', '통관지세관부호_29', '통관지세관부호_30', '통관지세관부호_31', '통관지세관부호_32',\n",
       "       '통관지세관부호_33', '통관지세관부호_34', '통관지세관부호_35', '통관지세관부호_36', '통관지세관부호_37',\n",
       "       '통관지세관부호_38', '통관지세관부호_39', '통관지세관부호_40', '특송업체부호_1', '특송업체부호_2',\n",
       "       '특송업체부호_3', '특송업체부호_4', '특송업체부호_5', '특송업체부호_6', '특송업체부호_7'],\n",
       "      dtype='object')"
      ]
     },
     "execution_count": 31,
     "metadata": {},
     "output_type": "execute_result"
    }
   ],
   "source": [
    "df_org_train.columns[40:60]"
   ]
  },
  {
   "cell_type": "code",
   "execution_count": 32,
   "metadata": {},
   "outputs": [],
   "source": [
    "# 테스트데이터: 범주형 변수만 분리하여 원핫인코딩 적용\n",
    "df_org_test_cat = xgbohe.transform(df_org_test[discrete_columns])\n",
    "df_org_test_cat = pd.DataFrame(df_org_test_cat.toarray(), \n",
    "                               columns = xgbohe.get_feature_names(discrete_columns))\n",
    "# 수치형 변수 분리\n",
    "df_org_test_num = df_org_test[numeric_columns]\n",
    "# 원핫인코딩된 범주형 변수와 수치형 변수 재결합\n",
    "df_org_test = pd.concat([df_org_test_num, df_org_test_cat], axis=1)"
   ]
  },
  {
   "cell_type": "code",
   "execution_count": 33,
   "metadata": {
    "scrolled": true
   },
   "outputs": [
    {
     "data": {
      "text/html": [
       "<div>\n",
       "<style scoped>\n",
       "    .dataframe tbody tr th:only-of-type {\n",
       "        vertical-align: middle;\n",
       "    }\n",
       "\n",
       "    .dataframe tbody tr th {\n",
       "        vertical-align: top;\n",
       "    }\n",
       "\n",
       "    .dataframe thead th {\n",
       "        text-align: right;\n",
       "    }\n",
       "</style>\n",
       "<table border=\"1\" class=\"dataframe\">\n",
       "  <thead>\n",
       "    <tr style=\"text-align: right;\">\n",
       "      <th></th>\n",
       "      <th>신고중량(KG)</th>\n",
       "      <th>과세가격원화금액</th>\n",
       "      <th>관세율</th>\n",
       "      <th>우범여부</th>\n",
       "      <th>신고일자(월)_1</th>\n",
       "      <th>신고일자(월)_2</th>\n",
       "      <th>신고일자(월)_3</th>\n",
       "      <th>신고일자(월)_4</th>\n",
       "      <th>신고일자(월)_5</th>\n",
       "      <th>신고일자(월)_6</th>\n",
       "      <th>...</th>\n",
       "      <th>관세율구분코드_26</th>\n",
       "      <th>관세율구분코드_27</th>\n",
       "      <th>관세율구분코드_28</th>\n",
       "      <th>관세율구분코드_29</th>\n",
       "      <th>관세율구분코드_30</th>\n",
       "      <th>관세율구분코드_31</th>\n",
       "      <th>관세율구분코드_32</th>\n",
       "      <th>관세율구분코드_33</th>\n",
       "      <th>관세율구분코드_34</th>\n",
       "      <th>관세율구분코드_35</th>\n",
       "    </tr>\n",
       "  </thead>\n",
       "  <tbody>\n",
       "    <tr>\n",
       "      <th>0</th>\n",
       "      <td>8.63145</td>\n",
       "      <td>16.057899</td>\n",
       "      <td>0.0</td>\n",
       "      <td>1</td>\n",
       "      <td>0.0</td>\n",
       "      <td>0.0</td>\n",
       "      <td>0.0</td>\n",
       "      <td>0.0</td>\n",
       "      <td>0.0</td>\n",
       "      <td>0.0</td>\n",
       "      <td>...</td>\n",
       "      <td>0.0</td>\n",
       "      <td>0.0</td>\n",
       "      <td>0.0</td>\n",
       "      <td>0.0</td>\n",
       "      <td>0.0</td>\n",
       "      <td>0.0</td>\n",
       "      <td>0.0</td>\n",
       "      <td>0.0</td>\n",
       "      <td>0.0</td>\n",
       "      <td>0.0</td>\n",
       "    </tr>\n",
       "  </tbody>\n",
       "</table>\n",
       "<p>1 rows × 3375 columns</p>\n",
       "</div>"
      ],
      "text/plain": [
       "   신고중량(KG)   과세가격원화금액  관세율  우범여부  신고일자(월)_1  신고일자(월)_2  신고일자(월)_3  신고일자(월)_4  \\\n",
       "0   8.63145  16.057899  0.0     1        0.0        0.0        0.0        0.0   \n",
       "\n",
       "   신고일자(월)_5  신고일자(월)_6  ...  관세율구분코드_26  관세율구분코드_27  관세율구분코드_28  관세율구분코드_29  \\\n",
       "0        0.0        0.0  ...         0.0         0.0         0.0         0.0   \n",
       "\n",
       "   관세율구분코드_30  관세율구분코드_31  관세율구분코드_32  관세율구분코드_33  관세율구분코드_34  관세율구분코드_35  \n",
       "0         0.0         0.0         0.0         0.0         0.0         0.0  \n",
       "\n",
       "[1 rows x 3375 columns]"
      ]
     },
     "execution_count": 33,
     "metadata": {},
     "output_type": "execute_result"
    }
   ],
   "source": [
    "# 테스트데이터 샘플 확인\n",
    "df_org_test.head(1)"
   ]
  },
  {
   "cell_type": "code",
   "execution_count": 34,
   "metadata": {},
   "outputs": [],
   "source": [
    "# 모델예측 대상인 우범여부 변수 분리\n",
    "org_train_y = df_org_train.pop('우범여부')\n",
    "org_test_y = df_org_test.pop('우범여부')"
   ]
  },
  {
   "cell_type": "code",
   "execution_count": 35,
   "metadata": {},
   "outputs": [
    {
     "name": "stdout",
     "output_type": "stream",
     "text": [
      "훈련  데이터 비우범건수: 53371, 훈련  데이터 우범건수: 15782\n",
      "테스트데이터 비우범건수: 5894, 테스트데이터 우범건수: 1790\n"
     ]
    }
   ],
   "source": [
    "# 훈련데이터와 테스트데이터에서 우범건수 비교\n",
    "from collections import Counter\n",
    "cnt_train = Counter(org_train_y)\n",
    "cnt_test = Counter(org_test_y)\n",
    "\n",
    "print(f\"훈련  데이터 비우범건수: {cnt_train[0]}, 훈련  데이터 우범건수: {cnt_train[1]}\")\n",
    "print(f\"테스트데이터 비우범건수: {cnt_test[0]}, 테스트데이터 우범건수: {cnt_test[1]}\")"
   ]
  },
  {
   "cell_type": "markdown",
   "metadata": {},
   "source": [
    "# 3. 모델 생성 및 훈련 <a id='id3'></a>"
   ]
  },
  {
   "cell_type": "markdown",
   "metadata": {},
   "source": [
    "## 3.1. XGBoost 모델 생성"
   ]
  },
  {
   "cell_type": "code",
   "execution_count": 36,
   "metadata": {},
   "outputs": [],
   "source": [
    "# XGBoost 모델 생성\n",
    "from xgboost import XGBClassifier\n",
    "from sklearn.metrics import f1_score,roc_auc_score\n",
    "import warnings\n",
    "warnings.filterwarnings(\"ignore\")"
   ]
  },
  {
   "cell_type": "markdown",
   "metadata": {},
   "source": [
    "## 3.2. XGBoost 모델 훈련"
   ]
  },
  {
   "cell_type": "code",
   "execution_count": 37,
   "metadata": {},
   "outputs": [
    {
     "name": "stdout",
     "output_type": "stream",
     "text": [
      "[0]\tvalidation_0-logloss:0.59089\tvalidation_1-logloss:0.59171\n",
      "[1]\tvalidation_0-logloss:0.53650\tvalidation_1-logloss:0.53771\n",
      "[2]\tvalidation_0-logloss:0.50407\tvalidation_1-logloss:0.50506\n",
      "[3]\tvalidation_0-logloss:0.48384\tvalidation_1-logloss:0.48498\n",
      "[4]\tvalidation_0-logloss:0.47122\tvalidation_1-logloss:0.47304\n",
      "[5]\tvalidation_0-logloss:0.46233\tvalidation_1-logloss:0.46438\n",
      "[6]\tvalidation_0-logloss:0.45660\tvalidation_1-logloss:0.45936\n",
      "[7]\tvalidation_0-logloss:0.45012\tvalidation_1-logloss:0.45297\n",
      "[8]\tvalidation_0-logloss:0.44623\tvalidation_1-logloss:0.44882\n",
      "[9]\tvalidation_0-logloss:0.44121\tvalidation_1-logloss:0.44398\n"
     ]
    },
    {
     "data": {
      "text/plain": [
       "XGBClassifier(base_score=0.5, booster='gbtree', colsample_bylevel=1,\n",
       "              colsample_bynode=1, colsample_bytree=1, gamma=0, gpu_id=-1,\n",
       "              importance_type='gain', interaction_constraints='',\n",
       "              learning_rate=0.300000012, max_delta_step=0, max_depth=4,\n",
       "              min_child_weight=1, missing=nan, monotone_constraints='()',\n",
       "              n_estimators=10, n_jobs=-1, num_parallel_tree=1, random_state=0,\n",
       "              reg_alpha=0, reg_lambda=1, scale_pos_weight=1, subsample=1,\n",
       "              tree_method='exact', validate_parameters=1, verbosity=None)"
      ]
     },
     "execution_count": 37,
     "metadata": {},
     "output_type": "execute_result"
    }
   ],
   "source": [
    "# 모델 활성화 및 설정\n",
    "xgb_clf = XGBClassifier(n_estimators=10, max_depth=4,n_jobs=-1) #\n",
    "# 모델 훈련 시 성능평가 데이터 설정 (별도의 성능평가 데이터를 구성할 수도 있으나, 여기서는 그냥 테스트데이터를 사용)\n",
    "eval_set = [(df_org_train, org_train_y), (df_org_test, org_test_y)]\n",
    "# 모델 훈련 (training/fitting)\n",
    "xgb_clf.fit(df_org_train, org_train_y, eval_metric=[\"logloss\"], eval_set=eval_set, verbose=True)"
   ]
  },
  {
   "cell_type": "code",
   "execution_count": 38,
   "metadata": {},
   "outputs": [
    {
     "ename": "ModuleNotFoundError",
     "evalue": "No module named 'keras'",
     "output_type": "error",
     "traceback": [
      "\u001b[0;31m---------------------------------------------------------------------------\u001b[0m",
      "\u001b[0;31mModuleNotFoundError\u001b[0m                       Traceback (most recent call last)",
      "\u001b[0;32m<ipython-input-38-b1f0a1fa072b>\u001b[0m in \u001b[0;36m<module>\u001b[0;34m\u001b[0m\n\u001b[0;32m----> 1\u001b[0;31m \u001b[0;32mfrom\u001b[0m \u001b[0mkeras\u001b[0m\u001b[0;34m.\u001b[0m\u001b[0mutils\u001b[0m\u001b[0;34m.\u001b[0m\u001b[0mvis_utils\u001b[0m \u001b[0;32mimport\u001b[0m \u001b[0mplot_model\u001b[0m\u001b[0;34m\u001b[0m\u001b[0;34m\u001b[0m\u001b[0m\n\u001b[0m",
      "\u001b[0;31mModuleNotFoundError\u001b[0m: No module named 'keras'"
     ]
    }
   ],
   "source": [
    "from keras.utils.vis_utils import plot_model"
   ]
  },
  {
   "cell_type": "code",
   "execution_count": 32,
   "metadata": {},
   "outputs": [
    {
     "data": {
      "image/svg+xml": [
       "<?xml version=\"1.0\" encoding=\"UTF-8\" standalone=\"no\"?>\r\n",
       "<!DOCTYPE svg PUBLIC \"-//W3C//DTD SVG 1.1//EN\"\r\n",
       " \"http://www.w3.org/Graphics/SVG/1.1/DTD/svg11.dtd\">\r\n",
       "<!-- Generated by graphviz version 2.46.1 (20210213.1702)\r\n",
       " -->\r\n",
       "<!-- Pages: 1 -->\r\n",
       "<svg width=\"2723pt\" height=\"392pt\"\r\n",
       " viewBox=\"0.00 0.00 2723.39 392.00\" xmlns=\"http://www.w3.org/2000/svg\" xmlns:xlink=\"http://www.w3.org/1999/xlink\">\r\n",
       "<g id=\"graph0\" class=\"graph\" transform=\"scale(1 1) rotate(0) translate(4 388)\">\r\n",
       "<polygon fill=\"white\" stroke=\"transparent\" points=\"-4,4 -4,-388 2719.39,-388 2719.39,4 -4,4\"/>\r\n",
       "<!-- 0 -->\r\n",
       "<g id=\"node1\" class=\"node\">\r\n",
       "<title>0</title>\r\n",
       "<ellipse fill=\"none\" stroke=\"black\" cx=\"1437.99\" cy=\"-366\" rx=\"103.98\" ry=\"18\"/>\r\n",
       "<text text-anchor=\"middle\" x=\"1437.99\" y=\"-362.3\" font-family=\"Times New Roman,serif\" font-size=\"14.00\">적출국가코드_1&lt;0.5</text>\r\n",
       "</g>\r\n",
       "<!-- 1 -->\r\n",
       "<g id=\"node2\" class=\"node\">\r\n",
       "<title>1</title>\r\n",
       "<ellipse fill=\"none\" stroke=\"black\" cx=\"1024.99\" cy=\"-279\" rx=\"85.59\" ry=\"18\"/>\r\n",
       "<text text-anchor=\"middle\" x=\"1024.99\" y=\"-275.3\" font-family=\"Times New Roman,serif\" font-size=\"14.00\">신고일자_60&lt;0.5</text>\r\n",
       "</g>\r\n",
       "<!-- 0&#45;&gt;1 -->\r\n",
       "<g id=\"edge1\" class=\"edge\">\r\n",
       "<title>0&#45;&gt;1</title>\r\n",
       "<path fill=\"none\" stroke=\"#0000ff\" d=\"M1373.91,-351.81C1298.02,-336.19 1172.09,-310.27 1094.08,-294.22\"/>\r\n",
       "<polygon fill=\"#0000ff\" stroke=\"#0000ff\" points=\"1094.37,-290.7 1083.87,-292.12 1092.96,-297.56 1094.37,-290.7\"/>\r\n",
       "<text text-anchor=\"middle\" x=\"1291.49\" y=\"-318.8\" font-family=\"Times New Roman,serif\" font-size=\"14.00\">yes, missing</text>\r\n",
       "</g>\r\n",
       "<!-- 2 -->\r\n",
       "<g id=\"node3\" class=\"node\">\r\n",
       "<title>2</title>\r\n",
       "<ellipse fill=\"none\" stroke=\"black\" cx=\"1687.99\" cy=\"-279\" rx=\"96.68\" ry=\"18\"/>\r\n",
       "<text text-anchor=\"middle\" x=\"1687.99\" y=\"-275.3\" font-family=\"Times New Roman,serif\" font-size=\"14.00\">신고인부호_10&lt;0.5</text>\r\n",
       "</g>\r\n",
       "<!-- 0&#45;&gt;2 -->\r\n",
       "<g id=\"edge2\" class=\"edge\">\r\n",
       "<title>0&#45;&gt;2</title>\r\n",
       "<path fill=\"none\" stroke=\"#ff0000\" d=\"M1482.98,-349.71C1525.41,-335.28 1589.07,-313.63 1634.18,-298.3\"/>\r\n",
       "<polygon fill=\"#ff0000\" stroke=\"#ff0000\" points=\"1635.45,-301.56 1643.79,-295.03 1633.2,-294.93 1635.45,-301.56\"/>\r\n",
       "<text text-anchor=\"middle\" x=\"1585.49\" y=\"-318.8\" font-family=\"Times New Roman,serif\" font-size=\"14.00\">no</text>\r\n",
       "</g>\r\n",
       "<!-- 3 -->\r\n",
       "<g id=\"node4\" class=\"node\">\r\n",
       "<title>3</title>\r\n",
       "<ellipse fill=\"none\" stroke=\"black\" cx=\"557.99\" cy=\"-192\" rx=\"92.88\" ry=\"18\"/>\r\n",
       "<text text-anchor=\"middle\" x=\"557.99\" y=\"-188.3\" font-family=\"Times New Roman,serif\" font-size=\"14.00\">수입자부호_1&lt;0.5</text>\r\n",
       "</g>\r\n",
       "<!-- 1&#45;&gt;3 -->\r\n",
       "<g id=\"edge3\" class=\"edge\">\r\n",
       "<title>1&#45;&gt;3</title>\r\n",
       "<path fill=\"none\" stroke=\"#0000ff\" d=\"M962.5,-266.62C877.21,-251.1 724.56,-223.32 633.14,-206.68\"/>\r\n",
       "<polygon fill=\"#0000ff\" stroke=\"#0000ff\" points=\"633.59,-203.2 623.12,-204.85 632.33,-210.09 633.59,-203.2\"/>\r\n",
       "<text text-anchor=\"middle\" x=\"854.49\" y=\"-231.8\" font-family=\"Times New Roman,serif\" font-size=\"14.00\">yes, missing</text>\r\n",
       "</g>\r\n",
       "<!-- 4 -->\r\n",
       "<g id=\"node5\" class=\"node\">\r\n",
       "<title>4</title>\r\n",
       "<ellipse fill=\"none\" stroke=\"black\" cx=\"1024.99\" cy=\"-192\" rx=\"147.57\" ry=\"18\"/>\r\n",
       "<text text-anchor=\"middle\" x=\"1024.99\" y=\"-188.3\" font-family=\"Times New Roman,serif\" font-size=\"14.00\">과세가격원화금액&lt;8.67020321</text>\r\n",
       "</g>\r\n",
       "<!-- 1&#45;&gt;4 -->\r\n",
       "<g id=\"edge4\" class=\"edge\">\r\n",
       "<title>1&#45;&gt;4</title>\r\n",
       "<path fill=\"none\" stroke=\"#ff0000\" d=\"M1024.99,-260.8C1024.99,-249.16 1024.99,-233.55 1024.99,-220.24\"/>\r\n",
       "<polygon fill=\"#ff0000\" stroke=\"#ff0000\" points=\"1028.49,-220.18 1024.99,-210.18 1021.49,-220.18 1028.49,-220.18\"/>\r\n",
       "<text text-anchor=\"middle\" x=\"1032.49\" y=\"-231.8\" font-family=\"Times New Roman,serif\" font-size=\"14.00\">no</text>\r\n",
       "</g>\r\n",
       "<!-- 5 -->\r\n",
       "<g id=\"node18\" class=\"node\">\r\n",
       "<title>5</title>\r\n",
       "<ellipse fill=\"none\" stroke=\"black\" cx=\"1687.99\" cy=\"-192\" rx=\"92.88\" ry=\"18\"/>\r\n",
       "<text text-anchor=\"middle\" x=\"1687.99\" y=\"-188.3\" font-family=\"Times New Roman,serif\" font-size=\"14.00\">수입자부호_1&lt;0.5</text>\r\n",
       "</g>\r\n",
       "<!-- 2&#45;&gt;5 -->\r\n",
       "<g id=\"edge17\" class=\"edge\">\r\n",
       "<title>2&#45;&gt;5</title>\r\n",
       "<path fill=\"none\" stroke=\"#0000ff\" d=\"M1687.99,-260.8C1687.99,-249.16 1687.99,-233.55 1687.99,-220.24\"/>\r\n",
       "<polygon fill=\"#0000ff\" stroke=\"#0000ff\" points=\"1691.49,-220.18 1687.99,-210.18 1684.49,-220.18 1691.49,-220.18\"/>\r\n",
       "<text text-anchor=\"middle\" x=\"1722.49\" y=\"-231.8\" font-family=\"Times New Roman,serif\" font-size=\"14.00\">yes, missing</text>\r\n",
       "</g>\r\n",
       "<!-- 6 -->\r\n",
       "<g id=\"node19\" class=\"node\">\r\n",
       "<title>6</title>\r\n",
       "<ellipse fill=\"none\" stroke=\"black\" cx=\"2178.99\" cy=\"-192\" rx=\"85.59\" ry=\"18\"/>\r\n",
       "<text text-anchor=\"middle\" x=\"2178.99\" y=\"-188.3\" font-family=\"Times New Roman,serif\" font-size=\"14.00\">신고일자_94&lt;0.5</text>\r\n",
       "</g>\r\n",
       "<!-- 2&#45;&gt;6 -->\r\n",
       "<g id=\"edge18\" class=\"edge\">\r\n",
       "<title>2&#45;&gt;6</title>\r\n",
       "<path fill=\"none\" stroke=\"#ff0000\" d=\"M1756.26,-266.18C1848.04,-250.29 2010.59,-222.15 2105.14,-205.79\"/>\r\n",
       "<polygon fill=\"#ff0000\" stroke=\"#ff0000\" points=\"2105.94,-209.2 2115.2,-204.04 2104.75,-202.3 2105.94,-209.2\"/>\r\n",
       "<text text-anchor=\"middle\" x=\"1970.49\" y=\"-231.8\" font-family=\"Times New Roman,serif\" font-size=\"14.00\">no</text>\r\n",
       "</g>\r\n",
       "<!-- 7 -->\r\n",
       "<g id=\"node6\" class=\"node\">\r\n",
       "<title>7</title>\r\n",
       "<ellipse fill=\"none\" stroke=\"black\" cx=\"248.99\" cy=\"-105\" rx=\"135.38\" ry=\"18\"/>\r\n",
       "<text text-anchor=\"middle\" x=\"248.99\" y=\"-101.3\" font-family=\"Times New Roman,serif\" font-size=\"14.00\">반입보세구역부호_429&lt;0.5</text>\r\n",
       "</g>\r\n",
       "<!-- 3&#45;&gt;7 -->\r\n",
       "<g id=\"edge5\" class=\"edge\">\r\n",
       "<title>3&#45;&gt;7</title>\r\n",
       "<path fill=\"none\" stroke=\"#0000ff\" d=\"M506.62,-176.87C453.98,-162.39 371.94,-139.82 314.62,-124.05\"/>\r\n",
       "<polygon fill=\"#0000ff\" stroke=\"#0000ff\" points=\"315.5,-120.67 304.93,-121.39 313.65,-127.42 315.5,-120.67\"/>\r\n",
       "<text text-anchor=\"middle\" x=\"457.49\" y=\"-144.8\" font-family=\"Times New Roman,serif\" font-size=\"14.00\">yes, missing</text>\r\n",
       "</g>\r\n",
       "<!-- 8 -->\r\n",
       "<g id=\"node7\" class=\"node\">\r\n",
       "<title>8</title>\r\n",
       "<ellipse fill=\"none\" stroke=\"black\" cx=\"557.99\" cy=\"-105\" rx=\"119.68\" ry=\"18\"/>\r\n",
       "<text text-anchor=\"middle\" x=\"557.99\" y=\"-101.3\" font-family=\"Times New Roman,serif\" font-size=\"14.00\">통관지세관부호_10&lt;0.5</text>\r\n",
       "</g>\r\n",
       "<!-- 3&#45;&gt;8 -->\r\n",
       "<g id=\"edge6\" class=\"edge\">\r\n",
       "<title>3&#45;&gt;8</title>\r\n",
       "<path fill=\"none\" stroke=\"#ff0000\" d=\"M557.99,-173.8C557.99,-162.16 557.99,-146.55 557.99,-133.24\"/>\r\n",
       "<polygon fill=\"#ff0000\" stroke=\"#ff0000\" points=\"561.49,-133.18 557.99,-123.18 554.49,-133.18 561.49,-133.18\"/>\r\n",
       "<text text-anchor=\"middle\" x=\"565.49\" y=\"-144.8\" font-family=\"Times New Roman,serif\" font-size=\"14.00\">no</text>\r\n",
       "</g>\r\n",
       "<!-- 9 -->\r\n",
       "<g id=\"node12\" class=\"node\">\r\n",
       "<title>9</title>\r\n",
       "<ellipse fill=\"none\" stroke=\"black\" cx=\"905.99\" cy=\"-105\" rx=\"108.58\" ry=\"18\"/>\r\n",
       "<text text-anchor=\"middle\" x=\"905.99\" y=\"-101.3\" font-family=\"Times New Roman,serif\" font-size=\"14.00\">적출국가코드_32&lt;0.5</text>\r\n",
       "</g>\r\n",
       "<!-- 4&#45;&gt;9 -->\r\n",
       "<g id=\"edge11\" class=\"edge\">\r\n",
       "<title>4&#45;&gt;9</title>\r\n",
       "<path fill=\"none\" stroke=\"#0000ff\" d=\"M1001.48,-174.21C983.23,-161.17 957.73,-142.96 937.68,-128.63\"/>\r\n",
       "<polygon fill=\"#0000ff\" stroke=\"#0000ff\" points=\"939.63,-125.72 929.45,-122.76 935.56,-131.42 939.63,-125.72\"/>\r\n",
       "<text text-anchor=\"middle\" x=\"1007.49\" y=\"-144.8\" font-family=\"Times New Roman,serif\" font-size=\"14.00\">yes, missing</text>\r\n",
       "</g>\r\n",
       "<!-- 10 -->\r\n",
       "<g id=\"node13\" class=\"node\">\r\n",
       "<title>10</title>\r\n",
       "<ellipse fill=\"none\" stroke=\"black\" cx=\"1136.99\" cy=\"-105\" rx=\"103.98\" ry=\"18\"/>\r\n",
       "<text text-anchor=\"middle\" x=\"1136.99\" y=\"-101.3\" font-family=\"Times New Roman,serif\" font-size=\"14.00\">적출국가코드_2&lt;0.5</text>\r\n",
       "</g>\r\n",
       "<!-- 4&#45;&gt;10 -->\r\n",
       "<g id=\"edge12\" class=\"edge\">\r\n",
       "<title>4&#45;&gt;10</title>\r\n",
       "<path fill=\"none\" stroke=\"#ff0000\" d=\"M1047.39,-174C1064.44,-161.06 1088.08,-143.12 1106.8,-128.91\"/>\r\n",
       "<polygon fill=\"#ff0000\" stroke=\"#ff0000\" points=\"1109.17,-131.51 1115.02,-122.68 1104.94,-125.94 1109.17,-131.51\"/>\r\n",
       "<text text-anchor=\"middle\" x=\"1095.49\" y=\"-144.8\" font-family=\"Times New Roman,serif\" font-size=\"14.00\">no</text>\r\n",
       "</g>\r\n",
       "<!-- 15 -->\r\n",
       "<g id=\"node8\" class=\"node\">\r\n",
       "<title>15</title>\r\n",
       "<ellipse fill=\"none\" stroke=\"black\" cx=\"77.99\" cy=\"-18\" rx=\"77.99\" ry=\"18\"/>\r\n",
       "<text text-anchor=\"middle\" x=\"77.99\" y=\"-14.3\" font-family=\"Times New Roman,serif\" font-size=\"14.00\">leaf=&#45;0.183703274</text>\r\n",
       "</g>\r\n",
       "<!-- 7&#45;&gt;15 -->\r\n",
       "<g id=\"edge7\" class=\"edge\">\r\n",
       "<title>7&#45;&gt;15</title>\r\n",
       "<path fill=\"none\" stroke=\"#0000ff\" d=\"M214,-87.44C201.93,-81.67 188.34,-75.11 175.99,-69 156.6,-59.41 135.19,-48.52 117.34,-39.35\"/>\r\n",
       "<polygon fill=\"#0000ff\" stroke=\"#0000ff\" points=\"118.85,-36.19 108.35,-34.73 115.65,-42.42 118.85,-36.19\"/>\r\n",
       "<text text-anchor=\"middle\" x=\"210.49\" y=\"-57.8\" font-family=\"Times New Roman,serif\" font-size=\"14.00\">yes, missing</text>\r\n",
       "</g>\r\n",
       "<!-- 16 -->\r\n",
       "<g id=\"node9\" class=\"node\">\r\n",
       "<title>16</title>\r\n",
       "<ellipse fill=\"none\" stroke=\"black\" cx=\"248.99\" cy=\"-18\" rx=\"75.29\" ry=\"18\"/>\r\n",
       "<text text-anchor=\"middle\" x=\"248.99\" y=\"-14.3\" font-family=\"Times New Roman,serif\" font-size=\"14.00\">leaf=0.400000036</text>\r\n",
       "</g>\r\n",
       "<!-- 7&#45;&gt;16 -->\r\n",
       "<g id=\"edge8\" class=\"edge\">\r\n",
       "<title>7&#45;&gt;16</title>\r\n",
       "<path fill=\"none\" stroke=\"#ff0000\" d=\"M248.99,-86.8C248.99,-75.16 248.99,-59.55 248.99,-46.24\"/>\r\n",
       "<polygon fill=\"#ff0000\" stroke=\"#ff0000\" points=\"252.49,-46.18 248.99,-36.18 245.49,-46.18 252.49,-46.18\"/>\r\n",
       "<text text-anchor=\"middle\" x=\"256.49\" y=\"-57.8\" font-family=\"Times New Roman,serif\" font-size=\"14.00\">no</text>\r\n",
       "</g>\r\n",
       "<!-- 17 -->\r\n",
       "<g id=\"node10\" class=\"node\">\r\n",
       "<title>17</title>\r\n",
       "<ellipse fill=\"none\" stroke=\"black\" cx=\"419.99\" cy=\"-18\" rx=\"77.99\" ry=\"18\"/>\r\n",
       "<text text-anchor=\"middle\" x=\"419.99\" y=\"-14.3\" font-family=\"Times New Roman,serif\" font-size=\"14.00\">leaf=&#45;0.249669746</text>\r\n",
       "</g>\r\n",
       "<!-- 8&#45;&gt;17 -->\r\n",
       "<g id=\"edge9\" class=\"edge\">\r\n",
       "<title>8&#45;&gt;17</title>\r\n",
       "<path fill=\"none\" stroke=\"#0000ff\" d=\"M531.02,-87.46C521.53,-81.63 510.78,-75.03 500.99,-69 485.73,-59.6 468.85,-49.19 454.48,-40.31\"/>\r\n",
       "<polygon fill=\"#0000ff\" stroke=\"#0000ff\" points=\"456.23,-37.28 445.88,-35 452.55,-43.24 456.23,-37.28\"/>\r\n",
       "<text text-anchor=\"middle\" x=\"535.49\" y=\"-57.8\" font-family=\"Times New Roman,serif\" font-size=\"14.00\">yes, missing</text>\r\n",
       "</g>\r\n",
       "<!-- 18 -->\r\n",
       "<g id=\"node11\" class=\"node\">\r\n",
       "<title>18</title>\r\n",
       "<ellipse fill=\"none\" stroke=\"black\" cx=\"593.99\" cy=\"-18\" rx=\"77.99\" ry=\"18\"/>\r\n",
       "<text text-anchor=\"middle\" x=\"593.99\" y=\"-14.3\" font-family=\"Times New Roman,serif\" font-size=\"14.00\">leaf=&#45;0.534000039</text>\r\n",
       "</g>\r\n",
       "<!-- 8&#45;&gt;18 -->\r\n",
       "<g id=\"edge10\" class=\"edge\">\r\n",
       "<title>8&#45;&gt;18</title>\r\n",
       "<path fill=\"none\" stroke=\"#ff0000\" d=\"M565.28,-86.8C570.3,-74.93 577.08,-58.93 582.79,-45.45\"/>\r\n",
       "<polygon fill=\"#ff0000\" stroke=\"#ff0000\" points=\"586.04,-46.75 586.72,-36.18 579.6,-44.02 586.04,-46.75\"/>\r\n",
       "<text text-anchor=\"middle\" x=\"586.49\" y=\"-57.8\" font-family=\"Times New Roman,serif\" font-size=\"14.00\">no</text>\r\n",
       "</g>\r\n",
       "<!-- 19 -->\r\n",
       "<g id=\"node14\" class=\"node\">\r\n",
       "<title>19</title>\r\n",
       "<ellipse fill=\"none\" stroke=\"black\" cx=\"764.99\" cy=\"-18\" rx=\"75.29\" ry=\"18\"/>\r\n",
       "<text text-anchor=\"middle\" x=\"764.99\" y=\"-14.3\" font-family=\"Times New Roman,serif\" font-size=\"14.00\">leaf=0.180487812</text>\r\n",
       "</g>\r\n",
       "<!-- 9&#45;&gt;19 -->\r\n",
       "<g id=\"edge13\" class=\"edge\">\r\n",
       "<title>9&#45;&gt;19</title>\r\n",
       "<path fill=\"none\" stroke=\"#0000ff\" d=\"M878.04,-87.51C868.21,-81.69 857.1,-75.08 846.99,-69 831.49,-59.68 814.4,-49.28 799.86,-40.39\"/>\r\n",
       "<polygon fill=\"#0000ff\" stroke=\"#0000ff\" points=\"801.52,-37.3 791.16,-35.07 797.87,-43.27 801.52,-37.3\"/>\r\n",
       "<text text-anchor=\"middle\" x=\"881.49\" y=\"-57.8\" font-family=\"Times New Roman,serif\" font-size=\"14.00\">yes, missing</text>\r\n",
       "</g>\r\n",
       "<!-- 20 -->\r\n",
       "<g id=\"node15\" class=\"node\">\r\n",
       "<title>20</title>\r\n",
       "<ellipse fill=\"none\" stroke=\"black\" cx=\"935.99\" cy=\"-18\" rx=\"77.99\" ry=\"18\"/>\r\n",
       "<text text-anchor=\"middle\" x=\"935.99\" y=\"-14.3\" font-family=\"Times New Roman,serif\" font-size=\"14.00\">leaf=&#45;0.163636371</text>\r\n",
       "</g>\r\n",
       "<!-- 9&#45;&gt;20 -->\r\n",
       "<g id=\"edge14\" class=\"edge\">\r\n",
       "<title>9&#45;&gt;20</title>\r\n",
       "<path fill=\"none\" stroke=\"#ff0000\" d=\"M912.06,-86.8C916.21,-75.05 921.79,-59.24 926.52,-45.84\"/>\r\n",
       "<polygon fill=\"#ff0000\" stroke=\"#ff0000\" points=\"929.9,-46.77 929.93,-36.18 923.3,-44.44 929.9,-46.77\"/>\r\n",
       "<text text-anchor=\"middle\" x=\"930.49\" y=\"-57.8\" font-family=\"Times New Roman,serif\" font-size=\"14.00\">no</text>\r\n",
       "</g>\r\n",
       "<!-- 21 -->\r\n",
       "<g id=\"node16\" class=\"node\">\r\n",
       "<title>21</title>\r\n",
       "<ellipse fill=\"none\" stroke=\"black\" cx=\"1106.99\" cy=\"-18\" rx=\"75.29\" ry=\"18\"/>\r\n",
       "<text text-anchor=\"middle\" x=\"1106.99\" y=\"-14.3\" font-family=\"Times New Roman,serif\" font-size=\"14.00\">leaf=0.150000006</text>\r\n",
       "</g>\r\n",
       "<!-- 10&#45;&gt;21 -->\r\n",
       "<g id=\"edge15\" class=\"edge\">\r\n",
       "<title>10&#45;&gt;21</title>\r\n",
       "<path fill=\"none\" stroke=\"#0000ff\" d=\"M1130.92,-86.8C1126.77,-75.05 1121.19,-59.24 1116.47,-45.84\"/>\r\n",
       "<polygon fill=\"#0000ff\" stroke=\"#0000ff\" points=\"1119.68,-44.44 1113.05,-36.18 1113.08,-46.77 1119.68,-44.44\"/>\r\n",
       "<text text-anchor=\"middle\" x=\"1158.49\" y=\"-57.8\" font-family=\"Times New Roman,serif\" font-size=\"14.00\">yes, missing</text>\r\n",
       "</g>\r\n",
       "<!-- 22 -->\r\n",
       "<g id=\"node17\" class=\"node\">\r\n",
       "<title>22</title>\r\n",
       "<ellipse fill=\"none\" stroke=\"black\" cx=\"1275.99\" cy=\"-18\" rx=\"75.29\" ry=\"18\"/>\r\n",
       "<text text-anchor=\"middle\" x=\"1275.99\" y=\"-14.3\" font-family=\"Times New Roman,serif\" font-size=\"14.00\">leaf=0.533333361</text>\r\n",
       "</g>\r\n",
       "<!-- 10&#45;&gt;22 -->\r\n",
       "<g id=\"edge16\" class=\"edge\">\r\n",
       "<title>10&#45;&gt;22</title>\r\n",
       "<path fill=\"none\" stroke=\"#ff0000\" d=\"M1165.5,-87.65C1175.51,-81.84 1186.79,-75.2 1196.99,-69 1211.9,-59.94 1228.21,-49.68 1242.12,-40.82\"/>\r\n",
       "<polygon fill=\"#ff0000\" stroke=\"#ff0000\" points=\"1244.33,-43.55 1250.88,-35.22 1240.57,-37.66 1244.33,-43.55\"/>\r\n",
       "<text text-anchor=\"middle\" x=\"1229.49\" y=\"-57.8\" font-family=\"Times New Roman,serif\" font-size=\"14.00\">no</text>\r\n",
       "</g>\r\n",
       "<!-- 11 -->\r\n",
       "<g id=\"node20\" class=\"node\">\r\n",
       "<title>11</title>\r\n",
       "<ellipse fill=\"none\" stroke=\"black\" cx=\"1569.99\" cy=\"-105\" rx=\"130.78\" ry=\"18\"/>\r\n",
       "<text text-anchor=\"middle\" x=\"1569.99\" y=\"-101.3\" font-family=\"Times New Roman,serif\" font-size=\"14.00\">반입보세구역부호_22&lt;0.5</text>\r\n",
       "</g>\r\n",
       "<!-- 5&#45;&gt;11 -->\r\n",
       "<g id=\"edge19\" class=\"edge\">\r\n",
       "<title>5&#45;&gt;11</title>\r\n",
       "<path fill=\"none\" stroke=\"#0000ff\" d=\"M1664.96,-174.41C1646.89,-161.39 1621.53,-143.12 1601.56,-128.74\"/>\r\n",
       "<polygon fill=\"#0000ff\" stroke=\"#0000ff\" points=\"1603.53,-125.84 1593.37,-122.84 1599.44,-131.52 1603.53,-125.84\"/>\r\n",
       "<text text-anchor=\"middle\" x=\"1671.49\" y=\"-144.8\" font-family=\"Times New Roman,serif\" font-size=\"14.00\">yes, missing</text>\r\n",
       "</g>\r\n",
       "<!-- 12 -->\r\n",
       "<g id=\"node21\" class=\"node\">\r\n",
       "<title>12</title>\r\n",
       "<ellipse fill=\"none\" stroke=\"black\" cx=\"1844.99\" cy=\"-105\" rx=\"126.18\" ry=\"18\"/>\r\n",
       "<text text-anchor=\"middle\" x=\"1844.99\" y=\"-101.3\" font-family=\"Times New Roman,serif\" font-size=\"14.00\">수입거래구분코드_2&lt;0.5</text>\r\n",
       "</g>\r\n",
       "<!-- 5&#45;&gt;12 -->\r\n",
       "<g id=\"edge20\" class=\"edge\">\r\n",
       "<title>5&#45;&gt;12</title>\r\n",
       "<path fill=\"none\" stroke=\"#ff0000\" d=\"M1717.89,-174.81C1742.75,-161.35 1778.33,-142.09 1805.53,-127.37\"/>\r\n",
       "<polygon fill=\"#ff0000\" stroke=\"#ff0000\" points=\"1807.27,-130.4 1814.4,-122.56 1803.94,-124.25 1807.27,-130.4\"/>\r\n",
       "<text text-anchor=\"middle\" x=\"1783.49\" y=\"-144.8\" font-family=\"Times New Roman,serif\" font-size=\"14.00\">no</text>\r\n",
       "</g>\r\n",
       "<!-- 13 -->\r\n",
       "<g id=\"node26\" class=\"node\">\r\n",
       "<title>13</title>\r\n",
       "<ellipse fill=\"none\" stroke=\"black\" cx=\"2178.99\" cy=\"-105\" rx=\"85.59\" ry=\"18\"/>\r\n",
       "<text text-anchor=\"middle\" x=\"2178.99\" y=\"-101.3\" font-family=\"Times New Roman,serif\" font-size=\"14.00\">신고일자_41&lt;0.5</text>\r\n",
       "</g>\r\n",
       "<!-- 6&#45;&gt;13 -->\r\n",
       "<g id=\"edge25\" class=\"edge\">\r\n",
       "<title>6&#45;&gt;13</title>\r\n",
       "<path fill=\"none\" stroke=\"#0000ff\" d=\"M2178.99,-173.8C2178.99,-162.16 2178.99,-146.55 2178.99,-133.24\"/>\r\n",
       "<polygon fill=\"#0000ff\" stroke=\"#0000ff\" points=\"2182.49,-133.18 2178.99,-123.18 2175.49,-133.18 2182.49,-133.18\"/>\r\n",
       "<text text-anchor=\"middle\" x=\"2213.49\" y=\"-144.8\" font-family=\"Times New Roman,serif\" font-size=\"14.00\">yes, missing</text>\r\n",
       "</g>\r\n",
       "<!-- 14 -->\r\n",
       "<g id=\"node27\" class=\"node\">\r\n",
       "<title>14</title>\r\n",
       "<ellipse fill=\"none\" stroke=\"black\" cx=\"2468.99\" cy=\"-105\" rx=\"147.57\" ry=\"18\"/>\r\n",
       "<text text-anchor=\"middle\" x=\"2468.99\" y=\"-101.3\" font-family=\"Times New Roman,serif\" font-size=\"14.00\">과세가격원화금액&lt;7.05266666</text>\r\n",
       "</g>\r\n",
       "<!-- 6&#45;&gt;14 -->\r\n",
       "<g id=\"edge26\" class=\"edge\">\r\n",
       "<title>6&#45;&gt;14</title>\r\n",
       "<path fill=\"none\" stroke=\"#ff0000\" d=\"M2226.88,-176.96C2275.65,-162.67 2351.54,-140.43 2405.34,-124.66\"/>\r\n",
       "<polygon fill=\"#ff0000\" stroke=\"#ff0000\" points=\"2406.5,-127.96 2415.12,-121.79 2404.53,-121.25 2406.5,-127.96\"/>\r\n",
       "<text text-anchor=\"middle\" x=\"2349.49\" y=\"-144.8\" font-family=\"Times New Roman,serif\" font-size=\"14.00\">no</text>\r\n",
       "</g>\r\n",
       "<!-- 23 -->\r\n",
       "<g id=\"node22\" class=\"node\">\r\n",
       "<title>23</title>\r\n",
       "<ellipse fill=\"none\" stroke=\"black\" cx=\"1446.99\" cy=\"-18\" rx=\"77.99\" ry=\"18\"/>\r\n",
       "<text text-anchor=\"middle\" x=\"1446.99\" y=\"-14.3\" font-family=\"Times New Roman,serif\" font-size=\"14.00\">leaf=&#45;0.213944674</text>\r\n",
       "</g>\r\n",
       "<!-- 11&#45;&gt;23 -->\r\n",
       "<g id=\"edge21\" class=\"edge\">\r\n",
       "<title>11&#45;&gt;23</title>\r\n",
       "<path fill=\"none\" stroke=\"#0000ff\" d=\"M1545.69,-87.21C1526.49,-73.94 1499.55,-55.32 1478.66,-40.88\"/>\r\n",
       "<polygon fill=\"#0000ff\" stroke=\"#0000ff\" points=\"1480.63,-37.99 1470.41,-35.18 1476.65,-43.75 1480.63,-37.99\"/>\r\n",
       "<text text-anchor=\"middle\" x=\"1550.49\" y=\"-57.8\" font-family=\"Times New Roman,serif\" font-size=\"14.00\">yes, missing</text>\r\n",
       "</g>\r\n",
       "<!-- 24 -->\r\n",
       "<g id=\"node23\" class=\"node\">\r\n",
       "<title>24</title>\r\n",
       "<ellipse fill=\"none\" stroke=\"black\" cx=\"1620.99\" cy=\"-18\" rx=\"77.99\" ry=\"18\"/>\r\n",
       "<text text-anchor=\"middle\" x=\"1620.99\" y=\"-14.3\" font-family=\"Times New Roman,serif\" font-size=\"14.00\">leaf=&#45;0.482679009</text>\r\n",
       "</g>\r\n",
       "<!-- 11&#45;&gt;24 -->\r\n",
       "<g id=\"edge22\" class=\"edge\">\r\n",
       "<title>11&#45;&gt;24</title>\r\n",
       "<path fill=\"none\" stroke=\"#ff0000\" d=\"M1580.31,-86.8C1587.55,-74.74 1597.35,-58.4 1605.52,-44.79\"/>\r\n",
       "<polygon fill=\"#ff0000\" stroke=\"#ff0000\" points=\"1608.72,-46.26 1610.86,-35.89 1602.72,-42.66 1608.72,-46.26\"/>\r\n",
       "<text text-anchor=\"middle\" x=\"1606.49\" y=\"-57.8\" font-family=\"Times New Roman,serif\" font-size=\"14.00\">no</text>\r\n",
       "</g>\r\n",
       "<!-- 25 -->\r\n",
       "<g id=\"node24\" class=\"node\">\r\n",
       "<title>25</title>\r\n",
       "<ellipse fill=\"none\" stroke=\"black\" cx=\"1794.99\" cy=\"-18\" rx=\"77.99\" ry=\"18\"/>\r\n",
       "<text text-anchor=\"middle\" x=\"1794.99\" y=\"-14.3\" font-family=\"Times New Roman,serif\" font-size=\"14.00\">leaf=&#45;0.555516243</text>\r\n",
       "</g>\r\n",
       "<!-- 12&#45;&gt;25 -->\r\n",
       "<g id=\"edge23\" class=\"edge\">\r\n",
       "<title>12&#45;&gt;25</title>\r\n",
       "<path fill=\"none\" stroke=\"#0000ff\" d=\"M1834.87,-86.8C1827.78,-74.74 1818.17,-58.4 1810.16,-44.79\"/>\r\n",
       "<polygon fill=\"#0000ff\" stroke=\"#0000ff\" points=\"1813.01,-42.73 1804.93,-35.89 1806.98,-46.28 1813.01,-42.73\"/>\r\n",
       "<text text-anchor=\"middle\" x=\"1857.49\" y=\"-57.8\" font-family=\"Times New Roman,serif\" font-size=\"14.00\">yes, missing</text>\r\n",
       "</g>\r\n",
       "<!-- 26 -->\r\n",
       "<g id=\"node25\" class=\"node\">\r\n",
       "<title>26</title>\r\n",
       "<ellipse fill=\"none\" stroke=\"black\" cx=\"1968.99\" cy=\"-18\" rx=\"77.99\" ry=\"18\"/>\r\n",
       "<text text-anchor=\"middle\" x=\"1968.99\" y=\"-14.3\" font-family=\"Times New Roman,serif\" font-size=\"14.00\">leaf=&#45;0.428874403</text>\r\n",
       "</g>\r\n",
       "<!-- 12&#45;&gt;26 -->\r\n",
       "<g id=\"edge24\" class=\"edge\">\r\n",
       "<title>12&#45;&gt;26</title>\r\n",
       "<path fill=\"none\" stroke=\"#ff0000\" d=\"M1869.49,-87.21C1888.85,-73.94 1916.01,-55.32 1937.07,-40.88\"/>\r\n",
       "<polygon fill=\"#ff0000\" stroke=\"#ff0000\" points=\"1939.12,-43.72 1945.39,-35.18 1935.16,-37.95 1939.12,-43.72\"/>\r\n",
       "<text text-anchor=\"middle\" x=\"1922.49\" y=\"-57.8\" font-family=\"Times New Roman,serif\" font-size=\"14.00\">no</text>\r\n",
       "</g>\r\n",
       "<!-- 27 -->\r\n",
       "<g id=\"node28\" class=\"node\">\r\n",
       "<title>27</title>\r\n",
       "<ellipse fill=\"none\" stroke=\"black\" cx=\"2139.99\" cy=\"-18\" rx=\"75.29\" ry=\"18\"/>\r\n",
       "<text text-anchor=\"middle\" x=\"2139.99\" y=\"-14.3\" font-family=\"Times New Roman,serif\" font-size=\"14.00\">leaf=0.259380102</text>\r\n",
       "</g>\r\n",
       "<!-- 13&#45;&gt;27 -->\r\n",
       "<g id=\"edge27\" class=\"edge\">\r\n",
       "<title>13&#45;&gt;27</title>\r\n",
       "<path fill=\"none\" stroke=\"#0000ff\" d=\"M2171.1,-86.8C2165.66,-74.93 2158.31,-58.93 2152.13,-45.45\"/>\r\n",
       "<polygon fill=\"#0000ff\" stroke=\"#0000ff\" points=\"2155.22,-43.8 2147.87,-36.18 2148.86,-46.72 2155.22,-43.8\"/>\r\n",
       "<text text-anchor=\"middle\" x=\"2196.49\" y=\"-57.8\" font-family=\"Times New Roman,serif\" font-size=\"14.00\">yes, missing</text>\r\n",
       "</g>\r\n",
       "<!-- 28 -->\r\n",
       "<g id=\"node29\" class=\"node\">\r\n",
       "<title>28</title>\r\n",
       "<ellipse fill=\"none\" stroke=\"black\" cx=\"2302.99\" cy=\"-18\" rx=\"69.59\" ry=\"18\"/>\r\n",
       "<text text-anchor=\"middle\" x=\"2302.99\" y=\"-14.3\" font-family=\"Times New Roman,serif\" font-size=\"14.00\">leaf=&#45;0.4909091</text>\r\n",
       "</g>\r\n",
       "<!-- 13&#45;&gt;28 -->\r\n",
       "<g id=\"edge28\" class=\"edge\">\r\n",
       "<title>13&#45;&gt;28</title>\r\n",
       "<path fill=\"none\" stroke=\"#ff0000\" d=\"M2205.75,-87.85C2215.1,-82.05 2225.6,-75.37 2234.99,-69 2247.87,-60.26 2261.77,-50.16 2273.62,-41.34\"/>\r\n",
       "<polygon fill=\"#ff0000\" stroke=\"#ff0000\" points=\"2275.94,-43.98 2281.85,-35.18 2271.75,-38.37 2275.94,-43.98\"/>\r\n",
       "<text text-anchor=\"middle\" x=\"2263.49\" y=\"-57.8\" font-family=\"Times New Roman,serif\" font-size=\"14.00\">no</text>\r\n",
       "</g>\r\n",
       "<!-- 29 -->\r\n",
       "<g id=\"node30\" class=\"node\">\r\n",
       "<title>29</title>\r\n",
       "<ellipse fill=\"none\" stroke=\"black\" cx=\"2468.99\" cy=\"-18\" rx=\"77.99\" ry=\"18\"/>\r\n",
       "<text text-anchor=\"middle\" x=\"2468.99\" y=\"-14.3\" font-family=\"Times New Roman,serif\" font-size=\"14.00\">leaf=&#45;0.313432842</text>\r\n",
       "</g>\r\n",
       "<!-- 14&#45;&gt;29 -->\r\n",
       "<g id=\"edge29\" class=\"edge\">\r\n",
       "<title>14&#45;&gt;29</title>\r\n",
       "<path fill=\"none\" stroke=\"#0000ff\" d=\"M2468.99,-86.8C2468.99,-75.16 2468.99,-59.55 2468.99,-46.24\"/>\r\n",
       "<polygon fill=\"#0000ff\" stroke=\"#0000ff\" points=\"2472.49,-46.18 2468.99,-36.18 2465.49,-46.18 2472.49,-46.18\"/>\r\n",
       "<text text-anchor=\"middle\" x=\"2503.49\" y=\"-57.8\" font-family=\"Times New Roman,serif\" font-size=\"14.00\">yes, missing</text>\r\n",
       "</g>\r\n",
       "<!-- 30 -->\r\n",
       "<g id=\"node31\" class=\"node\">\r\n",
       "<title>30</title>\r\n",
       "<ellipse fill=\"none\" stroke=\"black\" cx=\"2639.99\" cy=\"-18\" rx=\"75.29\" ry=\"18\"/>\r\n",
       "<text text-anchor=\"middle\" x=\"2639.99\" y=\"-14.3\" font-family=\"Times New Roman,serif\" font-size=\"14.00\">leaf=0.257142872</text>\r\n",
       "</g>\r\n",
       "<!-- 14&#45;&gt;30 -->\r\n",
       "<g id=\"edge30\" class=\"edge\">\r\n",
       "<title>14&#45;&gt;30</title>\r\n",
       "<path fill=\"none\" stroke=\"#ff0000\" d=\"M2503.98,-87.44C2516.06,-81.67 2529.65,-75.11 2541.99,-69 2561.38,-59.41 2582.8,-48.52 2600.65,-39.35\"/>\r\n",
       "<polygon fill=\"#ff0000\" stroke=\"#ff0000\" points=\"2602.34,-42.42 2609.63,-34.73 2599.14,-36.19 2602.34,-42.42\"/>\r\n",
       "<text text-anchor=\"middle\" x=\"2578.49\" y=\"-57.8\" font-family=\"Times New Roman,serif\" font-size=\"14.00\">no</text>\r\n",
       "</g>\r\n",
       "</g>\r\n",
       "</svg>\r\n"
      ],
      "text/plain": [
       "<graphviz.files.Source at 0x24e75acadc0>"
      ]
     },
     "execution_count": 32,
     "metadata": {},
     "output_type": "execute_result"
    }
   ],
   "source": [
    "# 의사결정 트리 중 첫번째 트리 시각화\n",
    "import xgboost as xgb\n",
    "xgb.to_graphviz(booster = xgb_clf, num_trees=0)"
   ]
  },
  {
   "cell_type": "code",
   "execution_count": 39,
   "metadata": {},
   "outputs": [
    {
     "data": {
      "image/png": "[encoded data removed]",
      "text/plain": [
       "<Figure size 432x288 with 1 Axes>"
      ]
     },
     "metadata": {
      "needs_background": "light"
     },
     "output_type": "display_data"
    }
   ],
   "source": [
    "# 모델 성능 시각화\n",
    "\n",
    "from matplotlib import pyplot\n",
    "# retrieve performance metrics\n",
    "results = xgb_clf.evals_result()\n",
    "epochs = len(results['validation_0']['logloss'])\n",
    "x_axis = range(0, epochs)\n",
    "# plot log loss\n",
    "fig, ax = pyplot.subplots()\n",
    "ax.plot(x_axis, results['validation_0']['logloss'], label='Train')\n",
    "ax.plot(x_axis, results['validation_1']['logloss'], label='Test')\n",
    "ax.legend()\n",
    "pyplot.ylabel('Log Loss')\n",
    "pyplot.title('XGBoost Log Loss')\n",
    "#pyplot.show()\n",
    "plt.savefig('XGBoost Log Loss.png')"
   ]
  },
  {
   "cell_type": "markdown",
   "metadata": {},
   "source": [
    "# 4. 우범화물 예측 및 모델 성능 평가 <a id='id4'></a>"
   ]
  },
  {
   "cell_type": "markdown",
   "metadata": {},
   "source": [
    "## 4.1. XGBoost 모델 예측"
   ]
  },
  {
   "cell_type": "code",
   "execution_count": 40,
   "metadata": {},
   "outputs": [
    {
     "name": "stdout",
     "output_type": "stream",
     "text": [
      "------Evaluating xgboost model------\n",
      "0.7992347581955326\n"
     ]
    }
   ],
   "source": [
    "# evaluate xgboost model\n",
    "print(\"------Evaluating xgboost model------\")\n",
    "# Predict\n",
    "test_pred = xgb_clf.predict_proba(df_org_test)[:,1]\n",
    "# Calculate auc\n",
    "xgb_auc = roc_auc_score(org_test_y, test_pred)\n",
    "print(xgb_auc)"
   ]
  },
  {
   "cell_type": "markdown",
   "metadata": {},
   "source": [
    "## 4.2. 모델 예측 성능 평가"
   ]
  },
  {
   "cell_type": "code",
   "execution_count": 41,
   "metadata": {},
   "outputs": [],
   "source": [
    "# 검사율에 따른 우범예측 함수 생성\n",
    "\n",
    "def inspection_performance(predicted_fraud, test_fraud):\n",
    "    \n",
    "    # Set default values before a loop\n",
    "    \n",
    "    Inspect_Rate = []\n",
    "    Precision=[]\n",
    "    Recall=[]\n",
    "    \n",
    "    # Create a loop for making confusion matrix at each inspection rate\n",
    "\n",
    "    for i in range(0,101,1):\n",
    "        \n",
    "        # Find the ith value in ascending order.\n",
    "        threshold = np.percentile(predicted_fraud, i)\n",
    "        # Precision = number of frauds / number of inspection\n",
    "        precision = np.mean(test_fraud[predicted_fraud >= threshold])\n",
    "        # Recall = number of inspected frauds / number of frauds\n",
    "        recall = sum(test_fraud[predicted_fraud >= threshold])/sum(test_fraud)\n",
    "        # Save values\n",
    "        Inspect_Rate.append(100-i)\n",
    "        Precision.append(precision)\n",
    "        Recall.append(recall)\n",
    "        \n",
    "    \n",
    "    compiled_conf_matrix = pd.DataFrame({\n",
    "        \n",
    "        'Inspect_Rate':Inspect_Rate,\n",
    "        'Precision':Precision,\n",
    "        'Recall':Recall\n",
    "    })\n",
    "\n",
    "    return compiled_conf_matrix"
   ]
  },
  {
   "cell_type": "code",
   "execution_count": 42,
   "metadata": {},
   "outputs": [],
   "source": [
    "# 검사율에 따른 우범예측 \n",
    "basic_performance = inspection_performance(test_pred, org_test_y.astype(float))"
   ]
  },
  {
   "cell_type": "code",
   "execution_count": 43,
   "metadata": {},
   "outputs": [
    {
     "data": {
      "text/html": [
       "<div>\n",
       "<style scoped>\n",
       "    .dataframe tbody tr th:only-of-type {\n",
       "        vertical-align: middle;\n",
       "    }\n",
       "\n",
       "    .dataframe tbody tr th {\n",
       "        vertical-align: top;\n",
       "    }\n",
       "\n",
       "    .dataframe thead th {\n",
       "        text-align: right;\n",
       "    }\n",
       "</style>\n",
       "<table border=\"1\" class=\"dataframe\">\n",
       "  <thead>\n",
       "    <tr style=\"text-align: right;\">\n",
       "      <th></th>\n",
       "      <th>Inspect_Rate</th>\n",
       "      <th>Precision</th>\n",
       "      <th>Recall</th>\n",
       "    </tr>\n",
       "  </thead>\n",
       "  <tbody>\n",
       "    <tr>\n",
       "      <th>99</th>\n",
       "      <td>1</td>\n",
       "      <td>0.805195</td>\n",
       "      <td>0.034637</td>\n",
       "    </tr>\n",
       "    <tr>\n",
       "      <th>98</th>\n",
       "      <td>2</td>\n",
       "      <td>0.753012</td>\n",
       "      <td>0.069832</td>\n",
       "    </tr>\n",
       "    <tr>\n",
       "      <th>97</th>\n",
       "      <td>3</td>\n",
       "      <td>0.723404</td>\n",
       "      <td>0.094972</td>\n",
       "    </tr>\n",
       "    <tr>\n",
       "      <th>96</th>\n",
       "      <td>4</td>\n",
       "      <td>0.702265</td>\n",
       "      <td>0.121229</td>\n",
       "    </tr>\n",
       "    <tr>\n",
       "      <th>95</th>\n",
       "      <td>5</td>\n",
       "      <td>0.697500</td>\n",
       "      <td>0.155866</td>\n",
       "    </tr>\n",
       "    <tr>\n",
       "      <th>94</th>\n",
       "      <td>6</td>\n",
       "      <td>0.678959</td>\n",
       "      <td>0.174860</td>\n",
       "    </tr>\n",
       "    <tr>\n",
       "      <th>93</th>\n",
       "      <td>7</td>\n",
       "      <td>0.649374</td>\n",
       "      <td>0.202793</td>\n",
       "    </tr>\n",
       "    <tr>\n",
       "      <th>92</th>\n",
       "      <td>8</td>\n",
       "      <td>0.645631</td>\n",
       "      <td>0.222905</td>\n",
       "    </tr>\n",
       "    <tr>\n",
       "      <th>91</th>\n",
       "      <td>9</td>\n",
       "      <td>0.631054</td>\n",
       "      <td>0.247486</td>\n",
       "    </tr>\n",
       "    <tr>\n",
       "      <th>90</th>\n",
       "      <td>10</td>\n",
       "      <td>0.627376</td>\n",
       "      <td>0.276536</td>\n",
       "    </tr>\n",
       "  </tbody>\n",
       "</table>\n",
       "</div>"
      ],
      "text/plain": [
       "    Inspect_Rate  Precision    Recall\n",
       "99             1   0.805195  0.034637\n",
       "98             2   0.753012  0.069832\n",
       "97             3   0.723404  0.094972\n",
       "96             4   0.702265  0.121229\n",
       "95             5   0.697500  0.155866\n",
       "94             6   0.678959  0.174860\n",
       "93             7   0.649374  0.202793\n",
       "92             8   0.645631  0.222905\n",
       "91             9   0.631054  0.247486\n",
       "90            10   0.627376  0.276536"
      ]
     },
     "execution_count": 43,
     "metadata": {},
     "output_type": "execute_result"
    }
   ],
   "source": [
    "# 검사율 1~10% 지정 시 Precision 및 Recall 분석\n",
    "# Precision (적중률) = (검사선별된 우범건수)/(검사선별 건수)\n",
    "# Recall (적발률) = (검사선별된 우범건수) / (전체 우범건수)\n",
    "basic_performance.iloc[range(99,89,-1),:]"
   ]
  },
  {
   "cell_type": "code",
   "execution_count": 44,
   "metadata": {},
   "outputs": [
    {
     "data": {
      "image/png": "[encoded data removed]",
      "text/plain": [
       "<Figure size 796.625x360 with 2 Axes>"
      ]
     },
     "metadata": {
      "needs_background": "light"
     },
     "output_type": "display_data"
    }
   ],
   "source": [
    "# 검사선별률에 따른 적중률 및 적발률 시각화\n",
    "data = pd.melt(basic_performance, \n",
    "               id_vars = ['Inspect_Rate'],\n",
    "               value_vars = ['Recall','Precision'])\n",
    "\n",
    "sns.relplot(data=data,\n",
    "            kind='line',\n",
    "            x=\"Inspect_Rate\", \n",
    "            y=\"value\", \n",
    "            hue='variable',\n",
    "            col=\"variable\")\n",
    "plt.savefig('recall & precision.png')\n"
   ]
  },
  {
   "cell_type": "code",
   "execution_count": 47,
   "metadata": {
    "scrolled": false
   },
   "outputs": [
    {
     "data": {
      "image/png": "[encoded data removed]",
      "text/plain": [
       "<Figure size 1080x720 with 1 Axes>"
      ]
     },
     "metadata": {
      "needs_background": "light"
     },
     "output_type": "display_data"
    }
   ],
   "source": [
    "# 모델에 기여도가 높은 변수 시각화\n",
    "from xgboost import plot_importance\n",
    "plt.rcParams[\"font.family\"] = 'NanumGothicOTF'\n",
    "plt.rcParams[\"figure.figsize\"] = (15,10)\n",
    "plot_importance(xgb_clf, max_num_features=30)\n",
    "plt.show()"
   ]
  },
  {
   "cell_type": "code",
   "execution_count": 48,
   "metadata": {
    "scrolled": true
   },
   "outputs": [
    {
     "name": "stdout",
     "output_type": "stream",
     "text": [
      "0.0664169481872565\n"
     ]
    }
   ],
   "source": [
    "precision = 0.805195\n",
    "recall = 0.034637\n",
    "f1_score = 2 * precision * recall / (precision + recall)\n",
    "print(f1_score)"
   ]
  },
  {
   "cell_type": "code",
   "execution_count": 49,
   "metadata": {},
   "outputs": [
    {
     "name": "stdout",
     "output_type": "stream",
     "text": [
      "0.13867215698235982\n"
     ]
    }
   ],
   "source": [
    "precision = 0.710000\n",
    "recall = 0.076840\n",
    "f1_score = 2 * precision * recall / (precision + recall)\n",
    "print(f1_score)"
   ]
  },
  {
   "cell_type": "code",
   "execution_count": 40,
   "metadata": {},
   "outputs": [
    {
     "name": "stdout",
     "output_type": "stream",
     "text": [
      "모델구동시간 : 50.08880972862244 sec.\n"
     ]
    }
   ],
   "source": [
    "# 모델 종료 시간 확인\n",
    "end = time.time()\n",
    "# 모델 구동 시간 계산\n",
    "print(f\"모델구동시간 : {end-start} sec.\")"
   ]
  }
 ],
 "metadata": {
  "kernelspec": {
   "display_name": "Python 3",
   "language": "python",
   "name": "python3"
  },
  "language_info": {
   "codemirror_mode": {
    "name": "ipython",
    "version": 3
   },
   "file_extension": ".py",
   "mimetype": "text/x-python",
   "name": "python",
   "nbconvert_exporter": "python",
   "pygments_lexer": "ipython3",
   "version": "3.8.5"
  }
 },
 "nbformat": 4,
 "nbformat_minor": 4
}

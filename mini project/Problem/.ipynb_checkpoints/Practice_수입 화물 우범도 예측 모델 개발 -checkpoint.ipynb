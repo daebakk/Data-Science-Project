{
 "cells": [
  {
   "cell_type": "markdown",
   "metadata": {},
   "source": [
    "# 수입 화물 우범도 예측 모델 개발\n",
    "\n",
    "## 참고사항 0)\n",
    "관세청에서 수입품의 정보를 보고 **우범(불법)인지 아닌지를 예측하는 문제**입니다. 1-12월 데이터가 있는데\n",
    "1-9월을 학습데이터로 사용하고, 10-12월을 평가데이터로 사용합니다.\n",
    "- train.xlsx: 학습 데이터(y값 존재) 1-9월의 데이터로 가장 오른 쪽의 검사결과코드, 우범여부, 핵심적발이 종속변수인데 그 중에서 우 범여부가 우선적으로 예측해야할 target입니다.\n",
    "\n",
    "\n",
    "- test.xlsx: 평가 데이터(y값 없음) 10-12월의 데이터로 3개의 종속변수가 삭제되었습니다.\n",
    "\n",
    "\n",
    "- submission.xlsx: 제출용 평가 sheet 여기 신고번호에 맞게 예측값을 붙여서 제출하시면 됩니다. 단 제출하실 때 파일명을 팀명으로 해주세요.\n",
    "\n",
    "\n",
    "\n",
    "- 우범여부 예측이 1차적인 본 과제의 과업이지만 좀 더 advanced로 가실 분들은 우범여부와 더불어 핵심적발여부도 해보시면 좋을 것 같습니다.\n",
    "\n",
    "\n",
    "- 정상:비정상 비율에서 정상이 훨씬 많은 범주 불균형 문제입니다. 일반적인 2-class 분류기로 접근하면 성능이 낮아질 수 있습니다\n",
    "\n",
    "\n",
    "\n",
    "- 평가지표는 범주 불균형 문제에 맞게 precision, recall, f1 score 이 세가지를 기준으로 보시면 됩니다. 하나의 지표를 기준으로 한다면 f1을 우선적 고려.\n",
    "\n",
    "\n",
    "- 학습 데이터 내에서 validation을 충분히 하셔야 그 모델로 평가 데이터의 class label을 잘 달 수 있다. cross-validation, moving-window 등을 통해서 validation에 신경을 써야한다.\n",
    "\n",
    "\n",
    "\n",
    "## 참고사항 1)\n",
    "\n",
    "신고일자를 여기서는 그냥 string으로 보고 code화를 하잖아요.\n",
    "그래서 데이터 들어오는 순서대로 년-월-일 조합에 대해 숫자코드를 부여하고\n",
    "test data에서 그 조합이 있으면 해당 code를 부여하고 없으면 0을 부여하는.\n",
    "\n",
    "근데 학습:평가 데이터를 날짜를 기준으로 끊은 상황에서\n",
    "저런 방식으로 code화 한 후에 onehot encoding을 한다면 어떤 일이 발생할까요?\n",
    "모든 날짜가 각각 1개의 변수화가 되면서 변수는 많이 낭비하는 반면\n",
    "test data는 \"그 후의 날짜\" 데이터만 들어오기 때문에\n",
    "학습 데이터에 있지 않은 값, 그러니까 모두 0값이 부여되겠죠.\n",
    "\n",
    "학습 데이터로 변수의 특성을 찾아 이럴 때 y값이 어떻게 돼,\n",
    "그러니까 test data에서도 그 변수가 이런 특성이면 마찬가지로 y는 이거일거야, 라는 결론을 얻고 싶은데\n",
    "애시당초 test data에는 학습 데이터에 존재하지 않는 값(0)만 들어올테니까\n",
    "다소 의문이 드는 전처리라고 생각됩니다.\n",
    "(만약 int로 그냥 처리했다면? 추울때/더울때 같이 기준을 잡아 binarize 했다면?)\n",
    "\n",
    "제가 전처리 강의에서 설명했듯이 이 raw variable에서 어떤 의미있는 값을 뽑아낼까,\n",
    "이 변수의 어떤 정보가 y에 영향을 줄까에 대한 가설을 설정하고\n",
    "그걸 변수화해서 표현하는 것이 중요합니다.\n",
    "날짜는 날짜답게 encoding하는 시도가 필요하고\n",
    "물론 가설이 다 맞을 수는 없으니 그걸 validation을 잘 하면서 검증해야 합니다.\n",
    "\n",
    "## 참고사항 2)\n",
    "\n",
    "- 신고번호는 unique한 key로 보는게 맞음\n",
    "\n",
    "\n",
    "- 핵심우범 변수: 0정상 1우범 2핵심우범\n",
    "\n",
    "\n",
    "- 검사결과코드에 따라 나름의 점수를 부여한 후 조합하여 threshold를 두고 정상/우범/핵심이 나뉘어짐\n",
    "\n",
    "\n",
    "- 가능하면 핵심에 대한 예측까지 갔으면 좋겠음, 혹은 검사결과코드 기준으로 비중 높은 여러 핵심을 multiclass로 해봐도 좋을 것 같음\n",
    "\n",
    "\n",
    "- 개인적으로는 2-stage model을 생각해보셔도 될 것 같아요. 각각 역할이 다른 모델을 serial하게 엮어서"
   ]
  },
  {
   "cell_type": "markdown",
   "metadata": {},
   "source": [
    "## 0. 기본 모듈 및 함수 import "
   ]
  },
  {
   "cell_type": "code",
   "execution_count": 21,
   "metadata": {},
   "outputs": [],
   "source": [
    "# 모델 구현 시간 체크\n",
    "import time\n",
    "# 시작시간 체크\n",
    "start = time.time()"
   ]
  },
  {
   "cell_type": "code",
   "execution_count": 22,
   "metadata": {},
   "outputs": [],
   "source": [
    "# 패키지 로딩\n",
    "import pickle\n",
    "import pandas as pd\n",
    "import numpy as np\n",
    "import matplotlib.pyplot as plt\n",
    "import seaborn as sns"
   ]
  },
  {
   "cell_type": "code",
   "execution_count": 40,
   "metadata": {},
   "outputs": [
    {
     "name": "stdout",
     "output_type": "stream",
     "text": [
      "['NanumGothicOTF']\n"
     ]
    }
   ],
   "source": [
    "# 한글폰트 적용\n",
    "plt.rc('font', family='NanumGothicOTF') # For MacOS\n",
    "# plt.rc('font', family='NanumGothic') # For Windows\n",
    "print(plt.rcParams['font.family'])\n"
   ]
  },
  {
   "cell_type": "code",
   "execution_count": 49,
   "metadata": {},
   "outputs": [],
   "source": [
    "# 분석 차트 그리는 함수 목록\n",
    "\n",
    "def show_pie_chart(df, col_name):\n",
    "    colname_survived = survived_crosstab(df, col_name)\n",
    "    pie_chart(colname_survived)\n",
    "    return colname_survived\n",
    "\n",
    "def survived_crosstab(df, col_name):\n",
    "    '''col_name과 Survived간의 교차도표 생성'''\n",
    "    feature_survived = pd.crosstab(df[col_name], df['우범여부'])\n",
    "    feature_survived.columns = feature_survived.columns.map({0:\"정상\", 1:\"우범\"})\n",
    "    return feature_survived\n",
    "\n",
    "def pie_chart(feature_survived):\n",
    "    '''\n",
    "    pie_chart 생성\n",
    "    pcol, prow = 차트를 출력할 개수. pcol * prow 만큼의 차트 출력 \n",
    "    '''\n",
    "    frows, fcols = feature_survived.shape\n",
    "    pcol = 3\n",
    "    prow = (frows/pcol + frows%pcol)\n",
    "    plot_height = prow * 2.5\n",
    "    plt.figure(figsize=(8, plot_height))\n",
    "\n",
    "    for row in range(0, frows):\n",
    "        plt.subplot(prow, pcol, row+1)\n",
    "\n",
    "        index_name = feature_survived.index[row]\n",
    "        plt.pie(feature_survived.loc[index_name], labels=feature_survived.loc[index_name].index, autopct='%1.1f%%')\n",
    "        plt.title(\"{0}' 우범\".format(index_name))\n",
    "\n",
    "    plt.show()"
   ]
  },
  {
   "cell_type": "markdown",
   "metadata": {},
   "source": [
    "## 1. 전처리 "
   ]
  },
  {
   "cell_type": "code",
   "execution_count": 52,
   "metadata": {},
   "outputs": [],
   "source": [
    "# 수입 데이터 로딩 (가상데이터)\n",
    "df = pd.read_csv('train.csv')"
   ]
  },
  {
   "cell_type": "code",
   "execution_count": 53,
   "metadata": {
    "scrolled": false
   },
   "outputs": [
    {
     "data": {
      "text/html": [
       "<div>\n",
       "<style scoped>\n",
       "    .dataframe tbody tr th:only-of-type {\n",
       "        vertical-align: middle;\n",
       "    }\n",
       "\n",
       "    .dataframe tbody tr th {\n",
       "        vertical-align: top;\n",
       "    }\n",
       "\n",
       "    .dataframe thead th {\n",
       "        text-align: right;\n",
       "    }\n",
       "</style>\n",
       "<table border=\"1\" class=\"dataframe\">\n",
       "  <thead>\n",
       "    <tr style=\"text-align: right;\">\n",
       "      <th></th>\n",
       "      <th>신고번호</th>\n",
       "      <th>신고일자</th>\n",
       "      <th>통관지세관부호</th>\n",
       "      <th>신고인부호</th>\n",
       "      <th>수입자부호</th>\n",
       "      <th>해외거래처부호</th>\n",
       "      <th>특송업체부호</th>\n",
       "      <th>수입통관계획코드</th>\n",
       "      <th>수입신고구분코드</th>\n",
       "      <th>수입거래구분코드</th>\n",
       "      <th>...</th>\n",
       "      <th>운송수단유형코드</th>\n",
       "      <th>반입보세구역부호</th>\n",
       "      <th>HS10단위부호</th>\n",
       "      <th>적출국가코드</th>\n",
       "      <th>원산지국가코드</th>\n",
       "      <th>관세율구분코드</th>\n",
       "      <th>관세율</th>\n",
       "      <th>검사결과코드</th>\n",
       "      <th>우범여부</th>\n",
       "      <th>핵심적발</th>\n",
       "    </tr>\n",
       "  </thead>\n",
       "  <tbody>\n",
       "    <tr>\n",
       "      <th>0</th>\n",
       "      <td>57298928</td>\n",
       "      <td>2020.1.1</td>\n",
       "      <td>121</td>\n",
       "      <td>2O5A2</td>\n",
       "      <td>82ZHWNL</td>\n",
       "      <td>NaN</td>\n",
       "      <td>TQ18AK</td>\n",
       "      <td>D</td>\n",
       "      <td>B</td>\n",
       "      <td>15</td>\n",
       "      <td>...</td>\n",
       "      <td>10</td>\n",
       "      <td>2106003</td>\n",
       "      <td>8481900000</td>\n",
       "      <td>US</td>\n",
       "      <td>US</td>\n",
       "      <td>A</td>\n",
       "      <td>8.0</td>\n",
       "      <td>N3</td>\n",
       "      <td>1</td>\n",
       "      <td>1</td>\n",
       "    </tr>\n",
       "    <tr>\n",
       "      <th>1</th>\n",
       "      <td>85092852</td>\n",
       "      <td>2020.1.1</td>\n",
       "      <td>30</td>\n",
       "      <td>305K5</td>\n",
       "      <td>5IS70LE</td>\n",
       "      <td>NaN</td>\n",
       "      <td>NaN</td>\n",
       "      <td>C</td>\n",
       "      <td>B</td>\n",
       "      <td>11</td>\n",
       "      <td>...</td>\n",
       "      <td>40</td>\n",
       "      <td>4077010</td>\n",
       "      <td>2106909099</td>\n",
       "      <td>US</td>\n",
       "      <td>US</td>\n",
       "      <td>A</td>\n",
       "      <td>8.0</td>\n",
       "      <td>A</td>\n",
       "      <td>0</td>\n",
       "      <td>0</td>\n",
       "    </tr>\n",
       "    <tr>\n",
       "      <th>2</th>\n",
       "      <td>63014158</td>\n",
       "      <td>2020.1.1</td>\n",
       "      <td>20</td>\n",
       "      <td>CGMT6</td>\n",
       "      <td>GJ5KBL3</td>\n",
       "      <td>R9ZQOG7</td>\n",
       "      <td>NaN</td>\n",
       "      <td>D</td>\n",
       "      <td>B</td>\n",
       "      <td>11</td>\n",
       "      <td>...</td>\n",
       "      <td>40</td>\n",
       "      <td>4077007</td>\n",
       "      <td>6307909000</td>\n",
       "      <td>US</td>\n",
       "      <td>US</td>\n",
       "      <td>A</td>\n",
       "      <td>10.0</td>\n",
       "      <td>A</td>\n",
       "      <td>0</td>\n",
       "      <td>0</td>\n",
       "    </tr>\n",
       "    <tr>\n",
       "      <th>3</th>\n",
       "      <td>40175917</td>\n",
       "      <td>2020.1.1</td>\n",
       "      <td>40</td>\n",
       "      <td>QWUTG</td>\n",
       "      <td>PBYW02T</td>\n",
       "      <td>NaN</td>\n",
       "      <td>NaN</td>\n",
       "      <td>C</td>\n",
       "      <td>B</td>\n",
       "      <td>94</td>\n",
       "      <td>...</td>\n",
       "      <td>40</td>\n",
       "      <td>4077106</td>\n",
       "      <td>6505009090</td>\n",
       "      <td>CN</td>\n",
       "      <td>CN</td>\n",
       "      <td>A</td>\n",
       "      <td>8.0</td>\n",
       "      <td>A</td>\n",
       "      <td>0</td>\n",
       "      <td>0</td>\n",
       "    </tr>\n",
       "    <tr>\n",
       "      <th>4</th>\n",
       "      <td>11602631</td>\n",
       "      <td>2020.1.1</td>\n",
       "      <td>30</td>\n",
       "      <td>0X1CO</td>\n",
       "      <td>MCX0GJB</td>\n",
       "      <td>4Z9PX0Y</td>\n",
       "      <td>NaN</td>\n",
       "      <td>C</td>\n",
       "      <td>B</td>\n",
       "      <td>11</td>\n",
       "      <td>...</td>\n",
       "      <td>40</td>\n",
       "      <td>2006075</td>\n",
       "      <td>6204320000</td>\n",
       "      <td>CN</td>\n",
       "      <td>CN</td>\n",
       "      <td>FCN1</td>\n",
       "      <td>5.2</td>\n",
       "      <td>M1_N1</td>\n",
       "      <td>1</td>\n",
       "      <td>1</td>\n",
       "    </tr>\n",
       "  </tbody>\n",
       "</table>\n",
       "<p>5 rows × 24 columns</p>\n",
       "</div>"
      ],
      "text/plain": [
       "       신고번호      신고일자  통관지세관부호  신고인부호    수입자부호  해외거래처부호  특송업체부호 수입통관계획코드  \\\n",
       "0  57298928  2020.1.1      121  2O5A2  82ZHWNL      NaN  TQ18AK        D   \n",
       "1  85092852  2020.1.1       30  305K5  5IS70LE      NaN     NaN        C   \n",
       "2  63014158  2020.1.1       20  CGMT6  GJ5KBL3  R9ZQOG7     NaN        D   \n",
       "3  40175917  2020.1.1       40  QWUTG  PBYW02T      NaN     NaN        C   \n",
       "4  11602631  2020.1.1       30  0X1CO  MCX0GJB  4Z9PX0Y     NaN        C   \n",
       "\n",
       "  수입신고구분코드  수입거래구분코드  ...  운송수단유형코드  반입보세구역부호    HS10단위부호  적출국가코드  원산지국가코드  \\\n",
       "0        B        15  ...        10   2106003  8481900000      US       US   \n",
       "1        B        11  ...        40   4077010  2106909099      US       US   \n",
       "2        B        11  ...        40   4077007  6307909000      US       US   \n",
       "3        B        94  ...        40   4077106  6505009090      CN       CN   \n",
       "4        B        11  ...        40   2006075  6204320000      CN       CN   \n",
       "\n",
       "   관세율구분코드   관세율 검사결과코드 우범여부 핵심적발  \n",
       "0        A   8.0     N3    1    1  \n",
       "1        A   8.0      A    0    0  \n",
       "2        A  10.0      A    0    0  \n",
       "3        A   8.0      A    0    0  \n",
       "4     FCN1   5.2  M1_N1    1    1  \n",
       "\n",
       "[5 rows x 24 columns]"
      ]
     },
     "execution_count": 53,
     "metadata": {},
     "output_type": "execute_result"
    }
   ],
   "source": [
    "df.head(5)"
   ]
  },
  {
   "cell_type": "code",
   "execution_count": 54,
   "metadata": {},
   "outputs": [
    {
     "data": {
      "text/plain": [
       "(76837, 24)"
      ]
     },
     "execution_count": 54,
     "metadata": {},
     "output_type": "execute_result"
    }
   ],
   "source": [
    "# data size 확인 \n",
    "df.shape"
   ]
  },
  {
   "cell_type": "code",
   "execution_count": 55,
   "metadata": {
    "scrolled": true
   },
   "outputs": [
    {
     "name": "stdout",
     "output_type": "stream",
     "text": [
      "<class 'pandas.core.frame.DataFrame'>\n",
      "RangeIndex: 76837 entries, 0 to 76836\n",
      "Data columns (total 24 columns):\n",
      " #   Column    Non-Null Count  Dtype  \n",
      "---  ------    --------------  -----  \n",
      " 0   신고번호      76837 non-null  int64  \n",
      " 1   신고일자      76837 non-null  object \n",
      " 2   통관지세관부호   76837 non-null  int64  \n",
      " 3   신고인부호     76837 non-null  object \n",
      " 4   수입자부호     76829 non-null  object \n",
      " 5   해외거래처부호   50544 non-null  object \n",
      " 6   특송업체부호    25106 non-null  object \n",
      " 7   수입통관계획코드  76837 non-null  object \n",
      " 8   수입신고구분코드  76837 non-null  object \n",
      " 9   수입거래구분코드  76837 non-null  int64  \n",
      " 10  수입종류코드    76837 non-null  int64  \n",
      " 11  징수형태코드    76837 non-null  int64  \n",
      " 12  신고중량(KG)  76837 non-null  float64\n",
      " 13  과세가격원화금액  76837 non-null  float64\n",
      " 14  운송수단유형코드  76837 non-null  int64  \n",
      " 15  반입보세구역부호  76837 non-null  int64  \n",
      " 16  HS10단위부호  76837 non-null  int64  \n",
      " 17  적출국가코드    76837 non-null  object \n",
      " 18  원산지국가코드   76837 non-null  object \n",
      " 19  관세율구분코드   76837 non-null  object \n",
      " 20  관세율       76837 non-null  float64\n",
      " 21  검사결과코드    76837 non-null  object \n",
      " 22  우범여부      76837 non-null  int64  \n",
      " 23  핵심적발      76837 non-null  int64  \n",
      "dtypes: float64(3), int64(10), object(11)\n",
      "memory usage: 14.1+ MB\n"
     ]
    }
   ],
   "source": [
    "# 전반적인 data 확인\n",
    "df.info()"
   ]
  },
  {
   "cell_type": "markdown",
   "metadata": {},
   "source": [
    "### 정상 및 우범 비율 "
   ]
  },
  {
   "cell_type": "code",
   "execution_count": 68,
   "metadata": {},
   "outputs": [
    {
     "name": "stdout",
     "output_type": "stream",
     "text": [
      "우범 : 정상\n",
      "1 :  3\n"
     ]
    }
   ],
   "source": [
    "crime = np.sum(df['우범여부'] == 1) \n",
    "normal = np.sum(df['우범여부'] == 0)\n",
    "\n",
    "print('우범 : 정상')\n",
    "print(\"{} :  {}\".format(1,round(normal / crime)))"
   ]
  },
  {
   "cell_type": "markdown",
   "metadata": {},
   "source": [
    "# 수입신고구분코드\n",
    "\n",
    "- 수입신고구분코드와 우범여부와의 관계를 알아본다\n"
   ]
  },
  {
   "cell_type": "code",
   "execution_count": 48,
   "metadata": {},
   "outputs": [
    {
     "name": "stderr",
     "output_type": "stream",
     "text": [
      "<ipython-input-42-2c5b73b82dd5>:24: MatplotlibDeprecationWarning: Passing non-integers as three-element position specification is deprecated since 3.3 and will be removed two minor releases later.\n",
      "  plt.subplot(prow, pcol, row+1)\n"
     ]
    },
    {
     "data": {
      "image/png": "[encoded data removed]",
      "text/plain": [
       "<Figure size 576x420 with 4 Axes>"
      ]
     },
     "metadata": {},
     "output_type": "display_data"
    },
    {
     "data": {
      "text/html": [
       "<div>\n",
       "<style scoped>\n",
       "    .dataframe tbody tr th:only-of-type {\n",
       "        vertical-align: middle;\n",
       "    }\n",
       "\n",
       "    .dataframe tbody tr th {\n",
       "        vertical-align: top;\n",
       "    }\n",
       "\n",
       "    .dataframe thead th {\n",
       "        text-align: right;\n",
       "    }\n",
       "</style>\n",
       "<table border=\"1\" class=\"dataframe\">\n",
       "  <thead>\n",
       "    <tr style=\"text-align: right;\">\n",
       "      <th>우범여부</th>\n",
       "      <th>정상</th>\n",
       "      <th>우범</th>\n",
       "    </tr>\n",
       "    <tr>\n",
       "      <th>수입신고구분코드</th>\n",
       "      <th></th>\n",
       "      <th></th>\n",
       "    </tr>\n",
       "  </thead>\n",
       "  <tbody>\n",
       "    <tr>\n",
       "      <th>A</th>\n",
       "      <td>713</td>\n",
       "      <td>131</td>\n",
       "    </tr>\n",
       "    <tr>\n",
       "      <th>B</th>\n",
       "      <td>56729</td>\n",
       "      <td>15616</td>\n",
       "    </tr>\n",
       "    <tr>\n",
       "      <th>D</th>\n",
       "      <td>1037</td>\n",
       "      <td>1038</td>\n",
       "    </tr>\n",
       "    <tr>\n",
       "      <th>E</th>\n",
       "      <td>786</td>\n",
       "      <td>787</td>\n",
       "    </tr>\n",
       "  </tbody>\n",
       "</table>\n",
       "</div>"
      ],
      "text/plain": [
       "우범여부         정상     우범\n",
       "수입신고구분코드              \n",
       "A           713    131\n",
       "B         56729  15616\n",
       "D          1037   1038\n",
       "E           786    787"
      ]
     },
     "execution_count": 48,
     "metadata": {},
     "output_type": "execute_result"
    }
   ],
   "source": [
    "c = show_pie_chart(df, '수입신고구분코드')\n",
    "c"
   ]
  },
  {
   "cell_type": "markdown",
   "metadata": {},
   "source": [
    "# 원산지국가코드"
   ]
  },
  {
   "cell_type": "code",
   "execution_count": 69,
   "metadata": {},
   "outputs": [
    {
     "data": {
      "text/plain": [
       "CN    34006\n",
       "US    12042\n",
       "JP     7192\n",
       "DE     3185\n",
       "VN     2850\n",
       "      ...  \n",
       "SO        2\n",
       "MH        2\n",
       "CR        1\n",
       "GT        1\n",
       "NP        1\n",
       "Name: 원산지국가코드, Length: 94, dtype: int64"
      ]
     },
     "execution_count": 69,
     "metadata": {},
     "output_type": "execute_result"
    }
   ],
   "source": [
    "df['원산지국가코드'].value_counts()"
   ]
  },
  {
   "cell_type": "code",
   "execution_count": null,
   "metadata": {},
   "outputs": [],
   "source": []
  }
 ],
 "metadata": {
  "kernelspec": {
   "display_name": "Python 3",
   "language": "python",
   "name": "python3"
  },
  "language_info": {
   "codemirror_mode": {
    "name": "ipython",
    "version": 3
   },
   "file_extension": ".py",
   "mimetype": "text/x-python",
   "name": "python",
   "nbconvert_exporter": "python",
   "pygments_lexer": "ipython3",
   "version": "3.8.5"
  }
 },
 "nbformat": 4,
 "nbformat_minor": 4
}

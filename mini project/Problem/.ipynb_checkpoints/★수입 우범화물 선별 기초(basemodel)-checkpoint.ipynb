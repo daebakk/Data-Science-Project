{
 "cells": [
  {
   "cell_type": "markdown",
   "metadata": {},
   "source": [
    "# 수입 우범화물 선별 기초 - XGBoost 모델"
   ]
  },
  {
   "cell_type": "markdown",
   "metadata": {},
   "source": [
    "# 1. 분석 환경 설정 및 데이터 로딩<a id='id1'></a> "
   ]
  },
  {
   "cell_type": "code",
   "execution_count": 1,
   "metadata": {},
   "outputs": [],
   "source": [
    "# 모델 구현 시간 체크\n",
    "import time\n",
    "# 시작시간 체크\n",
    "start = time.time()"
   ]
  },
  {
   "cell_type": "code",
   "execution_count": 2,
   "metadata": {},
   "outputs": [
    {
     "name": "stdout",
     "output_type": "stream",
     "text": [
      "['NanumGothicOTF']\n"
     ]
    }
   ],
   "source": [
    "# 패키지 로딩\n",
    "import pickle\n",
    "import pandas as pd\n",
    "import numpy as np\n",
    "import matplotlib.pyplot as plt\n",
    "import seaborn as sns\n",
    "\n",
    "# 한글폰트 적용\n",
    "plt.rc('font', family='NanumGothicOTF') # For MacOS\n",
    "# plt.rc('font', family='NanumGothic') # For Windows\n",
    "print(plt.rcParams['font.family'])"
   ]
  },
  {
   "cell_type": "code",
   "execution_count": 3,
   "metadata": {},
   "outputs": [],
   "source": [
    "# 수입 데이터 로딩 (가상데이터)\n",
    "df_org = pd.read_csv('./data/train.csv')"
   ]
  },
  {
   "cell_type": "markdown",
   "metadata": {},
   "source": [
    "# 2. 데이터 전처리 <a id='id2'></a>"
   ]
  },
  {
   "cell_type": "markdown",
   "metadata": {},
   "source": [
    "## 2.1. 전처리 기본(수치형 변수 및 범주형 변수 지정 등)"
   ]
  },
  {
   "cell_type": "code",
   "execution_count": 4,
   "metadata": {},
   "outputs": [
    {
     "data": {
      "text/plain": [
       "(76837, 24)"
      ]
     },
     "execution_count": 4,
     "metadata": {},
     "output_type": "execute_result"
    }
   ],
   "source": [
    "# 데이터 사이즈 확인\n",
    "df_org.shape"
   ]
  },
  {
   "cell_type": "code",
   "execution_count": 5,
   "metadata": {},
   "outputs": [
    {
     "data": {
      "text/html": [
       "<div>\n",
       "<style scoped>\n",
       "    .dataframe tbody tr th:only-of-type {\n",
       "        vertical-align: middle;\n",
       "    }\n",
       "\n",
       "    .dataframe tbody tr th {\n",
       "        vertical-align: top;\n",
       "    }\n",
       "\n",
       "    .dataframe thead th {\n",
       "        text-align: right;\n",
       "    }\n",
       "</style>\n",
       "<table border=\"1\" class=\"dataframe\">\n",
       "  <thead>\n",
       "    <tr style=\"text-align: right;\">\n",
       "      <th></th>\n",
       "      <th>신고번호</th>\n",
       "      <th>신고일자</th>\n",
       "      <th>통관지세관부호</th>\n",
       "      <th>신고인부호</th>\n",
       "      <th>수입자부호</th>\n",
       "      <th>해외거래처부호</th>\n",
       "      <th>특송업체부호</th>\n",
       "      <th>수입통관계획코드</th>\n",
       "      <th>수입신고구분코드</th>\n",
       "      <th>수입거래구분코드</th>\n",
       "      <th>...</th>\n",
       "      <th>운송수단유형코드</th>\n",
       "      <th>반입보세구역부호</th>\n",
       "      <th>HS10단위부호</th>\n",
       "      <th>적출국가코드</th>\n",
       "      <th>원산지국가코드</th>\n",
       "      <th>관세율구분코드</th>\n",
       "      <th>관세율</th>\n",
       "      <th>검사결과코드</th>\n",
       "      <th>우범여부</th>\n",
       "      <th>핵심적발</th>\n",
       "    </tr>\n",
       "  </thead>\n",
       "  <tbody>\n",
       "    <tr>\n",
       "      <th>65380</th>\n",
       "      <td>53699772</td>\n",
       "      <td>2020.8.17</td>\n",
       "      <td>20</td>\n",
       "      <td>9DEBF</td>\n",
       "      <td>0A0IHG8</td>\n",
       "      <td>K50QZTZ</td>\n",
       "      <td>YBNP69</td>\n",
       "      <td>D</td>\n",
       "      <td>E</td>\n",
       "      <td>15</td>\n",
       "      <td>...</td>\n",
       "      <td>40</td>\n",
       "      <td>2011007</td>\n",
       "      <td>6913901000</td>\n",
       "      <td>CN</td>\n",
       "      <td>CN</td>\n",
       "      <td>A</td>\n",
       "      <td>8.0</td>\n",
       "      <td>J8</td>\n",
       "      <td>1</td>\n",
       "      <td>1</td>\n",
       "    </tr>\n",
       "    <tr>\n",
       "      <th>3059</th>\n",
       "      <td>74768363</td>\n",
       "      <td>2020.1.10</td>\n",
       "      <td>40</td>\n",
       "      <td>F32K4</td>\n",
       "      <td>0K6Q33K</td>\n",
       "      <td>NaN</td>\n",
       "      <td>NaN</td>\n",
       "      <td>B</td>\n",
       "      <td>B</td>\n",
       "      <td>11</td>\n",
       "      <td>...</td>\n",
       "      <td>40</td>\n",
       "      <td>1602003</td>\n",
       "      <td>3926909000</td>\n",
       "      <td>MY</td>\n",
       "      <td>MY</td>\n",
       "      <td>C</td>\n",
       "      <td>6.5</td>\n",
       "      <td>A</td>\n",
       "      <td>0</td>\n",
       "      <td>0</td>\n",
       "    </tr>\n",
       "    <tr>\n",
       "      <th>40842</th>\n",
       "      <td>60124914</td>\n",
       "      <td>2020.5.18</td>\n",
       "      <td>33</td>\n",
       "      <td>RWTS0</td>\n",
       "      <td>GQ8T55H</td>\n",
       "      <td>NaN</td>\n",
       "      <td>NaN</td>\n",
       "      <td>C</td>\n",
       "      <td>B</td>\n",
       "      <td>11</td>\n",
       "      <td>...</td>\n",
       "      <td>10</td>\n",
       "      <td>4106006</td>\n",
       "      <td>8531101000</td>\n",
       "      <td>CN</td>\n",
       "      <td>CN</td>\n",
       "      <td>A</td>\n",
       "      <td>8.0</td>\n",
       "      <td>A</td>\n",
       "      <td>0</td>\n",
       "      <td>0</td>\n",
       "    </tr>\n",
       "  </tbody>\n",
       "</table>\n",
       "<p>3 rows × 24 columns</p>\n",
       "</div>"
      ],
      "text/plain": [
       "           신고번호       신고일자  통관지세관부호  신고인부호    수입자부호  해외거래처부호  특송업체부호 수입통관계획코드  \\\n",
       "65380  53699772  2020.8.17       20  9DEBF  0A0IHG8  K50QZTZ  YBNP69        D   \n",
       "3059   74768363  2020.1.10       40  F32K4  0K6Q33K      NaN     NaN        B   \n",
       "40842  60124914  2020.5.18       33  RWTS0  GQ8T55H      NaN     NaN        C   \n",
       "\n",
       "      수입신고구분코드  수입거래구분코드  ...  운송수단유형코드  반입보세구역부호    HS10단위부호  적출국가코드  \\\n",
       "65380        E        15  ...        40   2011007  6913901000      CN   \n",
       "3059         B        11  ...        40   1602003  3926909000      MY   \n",
       "40842        B        11  ...        10   4106006  8531101000      CN   \n",
       "\n",
       "       원산지국가코드  관세율구분코드  관세율 검사결과코드 우범여부 핵심적발  \n",
       "65380       CN        A  8.0     J8    1    1  \n",
       "3059        MY        C  6.5      A    0    0  \n",
       "40842       CN        A  8.0      A    0    0  \n",
       "\n",
       "[3 rows x 24 columns]"
      ]
     },
     "execution_count": 5,
     "metadata": {},
     "output_type": "execute_result"
    }
   ],
   "source": [
    "# 데이터 샘플 3개 확인\n",
    "df_org.sample(3)"
   ]
  },
  {
   "cell_type": "code",
   "execution_count": 6,
   "metadata": {},
   "outputs": [
    {
     "data": {
      "text/plain": [
       "0    59265\n",
       "1    17572\n",
       "Name: 우범여부, dtype: int64"
      ]
     },
     "execution_count": 6,
     "metadata": {},
     "output_type": "execute_result"
    }
   ],
   "source": [
    "df_org['우범여부'].value_counts()"
   ]
  },
  {
   "cell_type": "code",
   "execution_count": 7,
   "metadata": {},
   "outputs": [
    {
     "data": {
      "text/plain": [
       "0    59265\n",
       "2     9049\n",
       "1     8523\n",
       "Name: 핵심적발, dtype: int64"
      ]
     },
     "execution_count": 7,
     "metadata": {},
     "output_type": "execute_result"
    }
   ],
   "source": [
    "df_org['핵심적발'].value_counts()"
   ]
  },
  {
   "cell_type": "code",
   "execution_count": 8,
   "metadata": {},
   "outputs": [],
   "source": [
    "# 불필요한 변수 삭제\n",
    "del df_org['검사결과코드']\n",
    "del df_org['핵심적발']"
   ]
  },
  {
   "cell_type": "code",
   "execution_count": 9,
   "metadata": {},
   "outputs": [
    {
     "data": {
      "text/plain": [
       "Index(['신고번호', '신고일자', '통관지세관부호', '신고인부호', '수입자부호', '해외거래처부호', '특송업체부호',\n",
       "       '수입통관계획코드', '수입신고구분코드', '수입거래구분코드', '수입종류코드', '징수형태코드', '신고중량(KG)',\n",
       "       '과세가격원화금액', '운송수단유형코드', '반입보세구역부호', 'HS10단위부호', '적출국가코드', '원산지국가코드',\n",
       "       '관세율구분코드', '관세율', '우범여부'],\n",
       "      dtype='object')"
      ]
     },
     "execution_count": 9,
     "metadata": {},
     "output_type": "execute_result"
    }
   ],
   "source": [
    "df_org.columns"
   ]
  },
  {
   "cell_type": "code",
   "execution_count": 10,
   "metadata": {},
   "outputs": [
    {
     "data": {
      "text/plain": [
       "(76837, 22)"
      ]
     },
     "execution_count": 10,
     "metadata": {},
     "output_type": "execute_result"
    }
   ],
   "source": [
    "df_org.shape"
   ]
  },
  {
   "cell_type": "code",
   "execution_count": 11,
   "metadata": {},
   "outputs": [
    {
     "name": "stdout",
     "output_type": "stream",
     "text": [
      "<class 'pandas.core.frame.DataFrame'>\n",
      "RangeIndex: 76837 entries, 0 to 76836\n",
      "Data columns (total 22 columns):\n",
      " #   Column    Non-Null Count  Dtype  \n",
      "---  ------    --------------  -----  \n",
      " 0   신고번호      76837 non-null  int64  \n",
      " 1   신고일자      76837 non-null  object \n",
      " 2   통관지세관부호   76837 non-null  int64  \n",
      " 3   신고인부호     76837 non-null  object \n",
      " 4   수입자부호     76829 non-null  object \n",
      " 5   해외거래처부호   50544 non-null  object \n",
      " 6   특송업체부호    25106 non-null  object \n",
      " 7   수입통관계획코드  76837 non-null  object \n",
      " 8   수입신고구분코드  76837 non-null  object \n",
      " 9   수입거래구분코드  76837 non-null  int64  \n",
      " 10  수입종류코드    76837 non-null  int64  \n",
      " 11  징수형태코드    76837 non-null  int64  \n",
      " 12  신고중량(KG)  76837 non-null  float64\n",
      " 13  과세가격원화금액  76837 non-null  float64\n",
      " 14  운송수단유형코드  76837 non-null  int64  \n",
      " 15  반입보세구역부호  76837 non-null  int64  \n",
      " 16  HS10단위부호  76837 non-null  int64  \n",
      " 17  적출국가코드    76837 non-null  object \n",
      " 18  원산지국가코드   76837 non-null  object \n",
      " 19  관세율구분코드   76837 non-null  object \n",
      " 20  관세율       76837 non-null  float64\n",
      " 21  우범여부      76837 non-null  int64  \n",
      "dtypes: float64(3), int64(9), object(10)\n",
      "memory usage: 12.9+ MB\n"
     ]
    }
   ],
   "source": [
    "df_org.info()"
   ]
  },
  {
   "cell_type": "code",
   "execution_count": 12,
   "metadata": {},
   "outputs": [],
   "source": [
    "# 범주형 변수 지정\n",
    "discrete_columns = ['신고일자',  '통관지세관부호',\n",
    "       '신고인부호', '수입자부호', '해외거래처부호', '특송업체부호', '수입통관계획코드', \n",
    "       '수입신고구분코드', '수입거래구분코드',\n",
    "       '수입종류코드', '징수형태코드', \n",
    "       '운송수단유형코드', '반입보세구역부호', \n",
    "       'HS10단위부호', '적출국가코드', '원산지국가코드', '관세율구분코드']\n",
    "\n",
    "# 범주형 변수들을 문자열로 지정 ('object' -> 'string')\n",
    "for var in discrete_columns:\n",
    "    df_org[var] = df_org[var].astype(str)"
   ]
  },
  {
   "cell_type": "code",
   "execution_count": 13,
   "metadata": {},
   "outputs": [
    {
     "name": "stdout",
     "output_type": "stream",
     "text": [
      "<class 'pandas.core.frame.DataFrame'>\n",
      "RangeIndex: 76837 entries, 0 to 76836\n",
      "Data columns (total 22 columns):\n",
      " #   Column    Non-Null Count  Dtype  \n",
      "---  ------    --------------  -----  \n",
      " 0   신고번호      76837 non-null  int64  \n",
      " 1   신고일자      76837 non-null  object \n",
      " 2   통관지세관부호   76837 non-null  object \n",
      " 3   신고인부호     76837 non-null  object \n",
      " 4   수입자부호     76837 non-null  object \n",
      " 5   해외거래처부호   76837 non-null  object \n",
      " 6   특송업체부호    76837 non-null  object \n",
      " 7   수입통관계획코드  76837 non-null  object \n",
      " 8   수입신고구분코드  76837 non-null  object \n",
      " 9   수입거래구분코드  76837 non-null  object \n",
      " 10  수입종류코드    76837 non-null  object \n",
      " 11  징수형태코드    76837 non-null  object \n",
      " 12  신고중량(KG)  76837 non-null  float64\n",
      " 13  과세가격원화금액  76837 non-null  float64\n",
      " 14  운송수단유형코드  76837 non-null  object \n",
      " 15  반입보세구역부호  76837 non-null  object \n",
      " 16  HS10단위부호  76837 non-null  object \n",
      " 17  적출국가코드    76837 non-null  object \n",
      " 18  원산지국가코드   76837 non-null  object \n",
      " 19  관세율구분코드   76837 non-null  object \n",
      " 20  관세율       76837 non-null  float64\n",
      " 21  우범여부      76837 non-null  int64  \n",
      "dtypes: float64(3), int64(2), object(17)\n",
      "memory usage: 12.9+ MB\n"
     ]
    }
   ],
   "source": [
    "df_org.info()"
   ]
  },
  {
   "cell_type": "code",
   "execution_count": 14,
   "metadata": {},
   "outputs": [],
   "source": [
    "# 수치형 변수 지정\n",
    "numeric_columns = ['신고중량(KG)', '과세가격원화금액', '관세율', '우범여부']\n",
    "\n",
    "# 수치형 변수를 자연로그로 변환\n",
    "for var in ['신고중량(KG)', '과세가격원화금액']:\n",
    "    df_org[var] = df_org[var].apply(lambda x: np.log1p(x))"
   ]
  },
  {
   "cell_type": "code",
   "execution_count": 15,
   "metadata": {},
   "outputs": [
    {
     "data": {
      "text/html": [
       "<div>\n",
       "<style scoped>\n",
       "    .dataframe tbody tr th:only-of-type {\n",
       "        vertical-align: middle;\n",
       "    }\n",
       "\n",
       "    .dataframe tbody tr th {\n",
       "        vertical-align: top;\n",
       "    }\n",
       "\n",
       "    .dataframe thead th {\n",
       "        text-align: right;\n",
       "    }\n",
       "</style>\n",
       "<table border=\"1\" class=\"dataframe\">\n",
       "  <thead>\n",
       "    <tr style=\"text-align: right;\">\n",
       "      <th></th>\n",
       "      <th>신고번호</th>\n",
       "      <th>신고일자</th>\n",
       "      <th>통관지세관부호</th>\n",
       "      <th>신고인부호</th>\n",
       "      <th>수입자부호</th>\n",
       "      <th>해외거래처부호</th>\n",
       "      <th>특송업체부호</th>\n",
       "      <th>수입통관계획코드</th>\n",
       "      <th>수입신고구분코드</th>\n",
       "      <th>수입거래구분코드</th>\n",
       "      <th>...</th>\n",
       "      <th>신고중량(KG)</th>\n",
       "      <th>과세가격원화금액</th>\n",
       "      <th>운송수단유형코드</th>\n",
       "      <th>반입보세구역부호</th>\n",
       "      <th>HS10단위부호</th>\n",
       "      <th>적출국가코드</th>\n",
       "      <th>원산지국가코드</th>\n",
       "      <th>관세율구분코드</th>\n",
       "      <th>관세율</th>\n",
       "      <th>우범여부</th>\n",
       "    </tr>\n",
       "  </thead>\n",
       "  <tbody>\n",
       "    <tr>\n",
       "      <th>0</th>\n",
       "      <td>57298928</td>\n",
       "      <td>2020.1.1</td>\n",
       "      <td>121</td>\n",
       "      <td>2O5A2</td>\n",
       "      <td>82ZHWNL</td>\n",
       "      <td>nan</td>\n",
       "      <td>TQ18AK</td>\n",
       "      <td>D</td>\n",
       "      <td>B</td>\n",
       "      <td>15</td>\n",
       "      <td>...</td>\n",
       "      <td>4.844187</td>\n",
       "      <td>8.593963</td>\n",
       "      <td>10</td>\n",
       "      <td>2106003</td>\n",
       "      <td>8481900000</td>\n",
       "      <td>US</td>\n",
       "      <td>US</td>\n",
       "      <td>A</td>\n",
       "      <td>8.0</td>\n",
       "      <td>1</td>\n",
       "    </tr>\n",
       "    <tr>\n",
       "      <th>1</th>\n",
       "      <td>85092852</td>\n",
       "      <td>2020.1.1</td>\n",
       "      <td>30</td>\n",
       "      <td>305K5</td>\n",
       "      <td>5IS70LE</td>\n",
       "      <td>nan</td>\n",
       "      <td>nan</td>\n",
       "      <td>C</td>\n",
       "      <td>B</td>\n",
       "      <td>11</td>\n",
       "      <td>...</td>\n",
       "      <td>10.303820</td>\n",
       "      <td>13.258812</td>\n",
       "      <td>40</td>\n",
       "      <td>4077010</td>\n",
       "      <td>2106909099</td>\n",
       "      <td>US</td>\n",
       "      <td>US</td>\n",
       "      <td>A</td>\n",
       "      <td>8.0</td>\n",
       "      <td>0</td>\n",
       "    </tr>\n",
       "    <tr>\n",
       "      <th>2</th>\n",
       "      <td>63014158</td>\n",
       "      <td>2020.1.1</td>\n",
       "      <td>20</td>\n",
       "      <td>CGMT6</td>\n",
       "      <td>GJ5KBL3</td>\n",
       "      <td>R9ZQOG7</td>\n",
       "      <td>nan</td>\n",
       "      <td>D</td>\n",
       "      <td>B</td>\n",
       "      <td>11</td>\n",
       "      <td>...</td>\n",
       "      <td>10.067242</td>\n",
       "      <td>10.862759</td>\n",
       "      <td>40</td>\n",
       "      <td>4077007</td>\n",
       "      <td>6307909000</td>\n",
       "      <td>US</td>\n",
       "      <td>US</td>\n",
       "      <td>A</td>\n",
       "      <td>10.0</td>\n",
       "      <td>0</td>\n",
       "    </tr>\n",
       "    <tr>\n",
       "      <th>3</th>\n",
       "      <td>40175917</td>\n",
       "      <td>2020.1.1</td>\n",
       "      <td>40</td>\n",
       "      <td>QWUTG</td>\n",
       "      <td>PBYW02T</td>\n",
       "      <td>nan</td>\n",
       "      <td>nan</td>\n",
       "      <td>C</td>\n",
       "      <td>B</td>\n",
       "      <td>94</td>\n",
       "      <td>...</td>\n",
       "      <td>9.429564</td>\n",
       "      <td>14.388527</td>\n",
       "      <td>40</td>\n",
       "      <td>4077106</td>\n",
       "      <td>6505009090</td>\n",
       "      <td>CN</td>\n",
       "      <td>CN</td>\n",
       "      <td>A</td>\n",
       "      <td>8.0</td>\n",
       "      <td>0</td>\n",
       "    </tr>\n",
       "    <tr>\n",
       "      <th>4</th>\n",
       "      <td>11602631</td>\n",
       "      <td>2020.1.1</td>\n",
       "      <td>30</td>\n",
       "      <td>0X1CO</td>\n",
       "      <td>MCX0GJB</td>\n",
       "      <td>4Z9PX0Y</td>\n",
       "      <td>nan</td>\n",
       "      <td>C</td>\n",
       "      <td>B</td>\n",
       "      <td>11</td>\n",
       "      <td>...</td>\n",
       "      <td>9.661015</td>\n",
       "      <td>15.987683</td>\n",
       "      <td>40</td>\n",
       "      <td>2006075</td>\n",
       "      <td>6204320000</td>\n",
       "      <td>CN</td>\n",
       "      <td>CN</td>\n",
       "      <td>FCN1</td>\n",
       "      <td>5.2</td>\n",
       "      <td>1</td>\n",
       "    </tr>\n",
       "  </tbody>\n",
       "</table>\n",
       "<p>5 rows × 22 columns</p>\n",
       "</div>"
      ],
      "text/plain": [
       "       신고번호      신고일자 통관지세관부호  신고인부호    수입자부호  해외거래처부호  특송업체부호 수입통관계획코드  \\\n",
       "0  57298928  2020.1.1     121  2O5A2  82ZHWNL      nan  TQ18AK        D   \n",
       "1  85092852  2020.1.1      30  305K5  5IS70LE      nan     nan        C   \n",
       "2  63014158  2020.1.1      20  CGMT6  GJ5KBL3  R9ZQOG7     nan        D   \n",
       "3  40175917  2020.1.1      40  QWUTG  PBYW02T      nan     nan        C   \n",
       "4  11602631  2020.1.1      30  0X1CO  MCX0GJB  4Z9PX0Y     nan        C   \n",
       "\n",
       "  수입신고구분코드 수입거래구분코드  ...   신고중량(KG)   과세가격원화금액  운송수단유형코드  반입보세구역부호  \\\n",
       "0        B       15  ...   4.844187   8.593963        10   2106003   \n",
       "1        B       11  ...  10.303820  13.258812        40   4077010   \n",
       "2        B       11  ...  10.067242  10.862759        40   4077007   \n",
       "3        B       94  ...   9.429564  14.388527        40   4077106   \n",
       "4        B       11  ...   9.661015  15.987683        40   2006075   \n",
       "\n",
       "     HS10단위부호 적출국가코드 원산지국가코드 관세율구분코드   관세율 우범여부  \n",
       "0  8481900000     US      US       A   8.0    1  \n",
       "1  2106909099     US      US       A   8.0    0  \n",
       "2  6307909000     US      US       A  10.0    0  \n",
       "3  6505009090     CN      CN       A   8.0    0  \n",
       "4  6204320000     CN      CN    FCN1   5.2    1  \n",
       "\n",
       "[5 rows x 22 columns]"
      ]
     },
     "execution_count": 15,
     "metadata": {},
     "output_type": "execute_result"
    }
   ],
   "source": [
    "df_org.head(5)"
   ]
  },
  {
   "cell_type": "markdown",
   "metadata": {},
   "source": [
    "## 2.2. 훈련데이터와 테스트데이터 분리 및 범주형 변수 전처리 "
   ]
  },
  {
   "cell_type": "code",
   "execution_count": 16,
   "metadata": {},
   "outputs": [],
   "source": [
    "# 날짜 순에 따라 90:10 으로 훈련 및 테스트 데이터 분리\n",
    "df_org_train = df_org.iloc[:int(len(df_org)*0.9), :]\n",
    "df_org_test = df_org.iloc[int(len(df_org)*0.9):, :]"
   ]
  },
  {
   "cell_type": "code",
   "execution_count": 17,
   "metadata": {},
   "outputs": [
    {
     "name": "stdout",
     "output_type": "stream",
     "text": [
      "(69153, 22) (7684, 22)\n"
     ]
    }
   ],
   "source": [
    "# 데이터 사이즈 확인\n",
    "print(df_org_train.shape, df_org_test.shape)"
   ]
  },
  {
   "cell_type": "code",
   "execution_count": 18,
   "metadata": {},
   "outputs": [
    {
     "data": {
      "text/plain": [
       "Index(['신고번호', '신고일자', '통관지세관부호', '신고인부호', '수입자부호', '해외거래처부호', '특송업체부호',\n",
       "       '수입통관계획코드', '수입신고구분코드', '수입거래구분코드', '수입종류코드', '징수형태코드', '신고중량(KG)',\n",
       "       '과세가격원화금액', '운송수단유형코드', '반입보세구역부호', 'HS10단위부호', '적출국가코드', '원산지국가코드',\n",
       "       '관세율구분코드', '관세율', '우범여부'],\n",
       "      dtype='object')"
      ]
     },
     "execution_count": 18,
     "metadata": {},
     "output_type": "execute_result"
    }
   ],
   "source": [
    "df_org.columns"
   ]
  },
  {
   "cell_type": "code",
   "execution_count": 19,
   "metadata": {},
   "outputs": [
    {
     "data": {
      "text/plain": [
       "(76837, 22)"
      ]
     },
     "execution_count": 19,
     "metadata": {},
     "output_type": "execute_result"
    }
   ],
   "source": [
    "df_org.shape"
   ]
  },
  {
   "cell_type": "code",
   "execution_count": 20,
   "metadata": {
    "scrolled": true
   },
   "outputs": [
    {
     "name": "stderr",
     "output_type": "stream",
     "text": [
      "<ipython-input-20-83ae4e2984ed>:10: SettingWithCopyWarning: \n",
      "A value is trying to be set on a copy of a slice from a DataFrame.\n",
      "Try using .loc[row_indexer,col_indexer] = value instead\n",
      "\n",
      "See the caveats in the documentation: https://pandas.pydata.org/pandas-docs/stable/user_guide/indexing.html#returning-a-view-versus-a-copy\n",
      "  df_org_train[var] = [label_encoding_ref[var][x] for x in df_org_train[var]]\n",
      "<ipython-input-20-83ae4e2984ed>:11: SettingWithCopyWarning: \n",
      "A value is trying to be set on a copy of a slice from a DataFrame.\n",
      "Try using .loc[row_indexer,col_indexer] = value instead\n",
      "\n",
      "See the caveats in the documentation: https://pandas.pydata.org/pandas-docs/stable/user_guide/indexing.html#returning-a-view-versus-a-copy\n",
      "  df_org_test[var] = [label_encoding_ref[var].get(x,0) for x in df_org_test[var]]\n"
     ]
    }
   ],
   "source": [
    "# 이 코드는 문제 : categorical 변수를 단순히 숫자로 mapping\n",
    "\n",
    "# 범주형 변수 전처리 1단계: label encoding --> 각 범주형 변수가 갖는 클래스에 고유의 식별번호 부여\n",
    "# 예) 수입자 상호: AAABB -> 1, 가나다라 -> 2, ...\n",
    "\n",
    "label_encoding_ref = {}\n",
    "for var in discrete_columns:\n",
    "    label_encoding_ref[var] = {code: i+1 for i, code in enumerate(df_org_train[var].unique())} # 0 padding for unseen data in test\n",
    "    #print(label_encoding_ref[var])\n",
    "    df_org_train[var] = [label_encoding_ref[var][x] for x in df_org_train[var]]\n",
    "    df_org_test[var] = [label_encoding_ref[var].get(x,0) for x in df_org_test[var]]\n",
    "\n",
    "df_org_train.reset_index(drop=True, inplace=True)\n",
    "df_org_test.reset_index(drop=True, inplace=True)"
   ]
  },
  {
   "cell_type": "code",
   "execution_count": 21,
   "metadata": {},
   "outputs": [
    {
     "data": {
      "text/html": [
       "<div>\n",
       "<style scoped>\n",
       "    .dataframe tbody tr th:only-of-type {\n",
       "        vertical-align: middle;\n",
       "    }\n",
       "\n",
       "    .dataframe tbody tr th {\n",
       "        vertical-align: top;\n",
       "    }\n",
       "\n",
       "    .dataframe thead th {\n",
       "        text-align: right;\n",
       "    }\n",
       "</style>\n",
       "<table border=\"1\" class=\"dataframe\">\n",
       "  <thead>\n",
       "    <tr style=\"text-align: right;\">\n",
       "      <th></th>\n",
       "      <th>신고번호</th>\n",
       "      <th>신고일자</th>\n",
       "      <th>통관지세관부호</th>\n",
       "      <th>신고인부호</th>\n",
       "      <th>수입자부호</th>\n",
       "      <th>해외거래처부호</th>\n",
       "      <th>특송업체부호</th>\n",
       "      <th>수입통관계획코드</th>\n",
       "      <th>수입신고구분코드</th>\n",
       "      <th>수입거래구분코드</th>\n",
       "      <th>...</th>\n",
       "      <th>신고중량(KG)</th>\n",
       "      <th>과세가격원화금액</th>\n",
       "      <th>운송수단유형코드</th>\n",
       "      <th>반입보세구역부호</th>\n",
       "      <th>HS10단위부호</th>\n",
       "      <th>적출국가코드</th>\n",
       "      <th>원산지국가코드</th>\n",
       "      <th>관세율구분코드</th>\n",
       "      <th>관세율</th>\n",
       "      <th>우범여부</th>\n",
       "    </tr>\n",
       "  </thead>\n",
       "  <tbody>\n",
       "    <tr>\n",
       "      <th>37935</th>\n",
       "      <td>78343890</td>\n",
       "      <td>127</td>\n",
       "      <td>5</td>\n",
       "      <td>89</td>\n",
       "      <td>433</td>\n",
       "      <td>1225</td>\n",
       "      <td>2</td>\n",
       "      <td>1</td>\n",
       "      <td>1</td>\n",
       "      <td>2</td>\n",
       "      <td>...</td>\n",
       "      <td>9.401374</td>\n",
       "      <td>15.469423</td>\n",
       "      <td>1</td>\n",
       "      <td>37</td>\n",
       "      <td>173</td>\n",
       "      <td>16</td>\n",
       "      <td>5</td>\n",
       "      <td>8</td>\n",
       "      <td>0.0</td>\n",
       "      <td>0</td>\n",
       "    </tr>\n",
       "    <tr>\n",
       "      <th>12136</th>\n",
       "      <td>22607748</td>\n",
       "      <td>38</td>\n",
       "      <td>3</td>\n",
       "      <td>521</td>\n",
       "      <td>71</td>\n",
       "      <td>1132</td>\n",
       "      <td>2</td>\n",
       "      <td>2</td>\n",
       "      <td>1</td>\n",
       "      <td>3</td>\n",
       "      <td>...</td>\n",
       "      <td>10.268849</td>\n",
       "      <td>16.538336</td>\n",
       "      <td>2</td>\n",
       "      <td>109</td>\n",
       "      <td>1276</td>\n",
       "      <td>2</td>\n",
       "      <td>2</td>\n",
       "      <td>1</td>\n",
       "      <td>13.0</td>\n",
       "      <td>0</td>\n",
       "    </tr>\n",
       "    <tr>\n",
       "      <th>68213</th>\n",
       "      <td>79322325</td>\n",
       "      <td>238</td>\n",
       "      <td>4</td>\n",
       "      <td>214</td>\n",
       "      <td>241</td>\n",
       "      <td>1</td>\n",
       "      <td>14</td>\n",
       "      <td>2</td>\n",
       "      <td>1</td>\n",
       "      <td>3</td>\n",
       "      <td>...</td>\n",
       "      <td>9.979212</td>\n",
       "      <td>14.195464</td>\n",
       "      <td>2</td>\n",
       "      <td>9</td>\n",
       "      <td>266</td>\n",
       "      <td>2</td>\n",
       "      <td>2</td>\n",
       "      <td>3</td>\n",
       "      <td>0.0</td>\n",
       "      <td>0</td>\n",
       "    </tr>\n",
       "  </tbody>\n",
       "</table>\n",
       "<p>3 rows × 22 columns</p>\n",
       "</div>"
      ],
      "text/plain": [
       "           신고번호  신고일자  통관지세관부호  신고인부호  수입자부호  해외거래처부호  특송업체부호  수입통관계획코드  \\\n",
       "37935  78343890   127        5     89    433     1225       2         1   \n",
       "12136  22607748    38        3    521     71     1132       2         2   \n",
       "68213  79322325   238        4    214    241        1      14         2   \n",
       "\n",
       "       수입신고구분코드  수입거래구분코드  ...   신고중량(KG)   과세가격원화금액  운송수단유형코드  반입보세구역부호  \\\n",
       "37935         1         2  ...   9.401374  15.469423         1        37   \n",
       "12136         1         3  ...  10.268849  16.538336         2       109   \n",
       "68213         1         3  ...   9.979212  14.195464         2         9   \n",
       "\n",
       "       HS10단위부호  적출국가코드  원산지국가코드  관세율구분코드   관세율  우범여부  \n",
       "37935       173      16        5        8   0.0     0  \n",
       "12136      1276       2        2        1  13.0     0  \n",
       "68213       266       2        2        3   0.0     0  \n",
       "\n",
       "[3 rows x 22 columns]"
      ]
     },
     "execution_count": 21,
     "metadata": {},
     "output_type": "execute_result"
    }
   ],
   "source": [
    "# 트레인데이터 샘플 확인\n",
    "df_org_train.sample(3)"
   ]
  },
  {
   "cell_type": "code",
   "execution_count": 22,
   "metadata": {},
   "outputs": [
    {
     "data": {
      "text/html": [
       "<div>\n",
       "<style scoped>\n",
       "    .dataframe tbody tr th:only-of-type {\n",
       "        vertical-align: middle;\n",
       "    }\n",
       "\n",
       "    .dataframe tbody tr th {\n",
       "        vertical-align: top;\n",
       "    }\n",
       "\n",
       "    .dataframe thead th {\n",
       "        text-align: right;\n",
       "    }\n",
       "</style>\n",
       "<table border=\"1\" class=\"dataframe\">\n",
       "  <thead>\n",
       "    <tr style=\"text-align: right;\">\n",
       "      <th></th>\n",
       "      <th>신고번호</th>\n",
       "      <th>신고일자</th>\n",
       "      <th>통관지세관부호</th>\n",
       "      <th>신고인부호</th>\n",
       "      <th>수입자부호</th>\n",
       "      <th>해외거래처부호</th>\n",
       "      <th>특송업체부호</th>\n",
       "      <th>수입통관계획코드</th>\n",
       "      <th>수입신고구분코드</th>\n",
       "      <th>수입거래구분코드</th>\n",
       "      <th>...</th>\n",
       "      <th>신고중량(KG)</th>\n",
       "      <th>과세가격원화금액</th>\n",
       "      <th>운송수단유형코드</th>\n",
       "      <th>반입보세구역부호</th>\n",
       "      <th>HS10단위부호</th>\n",
       "      <th>적출국가코드</th>\n",
       "      <th>원산지국가코드</th>\n",
       "      <th>관세율구분코드</th>\n",
       "      <th>관세율</th>\n",
       "      <th>우범여부</th>\n",
       "    </tr>\n",
       "  </thead>\n",
       "  <tbody>\n",
       "    <tr>\n",
       "      <th>6011</th>\n",
       "      <td>22263931</td>\n",
       "      <td>0</td>\n",
       "      <td>11</td>\n",
       "      <td>3</td>\n",
       "      <td>2684</td>\n",
       "      <td>269</td>\n",
       "      <td>2</td>\n",
       "      <td>1</td>\n",
       "      <td>1</td>\n",
       "      <td>2</td>\n",
       "      <td>...</td>\n",
       "      <td>8.586346</td>\n",
       "      <td>11.547276</td>\n",
       "      <td>1</td>\n",
       "      <td>262</td>\n",
       "      <td>396</td>\n",
       "      <td>2</td>\n",
       "      <td>2</td>\n",
       "      <td>4</td>\n",
       "      <td>0.0</td>\n",
       "      <td>0</td>\n",
       "    </tr>\n",
       "    <tr>\n",
       "      <th>5657</th>\n",
       "      <td>52262586</td>\n",
       "      <td>0</td>\n",
       "      <td>4</td>\n",
       "      <td>269</td>\n",
       "      <td>131</td>\n",
       "      <td>3546</td>\n",
       "      <td>7</td>\n",
       "      <td>5</td>\n",
       "      <td>1</td>\n",
       "      <td>3</td>\n",
       "      <td>...</td>\n",
       "      <td>10.128505</td>\n",
       "      <td>15.920718</td>\n",
       "      <td>2</td>\n",
       "      <td>90</td>\n",
       "      <td>820</td>\n",
       "      <td>1</td>\n",
       "      <td>1</td>\n",
       "      <td>9</td>\n",
       "      <td>554.8</td>\n",
       "      <td>1</td>\n",
       "    </tr>\n",
       "    <tr>\n",
       "      <th>4965</th>\n",
       "      <td>81268603</td>\n",
       "      <td>0</td>\n",
       "      <td>3</td>\n",
       "      <td>52</td>\n",
       "      <td>1076</td>\n",
       "      <td>1</td>\n",
       "      <td>2</td>\n",
       "      <td>1</td>\n",
       "      <td>1</td>\n",
       "      <td>2</td>\n",
       "      <td>...</td>\n",
       "      <td>8.828421</td>\n",
       "      <td>12.481038</td>\n",
       "      <td>2</td>\n",
       "      <td>13</td>\n",
       "      <td>73</td>\n",
       "      <td>2</td>\n",
       "      <td>2</td>\n",
       "      <td>2</td>\n",
       "      <td>7.8</td>\n",
       "      <td>0</td>\n",
       "    </tr>\n",
       "  </tbody>\n",
       "</table>\n",
       "<p>3 rows × 22 columns</p>\n",
       "</div>"
      ],
      "text/plain": [
       "          신고번호  신고일자  통관지세관부호  신고인부호  수입자부호  해외거래처부호  특송업체부호  수입통관계획코드  \\\n",
       "6011  22263931     0       11      3   2684      269       2         1   \n",
       "5657  52262586     0        4    269    131     3546       7         5   \n",
       "4965  81268603     0        3     52   1076        1       2         1   \n",
       "\n",
       "      수입신고구분코드  수입거래구분코드  ...   신고중량(KG)   과세가격원화금액  운송수단유형코드  반입보세구역부호  \\\n",
       "6011         1         2  ...   8.586346  11.547276         1       262   \n",
       "5657         1         3  ...  10.128505  15.920718         2        90   \n",
       "4965         1         2  ...   8.828421  12.481038         2        13   \n",
       "\n",
       "      HS10단위부호  적출국가코드  원산지국가코드  관세율구분코드    관세율  우범여부  \n",
       "6011       396       2        2        4    0.0     0  \n",
       "5657       820       1        1        9  554.8     1  \n",
       "4965        73       2        2        2    7.8     0  \n",
       "\n",
       "[3 rows x 22 columns]"
      ]
     },
     "execution_count": 22,
     "metadata": {},
     "output_type": "execute_result"
    }
   ],
   "source": [
    "# 테스트데이터 샘플 확인\n",
    "df_org_test.sample(3)"
   ]
  },
  {
   "cell_type": "code",
   "execution_count": 23,
   "metadata": {},
   "outputs": [],
   "source": [
    "# 아까 숫자로 변환시킨 것에서 ->one-hot-encoding\n",
    "# 예) A,B,C 3개의 클래스가 있는 범주형 변수를 다음과 같이 변환\n",
    "# A -> [1,0,0] / B -> [0,1,0] / C -> [0,0,1]\n",
    "\n",
    "# 원핫인코더 로딩\n",
    "from sklearn.preprocessing import  OneHotEncoder\n",
    "# 원핫인코더 활성화\n",
    "xgbohe = OneHotEncoder(categories=\"auto\", handle_unknown='ignore')\n",
    "# 훈련데이터: 범주형 변수만 분리하여 원핫인코딩 적용\n",
    "df_org_train_cat = xgbohe.fit_transform(df_org_train[discrete_columns])\n",
    "df_org_train_cat = pd.DataFrame(df_org_train_cat.toarray(), \n",
    "                                columns = xgbohe.get_feature_names(discrete_columns))\n",
    "# 수치형 변수 분리\n",
    "df_org_train_num = df_org_train[numeric_columns]\n",
    "\n",
    "# 원핫인코딩된 범주형 변수와 수치형 변수 재결합\n",
    "df_org_train = pd.concat([df_org_train_num, df_org_train_cat], axis=1)"
   ]
  },
  {
   "cell_type": "code",
   "execution_count": 24,
   "metadata": {},
   "outputs": [
    {
     "data": {
      "text/html": [
       "<div>\n",
       "<style scoped>\n",
       "    .dataframe tbody tr th:only-of-type {\n",
       "        vertical-align: middle;\n",
       "    }\n",
       "\n",
       "    .dataframe tbody tr th {\n",
       "        vertical-align: top;\n",
       "    }\n",
       "\n",
       "    .dataframe thead th {\n",
       "        text-align: right;\n",
       "    }\n",
       "</style>\n",
       "<table border=\"1\" class=\"dataframe\">\n",
       "  <thead>\n",
       "    <tr style=\"text-align: right;\">\n",
       "      <th></th>\n",
       "      <th>신고중량(KG)</th>\n",
       "      <th>과세가격원화금액</th>\n",
       "      <th>관세율</th>\n",
       "      <th>우범여부</th>\n",
       "      <th>신고일자_1</th>\n",
       "      <th>신고일자_2</th>\n",
       "      <th>신고일자_3</th>\n",
       "      <th>신고일자_4</th>\n",
       "      <th>신고일자_5</th>\n",
       "      <th>신고일자_6</th>\n",
       "      <th>...</th>\n",
       "      <th>관세율구분코드_26</th>\n",
       "      <th>관세율구분코드_27</th>\n",
       "      <th>관세율구분코드_28</th>\n",
       "      <th>관세율구분코드_29</th>\n",
       "      <th>관세율구분코드_30</th>\n",
       "      <th>관세율구분코드_31</th>\n",
       "      <th>관세율구분코드_32</th>\n",
       "      <th>관세율구분코드_33</th>\n",
       "      <th>관세율구분코드_34</th>\n",
       "      <th>관세율구분코드_35</th>\n",
       "    </tr>\n",
       "  </thead>\n",
       "  <tbody>\n",
       "    <tr>\n",
       "      <th>0</th>\n",
       "      <td>4.844187</td>\n",
       "      <td>8.593963</td>\n",
       "      <td>8.0</td>\n",
       "      <td>1</td>\n",
       "      <td>1.0</td>\n",
       "      <td>0.0</td>\n",
       "      <td>0.0</td>\n",
       "      <td>0.0</td>\n",
       "      <td>0.0</td>\n",
       "      <td>0.0</td>\n",
       "      <td>...</td>\n",
       "      <td>0.0</td>\n",
       "      <td>0.0</td>\n",
       "      <td>0.0</td>\n",
       "      <td>0.0</td>\n",
       "      <td>0.0</td>\n",
       "      <td>0.0</td>\n",
       "      <td>0.0</td>\n",
       "      <td>0.0</td>\n",
       "      <td>0.0</td>\n",
       "      <td>0.0</td>\n",
       "    </tr>\n",
       "  </tbody>\n",
       "</table>\n",
       "<p>1 rows × 17508 columns</p>\n",
       "</div>"
      ],
      "text/plain": [
       "   신고중량(KG)  과세가격원화금액  관세율  우범여부  신고일자_1  신고일자_2  신고일자_3  신고일자_4  신고일자_5  \\\n",
       "0  4.844187  8.593963  8.0     1     1.0     0.0     0.0     0.0     0.0   \n",
       "\n",
       "   신고일자_6  ...  관세율구분코드_26  관세율구분코드_27  관세율구분코드_28  관세율구분코드_29  관세율구분코드_30  \\\n",
       "0     0.0  ...         0.0         0.0         0.0         0.0         0.0   \n",
       "\n",
       "   관세율구분코드_31  관세율구분코드_32  관세율구분코드_33  관세율구분코드_34  관세율구분코드_35  \n",
       "0         0.0         0.0         0.0         0.0         0.0  \n",
       "\n",
       "[1 rows x 17508 columns]"
      ]
     },
     "execution_count": 24,
     "metadata": {},
     "output_type": "execute_result"
    }
   ],
   "source": [
    "# 훈련데이터 샘플 확인\n",
    "df_org_train.head(1)"
   ]
  },
  {
   "cell_type": "code",
   "execution_count": 25,
   "metadata": {},
   "outputs": [],
   "source": [
    "# 테스트데이터: 범주형 변수만 분리하여 원핫인코딩 적용\n",
    "df_org_test_cat = xgbohe.transform(df_org_test[discrete_columns])\n",
    "df_org_test_cat = pd.DataFrame(df_org_test_cat.toarray(), \n",
    "                               columns = xgbohe.get_feature_names(discrete_columns))\n",
    "# 수치형 변수 분리\n",
    "df_org_test_num = df_org_test[numeric_columns]\n",
    "# 원핫인코딩된 범주형 변수와 수치형 변수 재결합\n",
    "df_org_test = pd.concat([df_org_test_num, df_org_test_cat], axis=1)"
   ]
  },
  {
   "cell_type": "code",
   "execution_count": 26,
   "metadata": {},
   "outputs": [
    {
     "data": {
      "text/html": [
       "<div>\n",
       "<style scoped>\n",
       "    .dataframe tbody tr th:only-of-type {\n",
       "        vertical-align: middle;\n",
       "    }\n",
       "\n",
       "    .dataframe tbody tr th {\n",
       "        vertical-align: top;\n",
       "    }\n",
       "\n",
       "    .dataframe thead th {\n",
       "        text-align: right;\n",
       "    }\n",
       "</style>\n",
       "<table border=\"1\" class=\"dataframe\">\n",
       "  <thead>\n",
       "    <tr style=\"text-align: right;\">\n",
       "      <th></th>\n",
       "      <th>신고중량(KG)</th>\n",
       "      <th>과세가격원화금액</th>\n",
       "      <th>관세율</th>\n",
       "      <th>우범여부</th>\n",
       "      <th>신고일자_1</th>\n",
       "      <th>신고일자_2</th>\n",
       "      <th>신고일자_3</th>\n",
       "      <th>신고일자_4</th>\n",
       "      <th>신고일자_5</th>\n",
       "      <th>신고일자_6</th>\n",
       "      <th>...</th>\n",
       "      <th>관세율구분코드_26</th>\n",
       "      <th>관세율구분코드_27</th>\n",
       "      <th>관세율구분코드_28</th>\n",
       "      <th>관세율구분코드_29</th>\n",
       "      <th>관세율구분코드_30</th>\n",
       "      <th>관세율구분코드_31</th>\n",
       "      <th>관세율구분코드_32</th>\n",
       "      <th>관세율구분코드_33</th>\n",
       "      <th>관세율구분코드_34</th>\n",
       "      <th>관세율구분코드_35</th>\n",
       "    </tr>\n",
       "  </thead>\n",
       "  <tbody>\n",
       "    <tr>\n",
       "      <th>0</th>\n",
       "      <td>8.63145</td>\n",
       "      <td>16.057899</td>\n",
       "      <td>0.0</td>\n",
       "      <td>1</td>\n",
       "      <td>0.0</td>\n",
       "      <td>0.0</td>\n",
       "      <td>0.0</td>\n",
       "      <td>0.0</td>\n",
       "      <td>0.0</td>\n",
       "      <td>0.0</td>\n",
       "      <td>...</td>\n",
       "      <td>0.0</td>\n",
       "      <td>0.0</td>\n",
       "      <td>0.0</td>\n",
       "      <td>0.0</td>\n",
       "      <td>0.0</td>\n",
       "      <td>0.0</td>\n",
       "      <td>0.0</td>\n",
       "      <td>0.0</td>\n",
       "      <td>0.0</td>\n",
       "      <td>0.0</td>\n",
       "    </tr>\n",
       "  </tbody>\n",
       "</table>\n",
       "<p>1 rows × 17508 columns</p>\n",
       "</div>"
      ],
      "text/plain": [
       "   신고중량(KG)   과세가격원화금액  관세율  우범여부  신고일자_1  신고일자_2  신고일자_3  신고일자_4  신고일자_5  \\\n",
       "0   8.63145  16.057899  0.0     1     0.0     0.0     0.0     0.0     0.0   \n",
       "\n",
       "   신고일자_6  ...  관세율구분코드_26  관세율구분코드_27  관세율구분코드_28  관세율구분코드_29  관세율구분코드_30  \\\n",
       "0     0.0  ...         0.0         0.0         0.0         0.0         0.0   \n",
       "\n",
       "   관세율구분코드_31  관세율구분코드_32  관세율구분코드_33  관세율구분코드_34  관세율구분코드_35  \n",
       "0         0.0         0.0         0.0         0.0         0.0  \n",
       "\n",
       "[1 rows x 17508 columns]"
      ]
     },
     "execution_count": 26,
     "metadata": {},
     "output_type": "execute_result"
    }
   ],
   "source": [
    "# 테스트데이터 샘플 확인\n",
    "df_org_test.head(1)"
   ]
  },
  {
   "cell_type": "code",
   "execution_count": 27,
   "metadata": {},
   "outputs": [],
   "source": [
    "# 모델예측 대상인 우범여부 변수 분리\n",
    "org_train_y = df_org_train.pop('우범여부')\n",
    "org_test_y = df_org_test.pop('우범여부')"
   ]
  },
  {
   "cell_type": "code",
   "execution_count": 28,
   "metadata": {},
   "outputs": [
    {
     "name": "stdout",
     "output_type": "stream",
     "text": [
      "훈련  데이터 비우범건수: 53371, 훈련  데이터 우범건수: 15782\n",
      "테스트데이터 비우범건수: 5894, 테스트데이터 우범건수: 1790\n"
     ]
    }
   ],
   "source": [
    "# 훈련데이터와 테스트데이터에서 우범건수 비교\n",
    "from collections import Counter\n",
    "cnt_train = Counter(org_train_y)\n",
    "cnt_test = Counter(org_test_y)\n",
    "\n",
    "print(f\"훈련  데이터 비우범건수: {cnt_train[0]}, 훈련  데이터 우범건수: {cnt_train[1]}\")\n",
    "print(f\"테스트데이터 비우범건수: {cnt_test[0]}, 테스트데이터 우범건수: {cnt_test[1]}\")"
   ]
  },
  {
   "cell_type": "markdown",
   "metadata": {},
   "source": [
    "# 3. 모델 생성 및 훈련 <a id='id3'></a>"
   ]
  },
  {
   "cell_type": "markdown",
   "metadata": {},
   "source": [
    "## 3.1. XGBoost 모델 생성"
   ]
  },
  {
   "cell_type": "code",
   "execution_count": 29,
   "metadata": {},
   "outputs": [],
   "source": [
    "# XGBoost 모델 생성\n",
    "from xgboost import XGBClassifier\n",
    "from sklearn.metrics import f1_score,roc_auc_score\n",
    "import warnings\n",
    "warnings.filterwarnings(\"ignore\")"
   ]
  },
  {
   "cell_type": "markdown",
   "metadata": {},
   "source": [
    "## 3.2. XGBoost 모델 훈련"
   ]
  },
  {
   "cell_type": "code",
   "execution_count": null,
   "metadata": {},
   "outputs": [],
   "source": [
    "# 모델 활성화 및 설정\n",
    "xgb_clf = XGBClassifier(n_estimators=10, max_depth=4,n_jobs=-1) #\n",
    "# 모델 훈련 시 성능평가 데이터 설정 (별도의 성능평가 데이터를 구성할 수도 있으나, 여기서는 그냥 테스트데이터를 사용)\n",
    "eval_set = [(df_org_train, org_train_y), (df_org_test, org_test_y)]\n",
    "# 모델 훈련 (training/fitting)\n",
    "xgb_clf.fit(df_org_train, org_train_y, eval_metric=[\"logloss\"], eval_set=eval_set, verbose=True)"
   ]
  },
  {
   "cell_type": "code",
   "execution_count": 31,
   "metadata": {},
   "outputs": [],
   "source": [
    "from keras.utils.vis_utils import plot_model"
   ]
  },
  {
   "cell_type": "code",
   "execution_count": 31,
   "metadata": {},
   "outputs": [
    {
     "ename": "ImportError",
     "evalue": "You must install graphviz to plot tree",
     "output_type": "error",
     "traceback": [
      "\u001b[0;31m---------------------------------------------------------------------------\u001b[0m",
      "\u001b[0;31mModuleNotFoundError\u001b[0m                       Traceback (most recent call last)",
      "\u001b[0;32m/usr/local/anaconda3/lib/python3.8/site-packages/xgboost/plotting.py\u001b[0m in \u001b[0;36mto_graphviz\u001b[0;34m(booster, fmap, num_trees, rankdir, yes_color, no_color, condition_node_params, leaf_node_params, **kwargs)\u001b[0m\n\u001b[1;32m    169\u001b[0m     \u001b[0;32mtry\u001b[0m\u001b[0;34m:\u001b[0m\u001b[0;34m\u001b[0m\u001b[0;34m\u001b[0m\u001b[0m\n\u001b[0;32m--> 170\u001b[0;31m         \u001b[0;32mfrom\u001b[0m \u001b[0mgraphviz\u001b[0m \u001b[0;32mimport\u001b[0m \u001b[0mSource\u001b[0m\u001b[0;34m\u001b[0m\u001b[0;34m\u001b[0m\u001b[0m\n\u001b[0m\u001b[1;32m    171\u001b[0m     \u001b[0;32mexcept\u001b[0m \u001b[0mImportError\u001b[0m \u001b[0;32mas\u001b[0m \u001b[0me\u001b[0m\u001b[0;34m:\u001b[0m\u001b[0;34m\u001b[0m\u001b[0;34m\u001b[0m\u001b[0m\n",
      "\u001b[0;31mModuleNotFoundError\u001b[0m: No module named 'graphviz'",
      "\nThe above exception was the direct cause of the following exception:\n",
      "\u001b[0;31mImportError\u001b[0m                               Traceback (most recent call last)",
      "\u001b[0;32m<ipython-input-31-c30b8b7b932a>\u001b[0m in \u001b[0;36m<module>\u001b[0;34m\u001b[0m\n\u001b[1;32m      1\u001b[0m \u001b[0;31m# 의사결정 트리 중 첫번째 트리 시각화\u001b[0m\u001b[0;34m\u001b[0m\u001b[0;34m\u001b[0m\u001b[0;34m\u001b[0m\u001b[0m\n\u001b[1;32m      2\u001b[0m \u001b[0;32mimport\u001b[0m \u001b[0mxgboost\u001b[0m \u001b[0;32mas\u001b[0m \u001b[0mxgb\u001b[0m\u001b[0;34m\u001b[0m\u001b[0;34m\u001b[0m\u001b[0m\n\u001b[0;32m----> 3\u001b[0;31m \u001b[0mxgb\u001b[0m\u001b[0;34m.\u001b[0m\u001b[0mto_graphviz\u001b[0m\u001b[0;34m(\u001b[0m\u001b[0mbooster\u001b[0m \u001b[0;34m=\u001b[0m \u001b[0mxgb_clf\u001b[0m\u001b[0;34m,\u001b[0m \u001b[0mnum_trees\u001b[0m\u001b[0;34m=\u001b[0m\u001b[0;36m0\u001b[0m\u001b[0;34m)\u001b[0m\u001b[0;34m\u001b[0m\u001b[0;34m\u001b[0m\u001b[0m\n\u001b[0m",
      "\u001b[0;32m/usr/local/anaconda3/lib/python3.8/site-packages/xgboost/plotting.py\u001b[0m in \u001b[0;36mto_graphviz\u001b[0;34m(booster, fmap, num_trees, rankdir, yes_color, no_color, condition_node_params, leaf_node_params, **kwargs)\u001b[0m\n\u001b[1;32m    170\u001b[0m         \u001b[0;32mfrom\u001b[0m \u001b[0mgraphviz\u001b[0m \u001b[0;32mimport\u001b[0m \u001b[0mSource\u001b[0m\u001b[0;34m\u001b[0m\u001b[0;34m\u001b[0m\u001b[0m\n\u001b[1;32m    171\u001b[0m     \u001b[0;32mexcept\u001b[0m \u001b[0mImportError\u001b[0m \u001b[0;32mas\u001b[0m \u001b[0me\u001b[0m\u001b[0;34m:\u001b[0m\u001b[0;34m\u001b[0m\u001b[0;34m\u001b[0m\u001b[0m\n\u001b[0;32m--> 172\u001b[0;31m         \u001b[0;32mraise\u001b[0m \u001b[0mImportError\u001b[0m\u001b[0;34m(\u001b[0m\u001b[0;34m'You must install graphviz to plot tree'\u001b[0m\u001b[0;34m)\u001b[0m \u001b[0;32mfrom\u001b[0m \u001b[0me\u001b[0m\u001b[0;34m\u001b[0m\u001b[0;34m\u001b[0m\u001b[0m\n\u001b[0m\u001b[1;32m    173\u001b[0m     \u001b[0;32mif\u001b[0m \u001b[0misinstance\u001b[0m\u001b[0;34m(\u001b[0m\u001b[0mbooster\u001b[0m\u001b[0;34m,\u001b[0m \u001b[0mXGBModel\u001b[0m\u001b[0;34m)\u001b[0m\u001b[0;34m:\u001b[0m\u001b[0;34m\u001b[0m\u001b[0;34m\u001b[0m\u001b[0m\n\u001b[1;32m    174\u001b[0m         \u001b[0mbooster\u001b[0m \u001b[0;34m=\u001b[0m \u001b[0mbooster\u001b[0m\u001b[0;34m.\u001b[0m\u001b[0mget_booster\u001b[0m\u001b[0;34m(\u001b[0m\u001b[0;34m)\u001b[0m\u001b[0;34m\u001b[0m\u001b[0;34m\u001b[0m\u001b[0m\n",
      "\u001b[0;31mImportError\u001b[0m: You must install graphviz to plot tree"
     ]
    }
   ],
   "source": [
    "# 의사결정 트리 중 첫번째 트리 시각화\n",
    "import xgboost as xgb\n",
    "xgb.to_graphviz(booster = xgb_clf, num_trees=0)"
   ]
  },
  {
   "cell_type": "code",
   "execution_count": 34,
   "metadata": {},
   "outputs": [
    {
     "data": {
      "image/png": "[encoded data removed]",
      "text/plain": [
       "<Figure size 432x288 with 1 Axes>"
      ]
     },
     "metadata": {
      "needs_background": "light"
     },
     "output_type": "display_data"
    }
   ],
   "source": [
    "# 모델 성능 시각화\n",
    "\n",
    "from matplotlib import pyplot\n",
    "# retrieve performance metrics\n",
    "results = xgb_clf.evals_result()\n",
    "epochs = len(results['validation_0']['logloss'])\n",
    "x_axis = range(0, epochs)\n",
    "# plot log loss\n",
    "fig, ax = pyplot.subplots()\n",
    "ax.plot(x_axis, results['validation_0']['logloss'], label='Train')\n",
    "ax.plot(x_axis, results['validation_1']['logloss'], label='Test')\n",
    "ax.legend()\n",
    "pyplot.ylabel('Log Loss')\n",
    "pyplot.title('XGBoost Log Loss')\n",
    "#pyplot.show()\n",
    "plt.savefig('XGBoost Log Loss.png')"
   ]
  },
  {
   "cell_type": "markdown",
   "metadata": {},
   "source": [
    "# 4. 우범화물 예측 및 모델 성능 평가 <a id='id4'></a>"
   ]
  },
  {
   "cell_type": "markdown",
   "metadata": {},
   "source": [
    "## 4.1. XGBoost 모델 예측"
   ]
  },
  {
   "cell_type": "code",
   "execution_count": 35,
   "metadata": {},
   "outputs": [
    {
     "name": "stdout",
     "output_type": "stream",
     "text": [
      "------Evaluating xgboost model------\n",
      "0.8183188850322173\n"
     ]
    }
   ],
   "source": [
    "# evaluate xgboost model\n",
    "print(\"------Evaluating xgboost model------\")\n",
    "# Predict\n",
    "test_pred = xgb_clf.predict_proba(df_org_test)[:,1]\n",
    "# Calculate auc\n",
    "xgb_auc = roc_auc_score(org_test_y, test_pred)\n",
    "print(xgb_auc)"
   ]
  },
  {
   "cell_type": "markdown",
   "metadata": {},
   "source": [
    "## f1_score (validation set)"
   ]
  },
  {
   "cell_type": "code",
   "execution_count": 37,
   "metadata": {},
   "outputs": [
    {
     "name": "stdout",
     "output_type": "stream",
     "text": [
      "------Evaluating xgboost model------\n",
      "f1 score : 0.41688457228240566\n"
     ]
    }
   ],
   "source": [
    "from sklearn.metrics import classification_report, accuracy_score\n",
    "# evaluate xgboost model\n",
    "print(\"------Evaluating xgboost model------\")\n",
    "# Predict label\n",
    "test_pred = xgb_clf.predict(df_validation)\n",
    "\n",
    "# Calculate f1 score\n",
    "print(classification_report(df_validation_y, test_pred))\n",
    "f1 = f1_score(df_validation_y, test_pred)\n",
    "print('f1 score : {}'.format(f1))"
   ]
  },
  {
   "cell_type": "markdown",
   "metadata": {},
   "source": [
    "## 4.2. 모델 예측 성능 평가"
   ]
  },
  {
   "cell_type": "code",
   "execution_count": 38,
   "metadata": {},
   "outputs": [],
   "source": [
    "# 검사율에 따른 우범예측 함수 생성\n",
    "\n",
    "def inspection_performance(predicted_fraud, test_fraud):\n",
    "    \n",
    "    # Set default values before a loop\n",
    "    \n",
    "    Inspect_Rate = []\n",
    "    Precision=[]\n",
    "    Recall=[]\n",
    "    \n",
    "    # Create a loop for making confusion matrix at each inspection rate\n",
    "\n",
    "    for i in range(0,101,1):\n",
    "        \n",
    "        # Find the ith value in ascending order.\n",
    "        threshold = np.percentile(predicted_fraud, i)\n",
    "        # Precision = number of frauds / number of inspection\n",
    "        precision = np.mean(test_fraud[predicted_fraud >= threshold])\n",
    "        # Recall = number of inspected frauds / number of frauds\n",
    "        recall = sum(test_fraud[predicted_fraud >= threshold])/sum(test_fraud)\n",
    "        # Save values\n",
    "        Inspect_Rate.append(100-i)\n",
    "        Precision.append(precision)\n",
    "        Recall.append(recall)\n",
    "        \n",
    "    \n",
    "    compiled_conf_matrix = pd.DataFrame({\n",
    "        \n",
    "        'Inspect_Rate':Inspect_Rate,\n",
    "        'Precision':Precision,\n",
    "        'Recall':Recall\n",
    "    })\n",
    "\n",
    "    return compiled_conf_matrix"
   ]
  },
  {
   "cell_type": "code",
   "execution_count": 39,
   "metadata": {},
   "outputs": [],
   "source": [
    "# 검사율에 따른 우범예측 \n",
    "basic_performance = inspection_performance(test_pred, org_test_y.astype(float))"
   ]
  },
  {
   "cell_type": "code",
   "execution_count": 40,
   "metadata": {},
   "outputs": [
    {
     "data": {
      "text/html": [
       "<div>\n",
       "<style scoped>\n",
       "    .dataframe tbody tr th:only-of-type {\n",
       "        vertical-align: middle;\n",
       "    }\n",
       "\n",
       "    .dataframe tbody tr th {\n",
       "        vertical-align: top;\n",
       "    }\n",
       "\n",
       "    .dataframe thead th {\n",
       "        text-align: right;\n",
       "    }\n",
       "</style>\n",
       "<table border=\"1\" class=\"dataframe\">\n",
       "  <thead>\n",
       "    <tr style=\"text-align: right;\">\n",
       "      <th></th>\n",
       "      <th>Inspect_Rate</th>\n",
       "      <th>Precision</th>\n",
       "      <th>Recall</th>\n",
       "    </tr>\n",
       "  </thead>\n",
       "  <tbody>\n",
       "    <tr>\n",
       "      <th>99</th>\n",
       "      <td>1</td>\n",
       "      <td>0.629087</td>\n",
       "      <td>0.311732</td>\n",
       "    </tr>\n",
       "    <tr>\n",
       "      <th>98</th>\n",
       "      <td>2</td>\n",
       "      <td>0.629087</td>\n",
       "      <td>0.311732</td>\n",
       "    </tr>\n",
       "    <tr>\n",
       "      <th>97</th>\n",
       "      <td>3</td>\n",
       "      <td>0.629087</td>\n",
       "      <td>0.311732</td>\n",
       "    </tr>\n",
       "    <tr>\n",
       "      <th>96</th>\n",
       "      <td>4</td>\n",
       "      <td>0.629087</td>\n",
       "      <td>0.311732</td>\n",
       "    </tr>\n",
       "    <tr>\n",
       "      <th>95</th>\n",
       "      <td>5</td>\n",
       "      <td>0.629087</td>\n",
       "      <td>0.311732</td>\n",
       "    </tr>\n",
       "    <tr>\n",
       "      <th>94</th>\n",
       "      <td>6</td>\n",
       "      <td>0.629087</td>\n",
       "      <td>0.311732</td>\n",
       "    </tr>\n",
       "    <tr>\n",
       "      <th>93</th>\n",
       "      <td>7</td>\n",
       "      <td>0.629087</td>\n",
       "      <td>0.311732</td>\n",
       "    </tr>\n",
       "    <tr>\n",
       "      <th>92</th>\n",
       "      <td>8</td>\n",
       "      <td>0.629087</td>\n",
       "      <td>0.311732</td>\n",
       "    </tr>\n",
       "    <tr>\n",
       "      <th>91</th>\n",
       "      <td>9</td>\n",
       "      <td>0.629087</td>\n",
       "      <td>0.311732</td>\n",
       "    </tr>\n",
       "    <tr>\n",
       "      <th>90</th>\n",
       "      <td>10</td>\n",
       "      <td>0.629087</td>\n",
       "      <td>0.311732</td>\n",
       "    </tr>\n",
       "  </tbody>\n",
       "</table>\n",
       "</div>"
      ],
      "text/plain": [
       "    Inspect_Rate  Precision    Recall\n",
       "99             1   0.629087  0.311732\n",
       "98             2   0.629087  0.311732\n",
       "97             3   0.629087  0.311732\n",
       "96             4   0.629087  0.311732\n",
       "95             5   0.629087  0.311732\n",
       "94             6   0.629087  0.311732\n",
       "93             7   0.629087  0.311732\n",
       "92             8   0.629087  0.311732\n",
       "91             9   0.629087  0.311732\n",
       "90            10   0.629087  0.311732"
      ]
     },
     "execution_count": 40,
     "metadata": {},
     "output_type": "execute_result"
    }
   ],
   "source": [
    "# 검사율 1~10% 지정 시 Precision 및 Recall 분석\n",
    "# Precision (적중률) = (검사선별된 우범건수)/(검사선별 건수)\n",
    "# Recall (적발률) = (검사선별된 우범건수) / (전체 우범건수)\n",
    "basic_performance.iloc[range(99,89,-1),:]"
   ]
  },
  {
   "cell_type": "code",
   "execution_count": 41,
   "metadata": {},
   "outputs": [
    {
     "data": {
      "image/png": "[encoded data removed]",
      "text/plain": [
       "<Figure size 796.625x360 with 2 Axes>"
      ]
     },
     "metadata": {
      "needs_background": "light"
     },
     "output_type": "display_data"
    }
   ],
   "source": [
    "# 검사선별률에 따른 적중률 및 적발률 시각화\n",
    "data = pd.melt(basic_performance, \n",
    "               id_vars = ['Inspect_Rate'],\n",
    "               value_vars = ['Recall','Precision'])\n",
    "\n",
    "sns.relplot(data=data,\n",
    "            kind='line',\n",
    "            x=\"Inspect_Rate\", \n",
    "            y=\"value\", \n",
    "            hue='variable',\n",
    "            col=\"variable\")\n",
    "plt.savefig('recall & precision.png')\n"
   ]
  },
  {
   "cell_type": "code",
   "execution_count": 42,
   "metadata": {},
   "outputs": [
    {
     "data": {
      "image/png": "[encoded data removed]",
      "text/plain": [
       "<Figure size 1080x720 with 1 Axes>"
      ]
     },
     "metadata": {
      "needs_background": "light"
     },
     "output_type": "display_data"
    }
   ],
   "source": [
    "# 모델에 기여도가 높은 변수 시각화\n",
    "from xgboost import plot_importance\n",
    "plt.rcParams[\"font.family\"] = 'NanumGothicOTF'\n",
    "plt.rcParams[\"figure.figsize\"] = (15,10)\n",
    "plot_importance(xgb_clf, max_num_features=30)\n",
    "plt.show()"
   ]
  },
  {
   "cell_type": "code",
   "execution_count": 39,
   "metadata": {},
   "outputs": [
    {
     "name": "stdout",
     "output_type": "stream",
     "text": [
      "모델구동시간 : 2530.3541219234467 sec.\n"
     ]
    }
   ],
   "source": [
    "# 모델 종료 시간 확인\n",
    "end = time.time()\n",
    "# 모델 구동 시간 계산\n",
    "print(f\"모델구동시간 : {end-start} sec.\")"
   ]
  },
  {
   "cell_type": "code",
   "execution_count": null,
   "metadata": {},
   "outputs": [],
   "source": []
  }
 ],
 "metadata": {
  "kernelspec": {
   "display_name": "Python 3",
   "language": "python",
   "name": "python3"
  },
  "language_info": {
   "codemirror_mode": {
    "name": "ipython",
    "version": 3
   },
   "file_extension": ".py",
   "mimetype": "text/x-python",
   "name": "python",
   "nbconvert_exporter": "python",
   "pygments_lexer": "ipython3",
   "version": "3.8.5"
  }
 },
 "nbformat": 4,
 "nbformat_minor": 4
}

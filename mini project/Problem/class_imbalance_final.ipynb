{
 "cells": [
  {
   "cell_type": "markdown",
   "metadata": {},
   "source": [
    "# 수입 화물 우범도 예측 모델 개발\n"
   ]
  },
  {
   "cell_type": "markdown",
   "metadata": {},
   "source": [
    "## 0. 기본 모듈 및 함수 import "
   ]
  },
  {
   "cell_type": "code",
   "execution_count": 1,
   "metadata": {},
   "outputs": [],
   "source": [
    "# 모델 구현 시간 체크\n",
    "import time\n",
    "# 시작시간 체크\n",
    "start = time.time()"
   ]
  },
  {
   "cell_type": "code",
   "execution_count": 2,
   "metadata": {},
   "outputs": [],
   "source": [
    "# 패키지 로딩\n",
    "import pickle\n",
    "import pandas as pd\n",
    "import numpy as np\n",
    "import matplotlib.pyplot as plt\n",
    "import seaborn as sns"
   ]
  },
  {
   "cell_type": "code",
   "execution_count": 3,
   "metadata": {},
   "outputs": [
    {
     "name": "stdout",
     "output_type": "stream",
     "text": [
      "['NanumGothicOTF']\n"
     ]
    }
   ],
   "source": [
    "# 한글폰트 적용\n",
    "plt.rc('font', family='NanumGothicOTF') # For MacOS\n",
    "# plt.rc('font', family='NanumGothic') # For Windows\n",
    "print(plt.rcParams['font.family'])\n"
   ]
  },
  {
   "cell_type": "code",
   "execution_count": 4,
   "metadata": {},
   "outputs": [],
   "source": [
    "# 분석 차트 그리는 함수 목록\n",
    "\n",
    "def show_pie_chart(df, col_name):\n",
    "    colname_survived = survived_crosstab(df, col_name)\n",
    "    pie_chart(colname_survived)\n",
    "    return colname_survived\n",
    "\n",
    "def survived_crosstab(df, col_name):\n",
    "    '''col_name과 Survived간의 교차도표 생성'''\n",
    "    feature_survived = pd.crosstab(df[col_name], df['우범여부'])\n",
    "    feature_survived.columns = feature_survived.columns.map({0:\"정상\", 1:\"우범\"})\n",
    "    return feature_survived\n",
    "\n",
    "def pie_chart(feature_survived):\n",
    "    '''\n",
    "    pie_chart 생성\n",
    "    pcol, prow = 차트를 출력할 개수. pcol * prow 만큼의 차트 출력 \n",
    "    '''\n",
    "    frows, fcols = feature_survived.shape\n",
    "    pcol = 3\n",
    "    prow = (frows/pcol + frows%pcol)\n",
    "    plot_height = prow * 2.5\n",
    "    plt.figure(figsize=(8, plot_height))\n",
    "\n",
    "    for row in range(0, frows):\n",
    "        plt.subplot(prow, pcol, row+1)\n",
    "\n",
    "        index_name = feature_survived.index[row]\n",
    "        plt.pie(feature_survived.loc[index_name], labels=feature_survived.loc[index_name].index, autopct='%1.1f%%')\n",
    "        plt.title(\"{0}' 우범\".format(index_name))\n",
    "\n",
    "    plt.show()"
   ]
  },
  {
   "cell_type": "markdown",
   "metadata": {},
   "source": [
    "## 1. 전처리 "
   ]
  },
  {
   "cell_type": "code",
   "execution_count": 5,
   "metadata": {},
   "outputs": [],
   "source": [
    "# train data load\n",
    "df = pd.read_csv('./data/train.csv')"
   ]
  },
  {
   "cell_type": "code",
   "execution_count": 6,
   "metadata": {},
   "outputs": [],
   "source": [
    "# test data load\n",
    "df_test = pd.read_excel('./data/test.xlsx')"
   ]
  },
  {
   "cell_type": "code",
   "execution_count": 7,
   "metadata": {},
   "outputs": [
    {
     "data": {
      "text/plain": [
       "(76837, 24)"
      ]
     },
     "execution_count": 7,
     "metadata": {},
     "output_type": "execute_result"
    }
   ],
   "source": [
    "# train data size 확인 \n",
    "df.shape"
   ]
  },
  {
   "cell_type": "code",
   "execution_count": 8,
   "metadata": {
    "scrolled": true
   },
   "outputs": [
    {
     "data": {
      "text/plain": [
       "(23163, 21)"
      ]
     },
     "execution_count": 8,
     "metadata": {},
     "output_type": "execute_result"
    }
   ],
   "source": [
    "# test data size 확인 \n",
    "df_test.shape"
   ]
  },
  {
   "cell_type": "markdown",
   "metadata": {},
   "source": [
    "## 정상 및 우범 비율 "
   ]
  },
  {
   "cell_type": "code",
   "execution_count": 9,
   "metadata": {},
   "outputs": [
    {
     "name": "stdout",
     "output_type": "stream",
     "text": [
      "crime : 17572\n",
      "normal2 : 59265\n",
      "normal : 59265\n",
      "normal crime : 8523\n",
      "principal crime : 9049\n",
      "crime = normal crime + principal crime = 17572 = 8523 + 9049\n",
      "우범 : 정상\n",
      "1 :  3\n"
     ]
    }
   ],
   "source": [
    "crime = np.sum(df['우범여부'] == 1) \n",
    "print('crime : {}'.format(crime))\n",
    "normal = np.sum(df['우범여부'] == 0)\n",
    "\n",
    "normal2 = np.sum(df['핵심적발'] == 0)\n",
    "print('normal2 : {}'.format(normal2))\n",
    "print('normal : {}'.format(normal))\n",
    "normal_crime = np.sum(df['핵심적발'] == 1)\n",
    "print('normal crime : {}'.format(normal_crime))\n",
    "principal_crime = np.sum(df['핵심적발'] == 2)\n",
    "print('principal crime : {}'.format(principal_crime))\n",
    "print('crime = normal crime + principal crime = {} = {} + {}'\n",
    "      .format(crime,normal_crime,principal_crime))\n",
    "print('우범 : 정상')\n",
    "print(\"{} :  {}\".format(1,round(normal / crime)))"
   ]
  },
  {
   "cell_type": "markdown",
   "metadata": {},
   "source": [
    "## Nan check"
   ]
  },
  {
   "cell_type": "code",
   "execution_count": 10,
   "metadata": {
    "scrolled": false
   },
   "outputs": [
    {
     "data": {
      "text/plain": [
       "신고번호            0\n",
       "신고일자            0\n",
       "통관지세관부호         0\n",
       "신고인부호           0\n",
       "수입자부호           8\n",
       "해외거래처부호     26293\n",
       "특송업체부호      51731\n",
       "수입통관계획코드        0\n",
       "수입신고구분코드        0\n",
       "수입거래구분코드        0\n",
       "수입종류코드          0\n",
       "징수형태코드          0\n",
       "신고중량(KG)        0\n",
       "과세가격원화금액        0\n",
       "운송수단유형코드        0\n",
       "반입보세구역부호        0\n",
       "HS10단위부호        0\n",
       "적출국가코드          0\n",
       "원산지국가코드         0\n",
       "관세율구분코드         0\n",
       "관세율             0\n",
       "검사결과코드          0\n",
       "우범여부            0\n",
       "핵심적발            0\n",
       "dtype: int64"
      ]
     },
     "execution_count": 10,
     "metadata": {},
     "output_type": "execute_result"
    }
   ],
   "source": [
    "# train data \n",
    "df.isnull().sum()"
   ]
  },
  {
   "cell_type": "code",
   "execution_count": 11,
   "metadata": {},
   "outputs": [
    {
     "data": {
      "text/plain": [
       "신고번호            0\n",
       "신고일자            0\n",
       "통관지세관부호         0\n",
       "신고인부호           0\n",
       "수입자부호           1\n",
       "해외거래처부호      7674\n",
       "특송업체부호      15430\n",
       "수입통관계획코드        0\n",
       "수입신고구분코드        0\n",
       "수입거래구분코드        0\n",
       "수입종류코드          0\n",
       "징수형태코드          0\n",
       "신고중량(KG)        0\n",
       "과세가격원화금액        0\n",
       "운송수단유형코드        0\n",
       "반입보세구역부호        0\n",
       "HS10단위부호        0\n",
       "적출국가코드          0\n",
       "원산지국가코드         0\n",
       "관세율구분코드         0\n",
       "관세율             0\n",
       "dtype: int64"
      ]
     },
     "execution_count": 11,
     "metadata": {},
     "output_type": "execute_result"
    }
   ],
   "source": [
    "# test data \n",
    "df_test.isnull().sum()"
   ]
  },
  {
   "cell_type": "markdown",
   "metadata": {},
   "source": [
    "## 불필요한 변수 삭제"
   ]
  },
  {
   "cell_type": "code",
   "execution_count": 12,
   "metadata": {},
   "outputs": [],
   "source": [
    "del df['검사결과코드']\n",
    "del df['핵심적발']"
   ]
  },
  {
   "cell_type": "markdown",
   "metadata": {},
   "source": [
    "## 1. 신고일자\n",
    "\n",
    "### 1.1 일로 범주화.\n"
   ]
  },
  {
   "cell_type": "code",
   "execution_count": 13,
   "metadata": {},
   "outputs": [],
   "source": [
    "## 훈련 데이터 신고일 추출\n",
    "df['신고일자'] = pd.to_datetime(df['신고일자'])\n",
    "df['신고일'] = df['신고일자'].dt.day"
   ]
  },
  {
   "cell_type": "code",
   "execution_count": 14,
   "metadata": {},
   "outputs": [],
   "source": [
    "# 테스트 데이터 신고일자 전처리\n",
    "df_test['신고일자'] = pd.to_datetime(df_test['신고일자'])\n",
    "df_test['신고일'] = df_test['신고일자'].dt.day"
   ]
  },
  {
   "cell_type": "markdown",
   "metadata": {},
   "source": [
    "### 1.2 요일 범주화"
   ]
  },
  {
   "cell_type": "code",
   "execution_count": 15,
   "metadata": {},
   "outputs": [],
   "source": [
    "# 훈련데이터 요일 0 월요일 ~ 6 일요일\n",
    "df['신고요일'] = df['신고일자'].dt.weekday"
   ]
  },
  {
   "cell_type": "code",
   "execution_count": 16,
   "metadata": {
    "scrolled": false
   },
   "outputs": [
    {
     "data": {
      "text/plain": [
       "18158    2\n",
       "10103    4\n",
       "9941     3\n",
       "43329    1\n",
       "32130    1\n",
       "Name: 신고요일, dtype: int64"
      ]
     },
     "execution_count": 16,
     "metadata": {},
     "output_type": "execute_result"
    }
   ],
   "source": [
    "df['신고요일'].sample(5)"
   ]
  },
  {
   "cell_type": "code",
   "execution_count": 17,
   "metadata": {},
   "outputs": [],
   "source": [
    "# 테스트 데이터 요일 0 월요일 ~ 6 일요일\n",
    "df_test['신고요일'] = df_test['신고일자'].dt.weekday"
   ]
  },
  {
   "cell_type": "code",
   "execution_count": 18,
   "metadata": {
    "scrolled": true
   },
   "outputs": [
    {
     "data": {
      "text/plain": [
       "22089    0\n",
       "12127    4\n",
       "21746    3\n",
       "14601    5\n",
       "5316     4\n",
       "Name: 신고요일, dtype: int64"
      ]
     },
     "execution_count": 18,
     "metadata": {},
     "output_type": "execute_result"
    }
   ],
   "source": [
    "df_test['신고요일'].sample(5)"
   ]
  },
  {
   "cell_type": "code",
   "execution_count": 19,
   "metadata": {},
   "outputs": [],
   "source": [
    "# test data 불필요한 칼럼 제거\n",
    "del df_test['신고번호']\n",
    "del df_test['신고일자']\n",
    "del df_test['신고인부호']\n",
    "del df_test['수입자부호']"
   ]
  },
  {
   "cell_type": "code",
   "execution_count": 20,
   "metadata": {},
   "outputs": [],
   "source": [
    "# 불필요한 훈련 데이터 column 제거 \n",
    "del df['신고번호']\n",
    "del df['신고일자']\n",
    "del df['신고인부호']\n",
    "del df['수입자부호']"
   ]
  },
  {
   "cell_type": "markdown",
   "metadata": {},
   "source": [
    "## 2. 통관지세관부호\n",
    "\n",
    "- 통관지세관부호와 우범여부와의 관계를 알아본다.\n",
    "\n",
    "\n",
    "\n",
    "- 통관지세관부호의 class는 총 40개\n"
   ]
  },
  {
   "cell_type": "markdown",
   "metadata": {},
   "source": [
    "## 3. 신고인부호\n",
    "\n",
    "- 수입신고를 하는 자로 대개는 관세사가 됨(대리하여 신고)\n",
    "\n",
    "\n",
    "- 우범 전력이 있는지 없는지를 counting하고 그 count 값을 새로운 feature로 생성"
   ]
  },
  {
   "cell_type": "markdown",
   "metadata": {},
   "source": [
    "## 4. 수입자부호\n",
    "\n",
    "- 물품을 수입하는 실제 화주(물건 주인)\n",
    "\n",
    "\n",
    "- 8000여개\n"
   ]
  },
  {
   "cell_type": "markdown",
   "metadata": {},
   "source": [
    "## 5. 해외거래처부호\n",
    "\n",
    "- 물품을 거래하는 해외 상대방 거래처 부호\n",
    "\n",
    "\n",
    "- 4748개\n",
    "\n",
    "\n",
    "- 가상 데이터이기때문에 기존 부호의 양식과 일치하지 않는다.\n",
    "\n",
    "\n",
    "- Null 값은 U(Unknown)으로 채움"
   ]
  },
  {
   "cell_type": "code",
   "execution_count": 21,
   "metadata": {},
   "outputs": [],
   "source": [
    "df.해외거래처부호 = df.해외거래처부호.fillna('U')"
   ]
  },
  {
   "cell_type": "code",
   "execution_count": 22,
   "metadata": {},
   "outputs": [],
   "source": [
    "df_test.해외거래처부호 = df_test.해외거래처부호.fillna('U')"
   ]
  },
  {
   "cell_type": "markdown",
   "metadata": {},
   "source": [
    "## 6. 특송업체부호\n",
    "\n",
    "- 세관에 등록된 특급탁송업체 부호\n",
    "\n",
    "\n",
    "- 이 역시 가상데이터이기 때문에 현실에 존재하는 특송업체와 다르다.\n",
    "\n",
    "\n",
    "- 80여개\n",
    "\n",
    "\n",
    "- 결측치 -> U(Unknown)으로 채움"
   ]
  },
  {
   "cell_type": "code",
   "execution_count": 23,
   "metadata": {},
   "outputs": [],
   "source": [
    "df.특송업체부호 = df.특송업체부호.fillna('U')"
   ]
  },
  {
   "cell_type": "code",
   "execution_count": 24,
   "metadata": {},
   "outputs": [],
   "source": [
    "df_test.특송업체부호 = df_test.특송업체부호.fillna('U')"
   ]
  },
  {
   "cell_type": "code",
   "execution_count": 25,
   "metadata": {
    "scrolled": false
   },
   "outputs": [
    {
     "data": {
      "text/plain": [
       "통관지세관부호     0\n",
       "해외거래처부호     0\n",
       "특송업체부호      0\n",
       "수입통관계획코드    0\n",
       "수입신고구분코드    0\n",
       "수입거래구분코드    0\n",
       "수입종류코드      0\n",
       "징수형태코드      0\n",
       "신고중량(KG)    0\n",
       "과세가격원화금액    0\n",
       "운송수단유형코드    0\n",
       "반입보세구역부호    0\n",
       "HS10단위부호    0\n",
       "적출국가코드      0\n",
       "원산지국가코드     0\n",
       "관세율구분코드     0\n",
       "관세율         0\n",
       "우범여부        0\n",
       "신고일         0\n",
       "신고요일        0\n",
       "dtype: int64"
      ]
     },
     "execution_count": 25,
     "metadata": {},
     "output_type": "execute_result"
    }
   ],
   "source": [
    "df.isnull().sum()"
   ]
  },
  {
   "cell_type": "code",
   "execution_count": 26,
   "metadata": {},
   "outputs": [
    {
     "data": {
      "text/plain": [
       "통관지세관부호     0\n",
       "해외거래처부호     0\n",
       "특송업체부호      0\n",
       "수입통관계획코드    0\n",
       "수입신고구분코드    0\n",
       "수입거래구분코드    0\n",
       "수입종류코드      0\n",
       "징수형태코드      0\n",
       "신고중량(KG)    0\n",
       "과세가격원화금액    0\n",
       "운송수단유형코드    0\n",
       "반입보세구역부호    0\n",
       "HS10단위부호    0\n",
       "적출국가코드      0\n",
       "원산지국가코드     0\n",
       "관세율구분코드     0\n",
       "관세율         0\n",
       "신고일         0\n",
       "신고요일        0\n",
       "dtype: int64"
      ]
     },
     "execution_count": 26,
     "metadata": {},
     "output_type": "execute_result"
    }
   ],
   "source": [
    "df_test.isnull().sum()"
   ]
  },
  {
   "cell_type": "markdown",
   "metadata": {},
   "source": [
    "## 7. 수입통관계획코드\n",
    "\n",
    "- 전처리 없음\n",
    "\n",
    "- 7개의 class가 있음"
   ]
  },
  {
   "cell_type": "markdown",
   "metadata": {},
   "source": [
    "## 8. 수입신고구분코드\n",
    "\n",
    "- 전처리 없음\n",
    "\n",
    "\n",
    "- 4개의 class"
   ]
  },
  {
   "cell_type": "markdown",
   "metadata": {},
   "source": [
    "## 9. 수입거래구분코드\n",
    "\n",
    "- 25개\n"
   ]
  },
  {
   "cell_type": "markdown",
   "metadata": {},
   "source": [
    "## 10. 수입종류코드\n",
    "\n",
    "- 내수용, 수출용 원재료 등 수입종류 코드\n",
    "\n",
    "\n",
    "- train data에는 10개의 코드가 있다."
   ]
  },
  {
   "cell_type": "markdown",
   "metadata": {},
   "source": [
    "## 11. 징수형태코드\n",
    "\n",
    "- 사전납부, 사후납부, 월별납부 등 납세신고세액의 징수형태\n",
    "\n",
    "\n",
    "- train data에는 9개의 코드가 있다."
   ]
  },
  {
   "cell_type": "markdown",
   "metadata": {},
   "source": [
    "## 12. 신고중량(KG) \n",
    "\n",
    "\n",
    "- 기본 전처리 \n",
    "\n",
    "\n",
    "- Log transform - > Normalization\n",
    "\n",
    "\n",
    "- 신고물품의 포장용기를 제외한 중량\n",
    "\n",
    "\n",
    "- 수치형 데이터 단위 : Kg\n",
    "\n",
    "\n",
    "- 신고중량에 기본적으로 자연로그 \n",
    "\n",
    "\n",
    "- 신고중량을 10개의 단위로 그룹핑 \n",
    "\n",
    "\n"
   ]
  },
  {
   "cell_type": "markdown",
   "metadata": {},
   "source": [
    "## 13. 과세가격원화금액 \n",
    "\n",
    "- 기본 전처리\n",
    "\n",
    "\n",
    "- Log transform ->  Normalization\n",
    "\n",
    "\n"
   ]
  },
  {
   "cell_type": "markdown",
   "metadata": {},
   "source": [
    "## 14. 운송수단유형코드\n",
    "\n",
    "- 총 6개의 코드가 있다."
   ]
  },
  {
   "cell_type": "markdown",
   "metadata": {},
   "source": [
    "## 15. 반입보세구역부호\n",
    "\n",
    "- 실제 데이터는 8자리이나 train data는 7자리\n",
    "\n",
    "\n",
    "- 신고물품의 검사 또는 반입할 보세구역의 부호\n",
    "\n",
    "\n",
    "- 568개"
   ]
  },
  {
   "cell_type": "markdown",
   "metadata": {},
   "source": [
    "## 16. HS10단위부호 \n",
    "\n",
    "\n",
    "- 6단위까지는 국제적으로 공통\n",
    "\n",
    "\n",
    "- 한국은 10단위 사용 \n",
    "\n",
    "\n",
    "- HS10단위부호와 우범여부와의 관계를 알아본다\n",
    "\n",
    "\n",
    "\n",
    "- HS10단위부호 : 2406개\n",
    "\n",
    "\n",
    "\n",
    "- HS2단위부호 : 86개\n"
   ]
  },
  {
   "cell_type": "code",
   "execution_count": 27,
   "metadata": {},
   "outputs": [],
   "source": [
    "df['HS10단위부호'] = df['HS10단위부호'].astype(str)"
   ]
  },
  {
   "cell_type": "code",
   "execution_count": 28,
   "metadata": {},
   "outputs": [],
   "source": [
    "df_test['HS10단위부호'] = df_test['HS10단위부호'].astype(str)"
   ]
  },
  {
   "cell_type": "code",
   "execution_count": 29,
   "metadata": {},
   "outputs": [],
   "source": [
    "df['HS2단위부호'] = df['HS10단위부호'].str.slice(start=0, stop=2)  "
   ]
  },
  {
   "cell_type": "code",
   "execution_count": 30,
   "metadata": {},
   "outputs": [],
   "source": [
    "df_test['HS2단위부호'] = df_test['HS10단위부호'].str.slice(start=0, stop=2)  "
   ]
  },
  {
   "cell_type": "markdown",
   "metadata": {},
   "source": [
    "## 17. 적출국가코드\n",
    "\n",
    "\n",
    "- 신고물품의 해외선적국가 부호\n",
    "\n",
    "\n"
   ]
  },
  {
   "cell_type": "markdown",
   "metadata": {},
   "source": [
    "## 18. 원산지국가코드\n",
    "\n",
    "- 신고물품의 원산지 국가코드"
   ]
  },
  {
   "cell_type": "markdown",
   "metadata": {},
   "source": [
    "## 19. 관세율구분코드\n",
    "\n",
    "- 기본세율, 잠정세율, FTA 협정세율 등 세율의 종류\n",
    "\n",
    "\n",
    "- 35개 class\n",
    "\n",
    "\n",
    "- 협정세율:FTA가 발효로 해당 협정에 따라 적용되는 세율 FTA 발효로 품목별로 즉시 관세 철페, 단계별 관세 철페, 관세 변동이 없는 미양허 품목 등으로 구분 - 한·아세안 FTA의 경우 일반품목, 민감품목, 초민감품목으로 구분\n",
    "\n",
    "\n",
    "- 기본세율(General Rate):자국법에 따라 정해진 세율 중 가장 기본이 되는 세율\n",
    "\n",
    "\n",
    "- 기준세율(Base Rate):관세인하 교섭 등에서 각국의 관세율 수준을 나타낼 때 사용하는 세율\n",
    "\n",
    "\n",
    "- MFN(Most Favored Nation)세율:물품을 수입하는 국가에서 가장 낮게 운용하는 세율\n",
    "\n",
    "\n",
    "\n"
   ]
  },
  {
   "cell_type": "markdown",
   "metadata": {},
   "source": [
    "## 20. 관세율\n"
   ]
  },
  {
   "cell_type": "markdown",
   "metadata": {},
   "source": [
    "## 전처리 변수 총 정리"
   ]
  },
  {
   "cell_type": "code",
   "execution_count": 31,
   "metadata": {
    "scrolled": true
   },
   "outputs": [
    {
     "name": "stdout",
     "output_type": "stream",
     "text": [
      "<class 'pandas.core.frame.DataFrame'>\n",
      "RangeIndex: 76837 entries, 0 to 76836\n",
      "Data columns (total 21 columns):\n",
      " #   Column    Non-Null Count  Dtype  \n",
      "---  ------    --------------  -----  \n",
      " 0   통관지세관부호   76837 non-null  int64  \n",
      " 1   해외거래처부호   76837 non-null  object \n",
      " 2   특송업체부호    76837 non-null  object \n",
      " 3   수입통관계획코드  76837 non-null  object \n",
      " 4   수입신고구분코드  76837 non-null  object \n",
      " 5   수입거래구분코드  76837 non-null  int64  \n",
      " 6   수입종류코드    76837 non-null  int64  \n",
      " 7   징수형태코드    76837 non-null  int64  \n",
      " 8   신고중량(KG)  76837 non-null  float64\n",
      " 9   과세가격원화금액  76837 non-null  float64\n",
      " 10  운송수단유형코드  76837 non-null  int64  \n",
      " 11  반입보세구역부호  76837 non-null  int64  \n",
      " 12  HS10단위부호  76837 non-null  object \n",
      " 13  적출국가코드    76837 non-null  object \n",
      " 14  원산지국가코드   76837 non-null  object \n",
      " 15  관세율구분코드   76837 non-null  object \n",
      " 16  관세율       76837 non-null  float64\n",
      " 17  우범여부      76837 non-null  int64  \n",
      " 18  신고일       76837 non-null  int64  \n",
      " 19  신고요일      76837 non-null  int64  \n",
      " 20  HS2단위부호   76837 non-null  object \n",
      "dtypes: float64(3), int64(9), object(9)\n",
      "memory usage: 12.3+ MB\n"
     ]
    }
   ],
   "source": [
    "# 훈련 데이터\n",
    "df.info()"
   ]
  },
  {
   "cell_type": "code",
   "execution_count": 32,
   "metadata": {
    "scrolled": true
   },
   "outputs": [
    {
     "name": "stdout",
     "output_type": "stream",
     "text": [
      "<class 'pandas.core.frame.DataFrame'>\n",
      "RangeIndex: 23163 entries, 0 to 23162\n",
      "Data columns (total 20 columns):\n",
      " #   Column    Non-Null Count  Dtype  \n",
      "---  ------    --------------  -----  \n",
      " 0   통관지세관부호   23163 non-null  int64  \n",
      " 1   해외거래처부호   23163 non-null  object \n",
      " 2   특송업체부호    23163 non-null  object \n",
      " 3   수입통관계획코드  23163 non-null  object \n",
      " 4   수입신고구분코드  23163 non-null  object \n",
      " 5   수입거래구분코드  23163 non-null  int64  \n",
      " 6   수입종류코드    23163 non-null  int64  \n",
      " 7   징수형태코드    23163 non-null  int64  \n",
      " 8   신고중량(KG)  23163 non-null  float64\n",
      " 9   과세가격원화금액  23163 non-null  float64\n",
      " 10  운송수단유형코드  23163 non-null  int64  \n",
      " 11  반입보세구역부호  23163 non-null  int64  \n",
      " 12  HS10단위부호  23163 non-null  object \n",
      " 13  적출국가코드    23163 non-null  object \n",
      " 14  원산지국가코드   23163 non-null  object \n",
      " 15  관세율구분코드   23163 non-null  object \n",
      " 16  관세율       23163 non-null  float64\n",
      " 17  신고일       23163 non-null  int64  \n",
      " 18  신고요일      23163 non-null  int64  \n",
      " 19  HS2단위부호   23163 non-null  object \n",
      "dtypes: float64(3), int64(8), object(9)\n",
      "memory usage: 3.5+ MB\n"
     ]
    }
   ],
   "source": [
    "# test 데이터\n",
    "df_test.info()"
   ]
  },
  {
   "cell_type": "code",
   "execution_count": 33,
   "metadata": {},
   "outputs": [],
   "source": [
    "# train data 칼럼 순서 변경\n",
    "df = df[['신고일','신고요일','통관지세관부호','해외거래처부호','특송업체부호','수입통관계획코드','수입신고구분코드',\n",
    "        '수입거래구분코드','수입종류코드','징수형태코드','신고중량(KG)','과세가격원화금액',\n",
    "        '운송수단유형코드','반입보세구역부호','HS10단위부호','HS2단위부호','적출국가코드',\n",
    "         '원산지국가코드','관세율구분코드','관세율','우범여부']]"
   ]
  },
  {
   "cell_type": "code",
   "execution_count": 34,
   "metadata": {},
   "outputs": [],
   "source": [
    "# test data 칼럼 순서 변경\n",
    "df_test= df_test[['신고일','신고요일','통관지세관부호','해외거래처부호','특송업체부호','수입통관계획코드','수입신고구분코드',\n",
    "        '수입거래구분코드','수입종류코드','징수형태코드','신고중량(KG)','과세가격원화금액',\n",
    "        '운송수단유형코드','반입보세구역부호','HS10단위부호','HS2단위부호',\n",
    "         '적출국가코드','원산지국가코드','관세율구분코드',\n",
    "        '관세율']]"
   ]
  },
  {
   "cell_type": "code",
   "execution_count": 35,
   "metadata": {
    "scrolled": false
   },
   "outputs": [
    {
     "name": "stdout",
     "output_type": "stream",
     "text": [
      "<class 'pandas.core.frame.DataFrame'>\n",
      "RangeIndex: 76837 entries, 0 to 76836\n",
      "Data columns (total 21 columns):\n",
      " #   Column    Non-Null Count  Dtype  \n",
      "---  ------    --------------  -----  \n",
      " 0   신고일       76837 non-null  int64  \n",
      " 1   신고요일      76837 non-null  int64  \n",
      " 2   통관지세관부호   76837 non-null  int64  \n",
      " 3   해외거래처부호   76837 non-null  object \n",
      " 4   특송업체부호    76837 non-null  object \n",
      " 5   수입통관계획코드  76837 non-null  object \n",
      " 6   수입신고구분코드  76837 non-null  object \n",
      " 7   수입거래구분코드  76837 non-null  int64  \n",
      " 8   수입종류코드    76837 non-null  int64  \n",
      " 9   징수형태코드    76837 non-null  int64  \n",
      " 10  신고중량(KG)  76837 non-null  float64\n",
      " 11  과세가격원화금액  76837 non-null  float64\n",
      " 12  운송수단유형코드  76837 non-null  int64  \n",
      " 13  반입보세구역부호  76837 non-null  int64  \n",
      " 14  HS10단위부호  76837 non-null  object \n",
      " 15  HS2단위부호   76837 non-null  object \n",
      " 16  적출국가코드    76837 non-null  object \n",
      " 17  원산지국가코드   76837 non-null  object \n",
      " 18  관세율구분코드   76837 non-null  object \n",
      " 19  관세율       76837 non-null  float64\n",
      " 20  우범여부      76837 non-null  int64  \n",
      "dtypes: float64(3), int64(9), object(9)\n",
      "memory usage: 12.3+ MB\n"
     ]
    }
   ],
   "source": [
    "# train 순서변경\n",
    "df.info()"
   ]
  },
  {
   "cell_type": "code",
   "execution_count": 36,
   "metadata": {},
   "outputs": [
    {
     "name": "stdout",
     "output_type": "stream",
     "text": [
      "<class 'pandas.core.frame.DataFrame'>\n",
      "RangeIndex: 23163 entries, 0 to 23162\n",
      "Data columns (total 20 columns):\n",
      " #   Column    Non-Null Count  Dtype  \n",
      "---  ------    --------------  -----  \n",
      " 0   신고일       23163 non-null  int64  \n",
      " 1   신고요일      23163 non-null  int64  \n",
      " 2   통관지세관부호   23163 non-null  int64  \n",
      " 3   해외거래처부호   23163 non-null  object \n",
      " 4   특송업체부호    23163 non-null  object \n",
      " 5   수입통관계획코드  23163 non-null  object \n",
      " 6   수입신고구분코드  23163 non-null  object \n",
      " 7   수입거래구분코드  23163 non-null  int64  \n",
      " 8   수입종류코드    23163 non-null  int64  \n",
      " 9   징수형태코드    23163 non-null  int64  \n",
      " 10  신고중량(KG)  23163 non-null  float64\n",
      " 11  과세가격원화금액  23163 non-null  float64\n",
      " 12  운송수단유형코드  23163 non-null  int64  \n",
      " 13  반입보세구역부호  23163 non-null  int64  \n",
      " 14  HS10단위부호  23163 non-null  object \n",
      " 15  HS2단위부호   23163 non-null  object \n",
      " 16  적출국가코드    23163 non-null  object \n",
      " 17  원산지국가코드   23163 non-null  object \n",
      " 18  관세율구분코드   23163 non-null  object \n",
      " 19  관세율       23163 non-null  float64\n",
      "dtypes: float64(3), int64(8), object(9)\n",
      "memory usage: 3.5+ MB\n"
     ]
    }
   ],
   "source": [
    "# test 순서변경\n",
    "df_test.info()"
   ]
  },
  {
   "cell_type": "markdown",
   "metadata": {},
   "source": [
    "## 2. 데이터 변환"
   ]
  },
  {
   "cell_type": "markdown",
   "metadata": {},
   "source": [
    "### 2.0 훈련,검증,테스트 데이터로 구분"
   ]
  },
  {
   "cell_type": "code",
   "execution_count": 37,
   "metadata": {},
   "outputs": [],
   "source": [
    "from sklearn.model_selection import train_test_split\n",
    "\n",
    "# train set을 train data와 validation set으로 80 : 20 비율로 나눈다.\n",
    "columns = ['신고일','신고요일','통관지세관부호','해외거래처부호','특송업체부호','수입통관계획코드','수입신고구분코드',\n",
    "        '수입거래구분코드','수입종류코드','징수형태코드','신고중량(KG)','과세가격원화금액',\n",
    "        '운송수단유형코드','반입보세구역부호','HS10단위부호','HS2단위부호','적출국가코드',\n",
    "         '원산지국가코드','관세율구분코드','관세율']\n",
    "# train set을 train 데이터와 validation data 나눔\n",
    "df_train, df_validation, df_train_y, df_validation_y = train_test_split(df[columns], df['우범여부'],test_size=0.2,random_state=777)"
   ]
  },
  {
   "cell_type": "code",
   "execution_count": 38,
   "metadata": {},
   "outputs": [
    {
     "name": "stdout",
     "output_type": "stream",
     "text": [
      "(61469, 20) (15368, 20)\n"
     ]
    }
   ],
   "source": [
    "# 데이터 사이즈 확인\n",
    "print(df_train.shape, df_validation.shape)"
   ]
  },
  {
   "cell_type": "code",
   "execution_count": 39,
   "metadata": {},
   "outputs": [
    {
     "data": {
      "text/plain": [
       "(23163, 20)"
      ]
     },
     "execution_count": 39,
     "metadata": {},
     "output_type": "execute_result"
    }
   ],
   "source": [
    "# test data size 확인\n",
    "df_test.shape"
   ]
  },
  {
   "cell_type": "code",
   "execution_count": 40,
   "metadata": {
    "scrolled": true
   },
   "outputs": [
    {
     "data": {
      "text/plain": [
       "Index(['신고일', '신고요일', '통관지세관부호', '해외거래처부호', '특송업체부호', '수입통관계획코드', '수입신고구분코드',\n",
       "       '수입거래구분코드', '수입종류코드', '징수형태코드', '신고중량(KG)', '과세가격원화금액', '운송수단유형코드',\n",
       "       '반입보세구역부호', 'HS10단위부호', 'HS2단위부호', '적출국가코드', '원산지국가코드', '관세율구분코드',\n",
       "       '관세율'],\n",
       "      dtype='object')"
      ]
     },
     "execution_count": 40,
     "metadata": {},
     "output_type": "execute_result"
    }
   ],
   "source": [
    "df_train.columns"
   ]
  },
  {
   "cell_type": "markdown",
   "metadata": {},
   "source": [
    "## 2.1 수치형 변수 변환"
   ]
  },
  {
   "cell_type": "code",
   "execution_count": 41,
   "metadata": {},
   "outputs": [],
   "source": [
    "# 수치형 변수 지정\n",
    "numeric_columns = ['신고중량(KG)', '과세가격원화금액', '관세율']\n",
    "\n",
    "# 수치형 변수를 자연로그로 변환 - 훈련, 검증, 테스트 데이터 전부\n",
    "for var in ['신고중량(KG)', '과세가격원화금액','관세율']:\n",
    "    df_train[var] = df_train[var].apply(lambda x: np.log1p(x))\n",
    "    df_validation[var] = df_validation[var].apply(lambda x: np.log1p(x))\n",
    "    df_test[var] = df_test[var].apply(lambda x: np.log1p(x))"
   ]
  },
  {
   "cell_type": "code",
   "execution_count": 42,
   "metadata": {},
   "outputs": [],
   "source": [
    "# 수치형 변수를 z-transform 훈련 데이터의 평균 분산에 맞춘다.\n",
    "for var in ['신고중량(KG)', '과세가격원화금액','관세율']:\n",
    "    mean = np.mean(df_train[var])\n",
    "    std = np.std(df_train[var])\n",
    "    df_train[var] = (df_train[var] - mean ) / std\n",
    "    df_validation[var] =  (df_validation[var] - mean) / std\n",
    "    df_test[var] =  (df_test[var] - mean) / std"
   ]
  },
  {
   "cell_type": "markdown",
   "metadata": {},
   "source": [
    "## 2.2 범주형 변수 변환"
   ]
  },
  {
   "cell_type": "code",
   "execution_count": 43,
   "metadata": {},
   "outputs": [],
   "source": [
    "# 범주형 변수 지정\n",
    "discrete_columns = ['신고일','신고요일','통관지세관부호','해외거래처부호',\n",
    "                    '특송업체부호','수입통관계획코드','수입신고구분코드','수입거래구분코드',\n",
    "                    '수입종류코드','징수형태코드','운송수단유형코드','반입보세구역부호',\n",
    "                    'HS10단위부호','HS2단위부호',\n",
    "                    '적출국가코드','원산지국가코드','관세율구분코드']"
   ]
  },
  {
   "cell_type": "code",
   "execution_count": 44,
   "metadata": {},
   "outputs": [],
   "source": [
    "# 범주형 변수들을 문자열로 지정 ('object' -> 'string')\n",
    "for var in discrete_columns:\n",
    "    df[var] = df[var].astype(str)"
   ]
  },
  {
   "cell_type": "code",
   "execution_count": 45,
   "metadata": {
    "scrolled": true
   },
   "outputs": [],
   "source": [
    "# 훈련, 검증, 테스트 데이터의 범주형 변수 모두 숫자로 범주화\n",
    "\n",
    "# 범주형 변수 전처리 1단계: label encoding --> 각 범주형 변수가 갖는 클래스에 고유의 식별번호 부여\n",
    "# 예) 수입자 상호: AAABB -> 1, 가나다라 -> 2, ...\n",
    "\n",
    "label_encoding_ref = {}\n",
    "for var in discrete_columns:\n",
    "    label_encoding_ref[var] = {code: i+1 for i, code in enumerate(df_train[var].unique())} \n",
    "    # 0 padding for unseen data in test\n",
    "    # print(label_encoding_ref[var])\n",
    "    df_train[var] = [label_encoding_ref[var][x] for x in df_train[var]]\n",
    "    df_validation[var] = [label_encoding_ref[var].get(x,0) for x in df_validation[var]]\n",
    "    df_test[var] = [label_encoding_ref[var].get(x,0) for x in df_test[var]]\n",
    "\n",
    "df_train.reset_index(drop=True, inplace=True)\n",
    "df_validation.reset_index(drop=True, inplace=True)\n",
    "df_test.reset_index(drop=True, inplace=True)"
   ]
  },
  {
   "cell_type": "code",
   "execution_count": 46,
   "metadata": {},
   "outputs": [
    {
     "data": {
      "text/html": [
       "<div>\n",
       "<style scoped>\n",
       "    .dataframe tbody tr th:only-of-type {\n",
       "        vertical-align: middle;\n",
       "    }\n",
       "\n",
       "    .dataframe tbody tr th {\n",
       "        vertical-align: top;\n",
       "    }\n",
       "\n",
       "    .dataframe thead th {\n",
       "        text-align: right;\n",
       "    }\n",
       "</style>\n",
       "<table border=\"1\" class=\"dataframe\">\n",
       "  <thead>\n",
       "    <tr style=\"text-align: right;\">\n",
       "      <th></th>\n",
       "      <th>신고일</th>\n",
       "      <th>신고요일</th>\n",
       "      <th>통관지세관부호</th>\n",
       "      <th>해외거래처부호</th>\n",
       "      <th>특송업체부호</th>\n",
       "      <th>수입통관계획코드</th>\n",
       "      <th>수입신고구분코드</th>\n",
       "      <th>수입거래구분코드</th>\n",
       "      <th>수입종류코드</th>\n",
       "      <th>징수형태코드</th>\n",
       "      <th>신고중량(KG)</th>\n",
       "      <th>과세가격원화금액</th>\n",
       "      <th>운송수단유형코드</th>\n",
       "      <th>반입보세구역부호</th>\n",
       "      <th>HS10단위부호</th>\n",
       "      <th>HS2단위부호</th>\n",
       "      <th>적출국가코드</th>\n",
       "      <th>원산지국가코드</th>\n",
       "      <th>관세율구분코드</th>\n",
       "      <th>관세율</th>\n",
       "    </tr>\n",
       "  </thead>\n",
       "  <tbody>\n",
       "    <tr>\n",
       "      <th>20732</th>\n",
       "      <td>28</td>\n",
       "      <td>6</td>\n",
       "      <td>2</td>\n",
       "      <td>19</td>\n",
       "      <td>2</td>\n",
       "      <td>2</td>\n",
       "      <td>1</td>\n",
       "      <td>3</td>\n",
       "      <td>2</td>\n",
       "      <td>4</td>\n",
       "      <td>0.467758</td>\n",
       "      <td>-0.988497</td>\n",
       "      <td>2</td>\n",
       "      <td>45</td>\n",
       "      <td>62</td>\n",
       "      <td>20</td>\n",
       "      <td>1</td>\n",
       "      <td>1</td>\n",
       "      <td>1</td>\n",
       "      <td>0.014554</td>\n",
       "    </tr>\n",
       "    <tr>\n",
       "      <th>12042</th>\n",
       "      <td>17</td>\n",
       "      <td>2</td>\n",
       "      <td>5</td>\n",
       "      <td>2</td>\n",
       "      <td>1</td>\n",
       "      <td>2</td>\n",
       "      <td>1</td>\n",
       "      <td>3</td>\n",
       "      <td>2</td>\n",
       "      <td>1</td>\n",
       "      <td>0.314005</td>\n",
       "      <td>3.031737</td>\n",
       "      <td>1</td>\n",
       "      <td>108</td>\n",
       "      <td>1444</td>\n",
       "      <td>33</td>\n",
       "      <td>29</td>\n",
       "      <td>28</td>\n",
       "      <td>2</td>\n",
       "      <td>-1.418167</td>\n",
       "    </tr>\n",
       "    <tr>\n",
       "      <th>20129</th>\n",
       "      <td>4</td>\n",
       "      <td>2</td>\n",
       "      <td>5</td>\n",
       "      <td>265</td>\n",
       "      <td>7</td>\n",
       "      <td>3</td>\n",
       "      <td>1</td>\n",
       "      <td>1</td>\n",
       "      <td>2</td>\n",
       "      <td>6</td>\n",
       "      <td>0.762705</td>\n",
       "      <td>-0.658382</td>\n",
       "      <td>2</td>\n",
       "      <td>47</td>\n",
       "      <td>186</td>\n",
       "      <td>9</td>\n",
       "      <td>1</td>\n",
       "      <td>1</td>\n",
       "      <td>2</td>\n",
       "      <td>0.562666</td>\n",
       "    </tr>\n",
       "  </tbody>\n",
       "</table>\n",
       "</div>"
      ],
      "text/plain": [
       "       신고일  신고요일  통관지세관부호  해외거래처부호  특송업체부호  수입통관계획코드  수입신고구분코드  수입거래구분코드  \\\n",
       "20732   28     6        2       19       2         2         1         3   \n",
       "12042   17     2        5        2       1         2         1         3   \n",
       "20129    4     2        5      265       7         3         1         1   \n",
       "\n",
       "       수입종류코드  징수형태코드  신고중량(KG)  과세가격원화금액  운송수단유형코드  반입보세구역부호  HS10단위부호  \\\n",
       "20732       2       4  0.467758 -0.988497         2        45        62   \n",
       "12042       2       1  0.314005  3.031737         1       108      1444   \n",
       "20129       2       6  0.762705 -0.658382         2        47       186   \n",
       "\n",
       "       HS2단위부호  적출국가코드  원산지국가코드  관세율구분코드       관세율  \n",
       "20732       20       1        1        1  0.014554  \n",
       "12042       33      29       28        2 -1.418167  \n",
       "20129        9       1        1        2  0.562666  "
      ]
     },
     "execution_count": 46,
     "metadata": {},
     "output_type": "execute_result"
    }
   ],
   "source": [
    "# test 샘플 확인\n",
    "df_test.sample(3)"
   ]
  },
  {
   "cell_type": "code",
   "execution_count": 47,
   "metadata": {},
   "outputs": [
    {
     "data": {
      "text/html": [
       "<div>\n",
       "<style scoped>\n",
       "    .dataframe tbody tr th:only-of-type {\n",
       "        vertical-align: middle;\n",
       "    }\n",
       "\n",
       "    .dataframe tbody tr th {\n",
       "        vertical-align: top;\n",
       "    }\n",
       "\n",
       "    .dataframe thead th {\n",
       "        text-align: right;\n",
       "    }\n",
       "</style>\n",
       "<table border=\"1\" class=\"dataframe\">\n",
       "  <thead>\n",
       "    <tr style=\"text-align: right;\">\n",
       "      <th></th>\n",
       "      <th>신고일</th>\n",
       "      <th>신고요일</th>\n",
       "      <th>통관지세관부호</th>\n",
       "      <th>해외거래처부호</th>\n",
       "      <th>특송업체부호</th>\n",
       "      <th>수입통관계획코드</th>\n",
       "      <th>수입신고구분코드</th>\n",
       "      <th>수입거래구분코드</th>\n",
       "      <th>수입종류코드</th>\n",
       "      <th>징수형태코드</th>\n",
       "      <th>신고중량(KG)</th>\n",
       "      <th>과세가격원화금액</th>\n",
       "      <th>운송수단유형코드</th>\n",
       "      <th>반입보세구역부호</th>\n",
       "      <th>HS10단위부호</th>\n",
       "      <th>HS2단위부호</th>\n",
       "      <th>적출국가코드</th>\n",
       "      <th>원산지국가코드</th>\n",
       "      <th>관세율구분코드</th>\n",
       "      <th>관세율</th>\n",
       "    </tr>\n",
       "  </thead>\n",
       "  <tbody>\n",
       "    <tr>\n",
       "      <th>52115</th>\n",
       "      <td>5</td>\n",
       "      <td>2</td>\n",
       "      <td>5</td>\n",
       "      <td>2</td>\n",
       "      <td>2</td>\n",
       "      <td>2</td>\n",
       "      <td>1</td>\n",
       "      <td>3</td>\n",
       "      <td>2</td>\n",
       "      <td>4</td>\n",
       "      <td>0.468019</td>\n",
       "      <td>0.302970</td>\n",
       "      <td>1</td>\n",
       "      <td>17</td>\n",
       "      <td>337</td>\n",
       "      <td>64</td>\n",
       "      <td>1</td>\n",
       "      <td>1</td>\n",
       "      <td>1</td>\n",
       "      <td>0.336102</td>\n",
       "    </tr>\n",
       "    <tr>\n",
       "      <th>2753</th>\n",
       "      <td>12</td>\n",
       "      <td>6</td>\n",
       "      <td>2</td>\n",
       "      <td>2</td>\n",
       "      <td>2</td>\n",
       "      <td>1</td>\n",
       "      <td>1</td>\n",
       "      <td>3</td>\n",
       "      <td>2</td>\n",
       "      <td>1</td>\n",
       "      <td>0.782832</td>\n",
       "      <td>-0.065176</td>\n",
       "      <td>1</td>\n",
       "      <td>22</td>\n",
       "      <td>2</td>\n",
       "      <td>2</td>\n",
       "      <td>2</td>\n",
       "      <td>2</td>\n",
       "      <td>2</td>\n",
       "      <td>0.562666</td>\n",
       "    </tr>\n",
       "    <tr>\n",
       "      <th>59077</th>\n",
       "      <td>15</td>\n",
       "      <td>3</td>\n",
       "      <td>4</td>\n",
       "      <td>290</td>\n",
       "      <td>56</td>\n",
       "      <td>1</td>\n",
       "      <td>1</td>\n",
       "      <td>1</td>\n",
       "      <td>2</td>\n",
       "      <td>1</td>\n",
       "      <td>-1.843560</td>\n",
       "      <td>-0.155957</td>\n",
       "      <td>1</td>\n",
       "      <td>70</td>\n",
       "      <td>161</td>\n",
       "      <td>49</td>\n",
       "      <td>2</td>\n",
       "      <td>2</td>\n",
       "      <td>2</td>\n",
       "      <td>0.562666</td>\n",
       "    </tr>\n",
       "  </tbody>\n",
       "</table>\n",
       "</div>"
      ],
      "text/plain": [
       "       신고일  신고요일  통관지세관부호  해외거래처부호  특송업체부호  수입통관계획코드  수입신고구분코드  수입거래구분코드  \\\n",
       "52115    5     2        5        2       2         2         1         3   \n",
       "2753    12     6        2        2       2         1         1         3   \n",
       "59077   15     3        4      290      56         1         1         1   \n",
       "\n",
       "       수입종류코드  징수형태코드  신고중량(KG)  과세가격원화금액  운송수단유형코드  반입보세구역부호  HS10단위부호  \\\n",
       "52115       2       4  0.468019  0.302970         1        17       337   \n",
       "2753        2       1  0.782832 -0.065176         1        22         2   \n",
       "59077       2       1 -1.843560 -0.155957         1        70       161   \n",
       "\n",
       "       HS2단위부호  적출국가코드  원산지국가코드  관세율구분코드       관세율  \n",
       "52115       64       1        1        1  0.336102  \n",
       "2753         2       2        2        2  0.562666  \n",
       "59077       49       2        2        2  0.562666  "
      ]
     },
     "execution_count": 47,
     "metadata": {},
     "output_type": "execute_result"
    }
   ],
   "source": [
    "# train data 샘플 확인\n",
    "df_train.sample(3)"
   ]
  },
  {
   "cell_type": "code",
   "execution_count": 48,
   "metadata": {},
   "outputs": [
    {
     "data": {
      "text/html": [
       "<div>\n",
       "<style scoped>\n",
       "    .dataframe tbody tr th:only-of-type {\n",
       "        vertical-align: middle;\n",
       "    }\n",
       "\n",
       "    .dataframe tbody tr th {\n",
       "        vertical-align: top;\n",
       "    }\n",
       "\n",
       "    .dataframe thead th {\n",
       "        text-align: right;\n",
       "    }\n",
       "</style>\n",
       "<table border=\"1\" class=\"dataframe\">\n",
       "  <thead>\n",
       "    <tr style=\"text-align: right;\">\n",
       "      <th></th>\n",
       "      <th>신고일</th>\n",
       "      <th>신고요일</th>\n",
       "      <th>통관지세관부호</th>\n",
       "      <th>해외거래처부호</th>\n",
       "      <th>특송업체부호</th>\n",
       "      <th>수입통관계획코드</th>\n",
       "      <th>수입신고구분코드</th>\n",
       "      <th>수입거래구분코드</th>\n",
       "      <th>수입종류코드</th>\n",
       "      <th>징수형태코드</th>\n",
       "      <th>신고중량(KG)</th>\n",
       "      <th>과세가격원화금액</th>\n",
       "      <th>운송수단유형코드</th>\n",
       "      <th>반입보세구역부호</th>\n",
       "      <th>HS10단위부호</th>\n",
       "      <th>HS2단위부호</th>\n",
       "      <th>적출국가코드</th>\n",
       "      <th>원산지국가코드</th>\n",
       "      <th>관세율구분코드</th>\n",
       "      <th>관세율</th>\n",
       "    </tr>\n",
       "  </thead>\n",
       "  <tbody>\n",
       "    <tr>\n",
       "      <th>12829</th>\n",
       "      <td>3</td>\n",
       "      <td>6</td>\n",
       "      <td>5</td>\n",
       "      <td>2</td>\n",
       "      <td>2</td>\n",
       "      <td>1</td>\n",
       "      <td>1</td>\n",
       "      <td>3</td>\n",
       "      <td>2</td>\n",
       "      <td>1</td>\n",
       "      <td>1.306082</td>\n",
       "      <td>2.240109</td>\n",
       "      <td>1</td>\n",
       "      <td>23</td>\n",
       "      <td>1123</td>\n",
       "      <td>35</td>\n",
       "      <td>1</td>\n",
       "      <td>1</td>\n",
       "      <td>26</td>\n",
       "      <td>-1.418167</td>\n",
       "    </tr>\n",
       "    <tr>\n",
       "      <th>9718</th>\n",
       "      <td>11</td>\n",
       "      <td>4</td>\n",
       "      <td>3</td>\n",
       "      <td>3539</td>\n",
       "      <td>2</td>\n",
       "      <td>2</td>\n",
       "      <td>1</td>\n",
       "      <td>3</td>\n",
       "      <td>2</td>\n",
       "      <td>1</td>\n",
       "      <td>-1.208143</td>\n",
       "      <td>-2.296643</td>\n",
       "      <td>1</td>\n",
       "      <td>158</td>\n",
       "      <td>115</td>\n",
       "      <td>20</td>\n",
       "      <td>6</td>\n",
       "      <td>10</td>\n",
       "      <td>3</td>\n",
       "      <td>0.398300</td>\n",
       "    </tr>\n",
       "    <tr>\n",
       "      <th>629</th>\n",
       "      <td>21</td>\n",
       "      <td>2</td>\n",
       "      <td>1</td>\n",
       "      <td>2303</td>\n",
       "      <td>2</td>\n",
       "      <td>6</td>\n",
       "      <td>1</td>\n",
       "      <td>1</td>\n",
       "      <td>2</td>\n",
       "      <td>1</td>\n",
       "      <td>-2.188670</td>\n",
       "      <td>-1.397580</td>\n",
       "      <td>1</td>\n",
       "      <td>11</td>\n",
       "      <td>1199</td>\n",
       "      <td>5</td>\n",
       "      <td>1</td>\n",
       "      <td>1</td>\n",
       "      <td>1</td>\n",
       "      <td>-1.418167</td>\n",
       "    </tr>\n",
       "  </tbody>\n",
       "</table>\n",
       "</div>"
      ],
      "text/plain": [
       "       신고일  신고요일  통관지세관부호  해외거래처부호  특송업체부호  수입통관계획코드  수입신고구분코드  수입거래구분코드  \\\n",
       "12829    3     6        5        2       2         1         1         3   \n",
       "9718    11     4        3     3539       2         2         1         3   \n",
       "629     21     2        1     2303       2         6         1         1   \n",
       "\n",
       "       수입종류코드  징수형태코드  신고중량(KG)  과세가격원화금액  운송수단유형코드  반입보세구역부호  HS10단위부호  \\\n",
       "12829       2       1  1.306082  2.240109         1        23      1123   \n",
       "9718        2       1 -1.208143 -2.296643         1       158       115   \n",
       "629         2       1 -2.188670 -1.397580         1        11      1199   \n",
       "\n",
       "       HS2단위부호  적출국가코드  원산지국가코드  관세율구분코드       관세율  \n",
       "12829       35       1        1       26 -1.418167  \n",
       "9718        20       6       10        3  0.398300  \n",
       "629          5       1        1        1 -1.418167  "
      ]
     },
     "execution_count": 48,
     "metadata": {},
     "output_type": "execute_result"
    }
   ],
   "source": [
    "# validation 샘플 확인\n",
    "df_validation.sample(3)"
   ]
  },
  {
   "cell_type": "code",
   "execution_count": 49,
   "metadata": {},
   "outputs": [],
   "source": [
    "# 아까 숫자로 변환시킨 것에서 ->one-hot-encoding\n",
    "# 예) A,B,C 3개의 클래스가 있는 범주형 변수를 다음과 같이 변환\n",
    "# A -> [1,0,0] / B -> [0,1,0] / C -> [0,0,1]\n",
    "\n",
    "# 원핫인코더 로딩\n",
    "from sklearn.preprocessing import  OneHotEncoder\n",
    "# 원핫인코더 활성화\n",
    "xgbohe = OneHotEncoder(categories=\"auto\", handle_unknown='ignore')\n",
    "# 훈련데이터: 범주형 변수만 분리하여 원핫인코딩 적용\n",
    "df_train_cat = xgbohe.fit_transform(df_train[discrete_columns])\n",
    "df_train_cat = pd.DataFrame(df_train_cat.toarray(), \n",
    "                                columns = xgbohe.get_feature_names(discrete_columns))\n",
    "# 수치형 변수 분리\n",
    "df_train_num = df_train[numeric_columns]\n",
    "# 원핫인코딩된 범주형 변수와 수치형 변수 재결합\n",
    "df_train = pd.concat([df_train_num, df_train_cat], axis=1)"
   ]
  },
  {
   "cell_type": "code",
   "execution_count": 50,
   "metadata": {
    "scrolled": true
   },
   "outputs": [
    {
     "data": {
      "text/html": [
       "<div>\n",
       "<style scoped>\n",
       "    .dataframe tbody tr th:only-of-type {\n",
       "        vertical-align: middle;\n",
       "    }\n",
       "\n",
       "    .dataframe tbody tr th {\n",
       "        vertical-align: top;\n",
       "    }\n",
       "\n",
       "    .dataframe thead th {\n",
       "        text-align: right;\n",
       "    }\n",
       "</style>\n",
       "<table border=\"1\" class=\"dataframe\">\n",
       "  <thead>\n",
       "    <tr style=\"text-align: right;\">\n",
       "      <th></th>\n",
       "      <th>신고중량(KG)</th>\n",
       "      <th>과세가격원화금액</th>\n",
       "      <th>관세율</th>\n",
       "      <th>신고일_1</th>\n",
       "      <th>신고일_2</th>\n",
       "      <th>신고일_3</th>\n",
       "      <th>신고일_4</th>\n",
       "      <th>신고일_5</th>\n",
       "      <th>신고일_6</th>\n",
       "      <th>신고일_7</th>\n",
       "      <th>...</th>\n",
       "      <th>관세율구분코드_25</th>\n",
       "      <th>관세율구분코드_26</th>\n",
       "      <th>관세율구분코드_27</th>\n",
       "      <th>관세율구분코드_28</th>\n",
       "      <th>관세율구분코드_29</th>\n",
       "      <th>관세율구분코드_30</th>\n",
       "      <th>관세율구분코드_31</th>\n",
       "      <th>관세율구분코드_32</th>\n",
       "      <th>관세율구분코드_33</th>\n",
       "      <th>관세율구분코드_34</th>\n",
       "    </tr>\n",
       "  </thead>\n",
       "  <tbody>\n",
       "    <tr>\n",
       "      <th>0</th>\n",
       "      <td>-1.729721</td>\n",
       "      <td>-0.413311</td>\n",
       "      <td>-0.124415</td>\n",
       "      <td>1.0</td>\n",
       "      <td>0.0</td>\n",
       "      <td>0.0</td>\n",
       "      <td>0.0</td>\n",
       "      <td>0.0</td>\n",
       "      <td>0.0</td>\n",
       "      <td>0.0</td>\n",
       "      <td>...</td>\n",
       "      <td>0.0</td>\n",
       "      <td>0.0</td>\n",
       "      <td>0.0</td>\n",
       "      <td>0.0</td>\n",
       "      <td>0.0</td>\n",
       "      <td>0.0</td>\n",
       "      <td>0.0</td>\n",
       "      <td>0.0</td>\n",
       "      <td>0.0</td>\n",
       "      <td>0.0</td>\n",
       "    </tr>\n",
       "  </tbody>\n",
       "</table>\n",
       "<p>1 rows × 8142 columns</p>\n",
       "</div>"
      ],
      "text/plain": [
       "   신고중량(KG)  과세가격원화금액       관세율  신고일_1  신고일_2  신고일_3  신고일_4  신고일_5  신고일_6  \\\n",
       "0 -1.729721 -0.413311 -0.124415    1.0    0.0    0.0    0.0    0.0    0.0   \n",
       "\n",
       "   신고일_7  ...  관세율구분코드_25  관세율구분코드_26  관세율구분코드_27  관세율구분코드_28  관세율구분코드_29  \\\n",
       "0    0.0  ...         0.0         0.0         0.0         0.0         0.0   \n",
       "\n",
       "   관세율구분코드_30  관세율구분코드_31  관세율구분코드_32  관세율구분코드_33  관세율구분코드_34  \n",
       "0         0.0         0.0         0.0         0.0         0.0  \n",
       "\n",
       "[1 rows x 8142 columns]"
      ]
     },
     "execution_count": 50,
     "metadata": {},
     "output_type": "execute_result"
    }
   ],
   "source": [
    "# 훈련데이터 샘플 확인\n",
    "df_train.head(1)"
   ]
  },
  {
   "cell_type": "code",
   "execution_count": 51,
   "metadata": {},
   "outputs": [
    {
     "name": "stdout",
     "output_type": "stream",
     "text": [
      "<class 'pandas.core.frame.DataFrame'>\n",
      "RangeIndex: 61469 entries, 0 to 61468\n",
      "Columns: 8142 entries, 신고중량(KG) to 관세율구분코드_34\n",
      "dtypes: float64(8142)\n",
      "memory usage: 3.7 GB\n"
     ]
    }
   ],
   "source": [
    "df_train.info()"
   ]
  },
  {
   "cell_type": "code",
   "execution_count": 52,
   "metadata": {},
   "outputs": [],
   "source": [
    "# validation: 범주형 변수만 분리하여 원핫인코딩 적용\n",
    "df_validation_cat = xgbohe.transform(df_validation[discrete_columns])\n",
    "df_validation_cat = pd.DataFrame(df_validation_cat.toarray(), \n",
    "                               columns = xgbohe.get_feature_names(discrete_columns))\n",
    "# 수치형 변수 분리\n",
    "df_validation_num = df_validation[numeric_columns]\n",
    "# 원핫인코딩된 범주형 변수와 수치형 변수 재결합\n",
    "df_validation = pd.concat([df_validation_num, df_validation_cat], axis=1)"
   ]
  },
  {
   "cell_type": "code",
   "execution_count": 53,
   "metadata": {
    "scrolled": false
   },
   "outputs": [
    {
     "data": {
      "text/html": [
       "<div>\n",
       "<style scoped>\n",
       "    .dataframe tbody tr th:only-of-type {\n",
       "        vertical-align: middle;\n",
       "    }\n",
       "\n",
       "    .dataframe tbody tr th {\n",
       "        vertical-align: top;\n",
       "    }\n",
       "\n",
       "    .dataframe thead th {\n",
       "        text-align: right;\n",
       "    }\n",
       "</style>\n",
       "<table border=\"1\" class=\"dataframe\">\n",
       "  <thead>\n",
       "    <tr style=\"text-align: right;\">\n",
       "      <th></th>\n",
       "      <th>신고중량(KG)</th>\n",
       "      <th>과세가격원화금액</th>\n",
       "      <th>관세율</th>\n",
       "      <th>신고일_1</th>\n",
       "      <th>신고일_2</th>\n",
       "      <th>신고일_3</th>\n",
       "      <th>신고일_4</th>\n",
       "      <th>신고일_5</th>\n",
       "      <th>신고일_6</th>\n",
       "      <th>신고일_7</th>\n",
       "      <th>...</th>\n",
       "      <th>관세율구분코드_25</th>\n",
       "      <th>관세율구분코드_26</th>\n",
       "      <th>관세율구분코드_27</th>\n",
       "      <th>관세율구분코드_28</th>\n",
       "      <th>관세율구분코드_29</th>\n",
       "      <th>관세율구분코드_30</th>\n",
       "      <th>관세율구분코드_31</th>\n",
       "      <th>관세율구분코드_32</th>\n",
       "      <th>관세율구분코드_33</th>\n",
       "      <th>관세율구분코드_34</th>\n",
       "    </tr>\n",
       "  </thead>\n",
       "  <tbody>\n",
       "    <tr>\n",
       "      <th>0</th>\n",
       "      <td>-0.333579</td>\n",
       "      <td>0.305913</td>\n",
       "      <td>0.562666</td>\n",
       "      <td>0.0</td>\n",
       "      <td>1.0</td>\n",
       "      <td>0.0</td>\n",
       "      <td>0.0</td>\n",
       "      <td>0.0</td>\n",
       "      <td>0.0</td>\n",
       "      <td>0.0</td>\n",
       "      <td>...</td>\n",
       "      <td>0.0</td>\n",
       "      <td>0.0</td>\n",
       "      <td>0.0</td>\n",
       "      <td>0.0</td>\n",
       "      <td>0.0</td>\n",
       "      <td>0.0</td>\n",
       "      <td>0.0</td>\n",
       "      <td>0.0</td>\n",
       "      <td>0.0</td>\n",
       "      <td>0.0</td>\n",
       "    </tr>\n",
       "  </tbody>\n",
       "</table>\n",
       "<p>1 rows × 8142 columns</p>\n",
       "</div>"
      ],
      "text/plain": [
       "   신고중량(KG)  과세가격원화금액       관세율  신고일_1  신고일_2  신고일_3  신고일_4  신고일_5  신고일_6  \\\n",
       "0 -0.333579  0.305913  0.562666    0.0    1.0    0.0    0.0    0.0    0.0   \n",
       "\n",
       "   신고일_7  ...  관세율구분코드_25  관세율구분코드_26  관세율구분코드_27  관세율구분코드_28  관세율구분코드_29  \\\n",
       "0    0.0  ...         0.0         0.0         0.0         0.0         0.0   \n",
       "\n",
       "   관세율구분코드_30  관세율구분코드_31  관세율구분코드_32  관세율구분코드_33  관세율구분코드_34  \n",
       "0         0.0         0.0         0.0         0.0         0.0  \n",
       "\n",
       "[1 rows x 8142 columns]"
      ]
     },
     "execution_count": 53,
     "metadata": {},
     "output_type": "execute_result"
    }
   ],
   "source": [
    "# validation 샘플 확인\n",
    "df_validation.head(1)"
   ]
  },
  {
   "cell_type": "code",
   "execution_count": 54,
   "metadata": {},
   "outputs": [],
   "source": [
    "# test dat : 범주형 변수만 분리하여 원핫인코딩 적용\n",
    "df_test_cat = xgbohe.transform(df_test[discrete_columns])\n",
    "df_test_cat = pd.DataFrame(df_test_cat.toarray(), \n",
    "                               columns = xgbohe.get_feature_names(discrete_columns))\n",
    "# 수치형 변수 분리\n",
    "df_test_num = df_test[numeric_columns]\n",
    "# 원핫인코딩된 범주형 변수와 수치형 변수 재결합\n",
    "df_test = pd.concat([df_test_num, df_test_cat], axis=1)"
   ]
  },
  {
   "cell_type": "code",
   "execution_count": 55,
   "metadata": {},
   "outputs": [
    {
     "data": {
      "text/html": [
       "<div>\n",
       "<style scoped>\n",
       "    .dataframe tbody tr th:only-of-type {\n",
       "        vertical-align: middle;\n",
       "    }\n",
       "\n",
       "    .dataframe tbody tr th {\n",
       "        vertical-align: top;\n",
       "    }\n",
       "\n",
       "    .dataframe thead th {\n",
       "        text-align: right;\n",
       "    }\n",
       "</style>\n",
       "<table border=\"1\" class=\"dataframe\">\n",
       "  <thead>\n",
       "    <tr style=\"text-align: right;\">\n",
       "      <th></th>\n",
       "      <th>신고중량(KG)</th>\n",
       "      <th>과세가격원화금액</th>\n",
       "      <th>관세율</th>\n",
       "      <th>신고일_1</th>\n",
       "      <th>신고일_2</th>\n",
       "      <th>신고일_3</th>\n",
       "      <th>신고일_4</th>\n",
       "      <th>신고일_5</th>\n",
       "      <th>신고일_6</th>\n",
       "      <th>신고일_7</th>\n",
       "      <th>...</th>\n",
       "      <th>관세율구분코드_25</th>\n",
       "      <th>관세율구분코드_26</th>\n",
       "      <th>관세율구분코드_27</th>\n",
       "      <th>관세율구분코드_28</th>\n",
       "      <th>관세율구분코드_29</th>\n",
       "      <th>관세율구분코드_30</th>\n",
       "      <th>관세율구분코드_31</th>\n",
       "      <th>관세율구분코드_32</th>\n",
       "      <th>관세율구분코드_33</th>\n",
       "      <th>관세율구분코드_34</th>\n",
       "    </tr>\n",
       "  </thead>\n",
       "  <tbody>\n",
       "    <tr>\n",
       "      <th>0</th>\n",
       "      <td>-0.16903</td>\n",
       "      <td>-0.923768</td>\n",
       "      <td>0.562666</td>\n",
       "      <td>0.0</td>\n",
       "      <td>0.0</td>\n",
       "      <td>0.0</td>\n",
       "      <td>0.0</td>\n",
       "      <td>0.0</td>\n",
       "      <td>0.0</td>\n",
       "      <td>0.0</td>\n",
       "      <td>...</td>\n",
       "      <td>0.0</td>\n",
       "      <td>0.0</td>\n",
       "      <td>0.0</td>\n",
       "      <td>0.0</td>\n",
       "      <td>0.0</td>\n",
       "      <td>0.0</td>\n",
       "      <td>0.0</td>\n",
       "      <td>0.0</td>\n",
       "      <td>0.0</td>\n",
       "      <td>0.0</td>\n",
       "    </tr>\n",
       "  </tbody>\n",
       "</table>\n",
       "<p>1 rows × 8142 columns</p>\n",
       "</div>"
      ],
      "text/plain": [
       "   신고중량(KG)  과세가격원화금액       관세율  신고일_1  신고일_2  신고일_3  신고일_4  신고일_5  신고일_6  \\\n",
       "0  -0.16903 -0.923768  0.562666    0.0    0.0    0.0    0.0    0.0    0.0   \n",
       "\n",
       "   신고일_7  ...  관세율구분코드_25  관세율구분코드_26  관세율구분코드_27  관세율구분코드_28  관세율구분코드_29  \\\n",
       "0    0.0  ...         0.0         0.0         0.0         0.0         0.0   \n",
       "\n",
       "   관세율구분코드_30  관세율구분코드_31  관세율구분코드_32  관세율구분코드_33  관세율구분코드_34  \n",
       "0         0.0         0.0         0.0         0.0         0.0  \n",
       "\n",
       "[1 rows x 8142 columns]"
      ]
     },
     "execution_count": 55,
     "metadata": {},
     "output_type": "execute_result"
    }
   ],
   "source": [
    "# 실제 테스트 데이터 샘플 확인\n",
    "df_test.head(1)"
   ]
  },
  {
   "cell_type": "code",
   "execution_count": 56,
   "metadata": {},
   "outputs": [
    {
     "name": "stdout",
     "output_type": "stream",
     "text": [
      "훈련  데이터 비우범건수: 47461, 훈련  데이터 우범건수: 14008\n",
      "검증 데이터 비우범건수: 11804, 검증 데이터 우범건수: 3564\n"
     ]
    }
   ],
   "source": [
    "# 훈련데이터와 테스트데이터에서 우범건수 비교\n",
    "from collections import Counter\n",
    "cnt_train = Counter(df_train_y)\n",
    "cnt_validation = Counter(df_validation_y)\n",
    "\n",
    "print(f\"훈련  데이터 비우범건수: {cnt_train[0]}, 훈련  데이터 우범건수: {cnt_train[1]}\")\n",
    "print(f\"검증 데이터 비우범건수: {cnt_validation[0]}, 검증 데이터 우범건수: {cnt_validation[1]}\")"
   ]
  },
  {
   "cell_type": "markdown",
   "metadata": {},
   "source": [
    "## 2.4  class imbalance for classification\n",
    "\n",
    "\n",
    "- undersampling 적용 -> 정상 데이터의 수를 줄임으로서 recall의 값을 높이기 위함.\n",
    "\n"
   ]
  },
  {
   "cell_type": "code",
   "execution_count": 57,
   "metadata": {},
   "outputs": [
    {
     "name": "stdout",
     "output_type": "stream",
     "text": [
      "언더샘플링 적용 전 학습용 피처/레이블 데이터 세트:  (61469, 8142) (61469,)\n",
      "언더샘플링 적용 후 학습용 피처/레이블 데이터 세트:  (28016, 8142) (28016,)\n",
      "언더샘플링 적용 후 레이블 값 분포: \n",
      " 1    14008\n",
      "0    14008\n",
      "Name: 우범여부, dtype: int64\n"
     ]
    }
   ],
   "source": [
    "from imblearn.under_sampling import *\n",
    "\n",
    "# train data under sampling - RandomUnderSampling\n",
    "df_X_samp, df_y_samp = RandomUnderSampler(random_state=100).fit_sample(df_train, df_train_y)\n",
    "print('언더샘플링 적용 전 학습용 피처/레이블 데이터 세트: ', df_train.shape, df_train_y.shape)\n",
    "print('언더샘플링 적용 후 학습용 피처/레이블 데이터 세트: ', df_X_samp.shape, df_y_samp.shape)\n",
    "print('언더샘플링 적용 후 레이블 값 분포: \\n', pd.Series(df_y_samp.value_counts()))\n"
   ]
  },
  {
   "cell_type": "markdown",
   "metadata": {},
   "source": [
    "## 3. 모델 생성 및 훈련"
   ]
  },
  {
   "cell_type": "code",
   "execution_count": 58,
   "metadata": {},
   "outputs": [],
   "source": [
    "# XGBoost 모델 생성\n",
    "from xgboost import XGBClassifier\n",
    "from sklearn.metrics import f1_score,roc_auc_score\n",
    "import warnings\n",
    "warnings.filterwarnings(\"ignore\")"
   ]
  },
  {
   "cell_type": "code",
   "execution_count": 59,
   "metadata": {},
   "outputs": [
    {
     "name": "stdout",
     "output_type": "stream",
     "text": [
      "[0]\tvalidation_0-logloss:0.65765\tvalidation_1-logloss:0.66110\n",
      "[1]\tvalidation_0-logloss:0.62169\tvalidation_1-logloss:0.62789\n",
      "[2]\tvalidation_0-logloss:0.59969\tvalidation_1-logloss:0.60916\n",
      "[3]\tvalidation_0-logloss:0.58071\tvalidation_1-logloss:0.59126\n",
      "[4]\tvalidation_0-logloss:0.56826\tvalidation_1-logloss:0.58032\n",
      "[5]\tvalidation_0-logloss:0.55583\tvalidation_1-logloss:0.56893\n",
      "[6]\tvalidation_0-logloss:0.54707\tvalidation_1-logloss:0.56117\n",
      "[7]\tvalidation_0-logloss:0.54154\tvalidation_1-logloss:0.55668\n",
      "[8]\tvalidation_0-logloss:0.53493\tvalidation_1-logloss:0.55207\n",
      "[9]\tvalidation_0-logloss:0.53170\tvalidation_1-logloss:0.54841\n",
      "[10]\tvalidation_0-logloss:0.52725\tvalidation_1-logloss:0.54492\n",
      "[11]\tvalidation_0-logloss:0.52335\tvalidation_1-logloss:0.54235\n",
      "[12]\tvalidation_0-logloss:0.52014\tvalidation_1-logloss:0.54048\n",
      "[13]\tvalidation_0-logloss:0.51654\tvalidation_1-logloss:0.53775\n",
      "[14]\tvalidation_0-logloss:0.51458\tvalidation_1-logloss:0.53699\n",
      "[15]\tvalidation_0-logloss:0.51240\tvalidation_1-logloss:0.53631\n",
      "[16]\tvalidation_0-logloss:0.51170\tvalidation_1-logloss:0.53534\n",
      "[17]\tvalidation_0-logloss:0.51110\tvalidation_1-logloss:0.53501\n",
      "[18]\tvalidation_0-logloss:0.50932\tvalidation_1-logloss:0.53290\n",
      "[19]\tvalidation_0-logloss:0.50752\tvalidation_1-logloss:0.53077\n",
      "[20]\tvalidation_0-logloss:0.50639\tvalidation_1-logloss:0.53034\n",
      "[21]\tvalidation_0-logloss:0.50543\tvalidation_1-logloss:0.53019\n",
      "[22]\tvalidation_0-logloss:0.50422\tvalidation_1-logloss:0.52972\n",
      "[23]\tvalidation_0-logloss:0.50311\tvalidation_1-logloss:0.52897\n",
      "[24]\tvalidation_0-logloss:0.50286\tvalidation_1-logloss:0.52922\n",
      "[25]\tvalidation_0-logloss:0.50223\tvalidation_1-logloss:0.52893\n",
      "[26]\tvalidation_0-logloss:0.50165\tvalidation_1-logloss:0.52847\n",
      "[27]\tvalidation_0-logloss:0.50084\tvalidation_1-logloss:0.52802\n",
      "[28]\tvalidation_0-logloss:0.50070\tvalidation_1-logloss:0.52839\n",
      "[29]\tvalidation_0-logloss:0.49997\tvalidation_1-logloss:0.52766\n",
      "[30]\tvalidation_0-logloss:0.49941\tvalidation_1-logloss:0.52657\n",
      "[31]\tvalidation_0-logloss:0.49930\tvalidation_1-logloss:0.52544\n",
      "[32]\tvalidation_0-logloss:0.49885\tvalidation_1-logloss:0.52587\n",
      "[33]\tvalidation_0-logloss:0.49850\tvalidation_1-logloss:0.52537\n",
      "[34]\tvalidation_0-logloss:0.49835\tvalidation_1-logloss:0.52485\n",
      "[35]\tvalidation_0-logloss:0.49829\tvalidation_1-logloss:0.52394\n",
      "[36]\tvalidation_0-logloss:0.49812\tvalidation_1-logloss:0.52404\n",
      "[37]\tvalidation_0-logloss:0.49803\tvalidation_1-logloss:0.52380\n",
      "[38]\tvalidation_0-logloss:0.49761\tvalidation_1-logloss:0.52360\n",
      "[39]\tvalidation_0-logloss:0.49754\tvalidation_1-logloss:0.52336\n",
      "[40]\tvalidation_0-logloss:0.49715\tvalidation_1-logloss:0.52323\n",
      "[41]\tvalidation_0-logloss:0.49695\tvalidation_1-logloss:0.52397\n",
      "[42]\tvalidation_0-logloss:0.49687\tvalidation_1-logloss:0.52441\n",
      "[43]\tvalidation_0-logloss:0.49634\tvalidation_1-logloss:0.52435\n",
      "[44]\tvalidation_0-logloss:0.49600\tvalidation_1-logloss:0.52415\n",
      "[45]\tvalidation_0-logloss:0.49587\tvalidation_1-logloss:0.52367\n",
      "[46]\tvalidation_0-logloss:0.49588\tvalidation_1-logloss:0.52447\n",
      "[47]\tvalidation_0-logloss:0.49588\tvalidation_1-logloss:0.52490\n",
      "[48]\tvalidation_0-logloss:0.49565\tvalidation_1-logloss:0.52492\n",
      "[49]\tvalidation_0-logloss:0.49565\tvalidation_1-logloss:0.52558\n"
     ]
    },
    {
     "data": {
      "text/plain": [
       "XGBClassifier(base_score=0.5, booster='gbtree', colsample_bylevel=1,\n",
       "              colsample_bynode=1, colsample_bytree=0.4, gamma=10, gpu_id=-1,\n",
       "              importance_type='gain', interaction_constraints='',\n",
       "              learning_rate=0.2, max_delta_step=0, max_depth=7,\n",
       "              min_child_weight=1, missing=nan, monotone_constraints='()',\n",
       "              n_estimators=50, n_jobs=-1, num_parallel_tree=1, random_state=0,\n",
       "              reg_alpha=0, reg_lambda=1, scale_pos_weight=1, subsample=0.6,\n",
       "              tree_method='exact', validate_parameters=1, verbosity=None)"
      ]
     },
     "execution_count": 59,
     "metadata": {},
     "output_type": "execute_result"
    }
   ],
   "source": [
    "# 모델 활성화 및 설정\n",
    "xgb_clf = XGBClassifier(booster='gbtree',scale_pos_weight=1,\n",
    "                        learning_rate=0.2,colsample_bytree = 0.4,\n",
    "                        subsample = 0.6,objective='binary:logistic',\n",
    "                        n_estimators=50,max_depth=7,gamma=10,\n",
    "                        n_jobs=-1) #\n",
    "\n",
    "# 모델 훈련 시 성능평가 데이터 설정 (별도의 성능평가 데이터를 구성할 수도 있으나, 여기서는 그냥 테스트데이터를 사용)\n",
    "eval_set = [(df_X_samp, df_y_samp), (df_validation, df_validation_y)]\n",
    "# 모델 훈련 (training/fitting)\n",
    "xgb_clf.fit(df_X_samp, df_y_samp, eval_metric=[\"logloss\"], eval_set=eval_set, verbose=True)"
   ]
  },
  {
   "cell_type": "code",
   "execution_count": 60,
   "metadata": {},
   "outputs": [
    {
     "data": {
      "image/png": "[encoded data removed]",
      "text/plain": [
       "<Figure size 432x288 with 1 Axes>"
      ]
     },
     "metadata": {
      "needs_background": "light"
     },
     "output_type": "display_data"
    }
   ],
   "source": [
    "# 모델 성능 시각화\n",
    "\n",
    "from matplotlib import pyplot\n",
    "# retrieve performance metrics\n",
    "results = xgb_clf.evals_result()\n",
    "epochs = len(results['validation_0']['logloss'])\n",
    "x_axis = range(0, epochs)\n",
    "# plot log loss\n",
    "fig, ax = pyplot.subplots()\n",
    "ax.plot(x_axis, results['validation_0']['logloss'], label='Train')\n",
    "ax.plot(x_axis, results['validation_1']['logloss'], label='Validation')\n",
    "ax.legend()\n",
    "pyplot.ylabel('Log Loss')\n",
    "pyplot.title('XGBoost Log Loss')\n",
    "#pyplot.show()\n",
    "plt.savefig('XGBoost Log Loss.png')"
   ]
  },
  {
   "cell_type": "markdown",
   "metadata": {},
   "source": [
    "## 4. 우범화물 예측 및 모델 성능 평가"
   ]
  },
  {
   "cell_type": "markdown",
   "metadata": {},
   "source": [
    "## 4.1 roc_auc_score"
   ]
  },
  {
   "cell_type": "code",
   "execution_count": 61,
   "metadata": {
    "scrolled": false
   },
   "outputs": [
    {
     "name": "stdout",
     "output_type": "stream",
     "text": [
      "------Evaluating xgboost model------\n",
      "0.8249171322776315\n"
     ]
    }
   ],
   "source": [
    "# evaluate xgboost model\n",
    "print(\"------Evaluating xgboost model------\")\n",
    "# Predict probability\n",
    "test_pred = xgb_clf.predict_proba(df_validation)[:,1]\n",
    "# Calculate auc\n",
    "xgb_auc = roc_auc_score(df_validation_y, test_pred)\n",
    "print(xgb_auc)"
   ]
  },
  {
   "cell_type": "markdown",
   "metadata": {},
   "source": [
    "## 4.2 f1 score"
   ]
  },
  {
   "cell_type": "code",
   "execution_count": 62,
   "metadata": {},
   "outputs": [
    {
     "name": "stdout",
     "output_type": "stream",
     "text": [
      "------Evaluating xgboost model------\n",
      "              precision    recall  f1-score   support\n",
      "\n",
      "           0       0.92      0.72      0.81     11804\n",
      "           1       0.46      0.79      0.58      3564\n",
      "\n",
      "    accuracy                           0.73     15368\n",
      "   macro avg       0.69      0.76      0.69     15368\n",
      "weighted avg       0.81      0.73      0.75     15368\n",
      "\n",
      "f1 score : 0.5809298983885867\n"
     ]
    }
   ],
   "source": [
    "from sklearn.metrics import classification_report, accuracy_score\n",
    "# evaluate xgboost model\n",
    "print(\"------Evaluating xgboost model------\")\n",
    "# Predict label\n",
    "test_pred = xgb_clf.predict(df_validation)\n",
    "\n",
    "# Calculate f1 score\n",
    "print(classification_report(df_validation_y, test_pred))\n",
    "f1 = f1_score(df_validation_y, test_pred)\n",
    "print('f1 score : {}'.format(f1))"
   ]
  },
  {
   "cell_type": "code",
   "execution_count": 63,
   "metadata": {},
   "outputs": [],
   "source": [
    "# 검사율에 따른 우범예측 함수 생성\n",
    "\n",
    "def inspection_performance(predicted_fraud, test_fraud):\n",
    "    \n",
    "    # Set default values before a loop\n",
    "    \n",
    "    Inspect_Rate = []\n",
    "    Precision=[]\n",
    "    Recall=[]\n",
    "    \n",
    "    # Create a loop for making confusion matrix at each inspection rate\n",
    "\n",
    "    for i in range(0,101,1):\n",
    "        \n",
    "        # Find the ith value in ascending order.\n",
    "        threshold = np.percentile(predicted_fraud, i)\n",
    "        # Precision = number of frauds / number of inspection\n",
    "        precision = np.mean(test_fraud[predicted_fraud >= threshold])\n",
    "        # Recall = number of inspected frauds / number of frauds\n",
    "        recall = sum(test_fraud[predicted_fraud >= threshold])/sum(test_fraud)\n",
    "        # Save values\n",
    "        Inspect_Rate.append(100-i)\n",
    "        Precision.append(precision)\n",
    "        Recall.append(recall)\n",
    "        \n",
    "    \n",
    "    compiled_conf_matrix = pd.DataFrame({\n",
    "        \n",
    "        'Inspect_Rate':Inspect_Rate,\n",
    "        'Precision':Precision,\n",
    "        'Recall':Recall\n",
    "    })\n",
    "\n",
    "    return compiled_conf_matrix"
   ]
  },
  {
   "cell_type": "code",
   "execution_count": 64,
   "metadata": {},
   "outputs": [],
   "source": [
    "# 검사율에 따른 우범예측 \n",
    "basic_performance = inspection_performance(test_pred, df_validation_y.astype(float))"
   ]
  },
  {
   "cell_type": "code",
   "execution_count": 65,
   "metadata": {},
   "outputs": [
    {
     "data": {
      "text/html": [
       "<div>\n",
       "<style scoped>\n",
       "    .dataframe tbody tr th:only-of-type {\n",
       "        vertical-align: middle;\n",
       "    }\n",
       "\n",
       "    .dataframe tbody tr th {\n",
       "        vertical-align: top;\n",
       "    }\n",
       "\n",
       "    .dataframe thead th {\n",
       "        text-align: right;\n",
       "    }\n",
       "</style>\n",
       "<table border=\"1\" class=\"dataframe\">\n",
       "  <thead>\n",
       "    <tr style=\"text-align: right;\">\n",
       "      <th></th>\n",
       "      <th>Inspect_Rate</th>\n",
       "      <th>Precision</th>\n",
       "      <th>Recall</th>\n",
       "    </tr>\n",
       "  </thead>\n",
       "  <tbody>\n",
       "    <tr>\n",
       "      <th>99</th>\n",
       "      <td>1</td>\n",
       "      <td>0.458003</td>\n",
       "      <td>0.794052</td>\n",
       "    </tr>\n",
       "    <tr>\n",
       "      <th>98</th>\n",
       "      <td>2</td>\n",
       "      <td>0.458003</td>\n",
       "      <td>0.794052</td>\n",
       "    </tr>\n",
       "    <tr>\n",
       "      <th>97</th>\n",
       "      <td>3</td>\n",
       "      <td>0.458003</td>\n",
       "      <td>0.794052</td>\n",
       "    </tr>\n",
       "    <tr>\n",
       "      <th>96</th>\n",
       "      <td>4</td>\n",
       "      <td>0.458003</td>\n",
       "      <td>0.794052</td>\n",
       "    </tr>\n",
       "    <tr>\n",
       "      <th>95</th>\n",
       "      <td>5</td>\n",
       "      <td>0.458003</td>\n",
       "      <td>0.794052</td>\n",
       "    </tr>\n",
       "    <tr>\n",
       "      <th>94</th>\n",
       "      <td>6</td>\n",
       "      <td>0.458003</td>\n",
       "      <td>0.794052</td>\n",
       "    </tr>\n",
       "    <tr>\n",
       "      <th>93</th>\n",
       "      <td>7</td>\n",
       "      <td>0.458003</td>\n",
       "      <td>0.794052</td>\n",
       "    </tr>\n",
       "    <tr>\n",
       "      <th>92</th>\n",
       "      <td>8</td>\n",
       "      <td>0.458003</td>\n",
       "      <td>0.794052</td>\n",
       "    </tr>\n",
       "    <tr>\n",
       "      <th>91</th>\n",
       "      <td>9</td>\n",
       "      <td>0.458003</td>\n",
       "      <td>0.794052</td>\n",
       "    </tr>\n",
       "    <tr>\n",
       "      <th>90</th>\n",
       "      <td>10</td>\n",
       "      <td>0.458003</td>\n",
       "      <td>0.794052</td>\n",
       "    </tr>\n",
       "  </tbody>\n",
       "</table>\n",
       "</div>"
      ],
      "text/plain": [
       "    Inspect_Rate  Precision    Recall\n",
       "99             1   0.458003  0.794052\n",
       "98             2   0.458003  0.794052\n",
       "97             3   0.458003  0.794052\n",
       "96             4   0.458003  0.794052\n",
       "95             5   0.458003  0.794052\n",
       "94             6   0.458003  0.794052\n",
       "93             7   0.458003  0.794052\n",
       "92             8   0.458003  0.794052\n",
       "91             9   0.458003  0.794052\n",
       "90            10   0.458003  0.794052"
      ]
     },
     "execution_count": 65,
     "metadata": {},
     "output_type": "execute_result"
    }
   ],
   "source": [
    "# 검사율 1~10% 지정 시 Precision 및 Recall 분석\n",
    "# Precision (적중률) = (검사선별된 우범건수)/(검사선별 건수)\n",
    "# Recall (적발률) = (검사선별된 우범건수) / (전체 우범건수)\n",
    "basic_performance.iloc[range(99,89,-1),:]"
   ]
  },
  {
   "cell_type": "code",
   "execution_count": 66,
   "metadata": {},
   "outputs": [
    {
     "data": {
      "image/png": "[encoded data removed]",
      "text/plain": [
       "<Figure size 796.625x360 with 2 Axes>"
      ]
     },
     "metadata": {
      "needs_background": "light"
     },
     "output_type": "display_data"
    }
   ],
   "source": [
    "# 검사선별률에 따른 적중률 및 적발률 시각화\n",
    "data = pd.melt(basic_performance, \n",
    "               id_vars = ['Inspect_Rate'],\n",
    "               value_vars = ['Recall','Precision'])\n",
    "\n",
    "sns.relplot(data=data,\n",
    "            kind='line',\n",
    "            x=\"Inspect_Rate\", \n",
    "            y=\"value\", \n",
    "            hue='variable',\n",
    "            col=\"variable\")\n",
    "plt.savefig('recall & precision.png')\n"
   ]
  },
  {
   "cell_type": "code",
   "execution_count": 67,
   "metadata": {
    "scrolled": false
   },
   "outputs": [
    {
     "data": {
      "image/png": "[encoded data removed]",
      "text/plain": [
       "<Figure size 1080x720 with 1 Axes>"
      ]
     },
     "metadata": {
      "needs_background": "light"
     },
     "output_type": "display_data"
    }
   ],
   "source": [
    "# 모델에 기여도가 높은 변수 시각화\n",
    "from xgboost import plot_importance\n",
    "plt.rcParams[\"font.family\"] = 'NanumGothicOTF'\n",
    "plt.rcParams[\"figure.figsize\"] = (15,10)\n",
    "plot_importance(xgb_clf, max_num_features=30)\n",
    "plt.show()"
   ]
  },
  {
   "cell_type": "markdown",
   "metadata": {},
   "source": [
    "## 5. 제출"
   ]
  },
  {
   "cell_type": "code",
   "execution_count": 68,
   "metadata": {},
   "outputs": [
    {
     "name": "stdout",
     "output_type": "stream",
     "text": [
      "test data 개수 : 23163\n"
     ]
    }
   ],
   "source": [
    "# 실제 예측 test \n",
    "pred_test = xgb_clf.predict(df_test)\n",
    "print('test data 개수 : {}'.format(len(pred_test)))"
   ]
  },
  {
   "cell_type": "code",
   "execution_count": 69,
   "metadata": {},
   "outputs": [],
   "source": [
    "submission = pd.read_excel('./data/submission.xlsx')"
   ]
  },
  {
   "cell_type": "code",
   "execution_count": 70,
   "metadata": {},
   "outputs": [
    {
     "data": {
      "text/plain": [
       "Index(['신고번호', '우범여부'], dtype='object')"
      ]
     },
     "execution_count": 70,
     "metadata": {},
     "output_type": "execute_result"
    }
   ],
   "source": [
    "submission.columns"
   ]
  },
  {
   "cell_type": "code",
   "execution_count": 71,
   "metadata": {},
   "outputs": [],
   "source": [
    "submission['우범여부'] = pred_test\n",
    "submission.to_excel('냥소영과아이들.xlsx', index=False)"
   ]
  }
 ],
 "metadata": {
  "kernelspec": {
   "display_name": "Python 3",
   "language": "python",
   "name": "python3"
  },
  "language_info": {
   "codemirror_mode": {
    "name": "ipython",
    "version": 3
   },
   "file_extension": ".py",
   "mimetype": "text/x-python",
   "name": "python",
   "nbconvert_exporter": "python",
   "pygments_lexer": "ipython3",
   "version": "3.8.5"
  }
 },
 "nbformat": 4,
 "nbformat_minor": 4
}

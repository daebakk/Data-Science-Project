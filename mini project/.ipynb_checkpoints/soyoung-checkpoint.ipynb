{
 "cells": [
  {
   "cell_type": "markdown",
   "metadata": {},
   "source": [
    "# 수입 화물 우범도 예측 모델 개발\n",
    "\n",
    "## 참고사항 0)\n",
    "관세청에서 수입품의 정보를 보고 **우범(불법)인지 아닌지를 예측하는 문제**입니다. 1-12월 데이터가 있는데\n",
    "1-9월을 학습데이터로 사용하고, 10-12월을 평가데이터로 사용합니다.\n",
    "- train.xlsx: 학습 데이터(y값 존재) 1-9월의 데이터로 가장 오른 쪽의 검사결과코드, 우범여부, 핵심적발이 종속변수인데 그 중에서 우 범여부가 우선적으로 예측해야할 target입니다.\n",
    "\n",
    "\n",
    "- test.xlsx: 평가 데이터(y값 없음) 10-12월의 데이터로 3개의 종속변수가 삭제되었습니다.\n",
    "\n",
    "\n",
    "- submission.xlsx: 제출용 평가 sheet 여기 신고번호에 맞게 예측값을 붙여서 제출하시면 됩니다. 단 제출하실 때 파일명을 팀명으로 해주세요.\n",
    "\n",
    "\n",
    "\n",
    "- 우범여부 예측이 1차적인 본 과제의 과업이지만 좀 더 advanced로 가실 분들은 우범여부와 더불어 핵심적발여부도 해보시면 좋을 것 같습니다.\n",
    "\n",
    "\n",
    "- 정상:비정상 비율에서 정상이 훨씬 많은 범주 불균형 문제입니다. 일반적인 2-class 분류기로 접근하면 성능이 낮아질 수 있습니다\n",
    "\n",
    "\n",
    "\n",
    "- 평가지표는 범주 불균형 문제에 맞게 precision, recall, f1 score 이 세가지를 기준으로 보시면 됩니다. 하나의 지표를 기준으로 한다면 f1을 우선적 고려.\n",
    "\n",
    "\n",
    "- 학습 데이터 내에서 validation을 충분히 하셔야 그 모델로 평가 데이터의 class label을 잘 달 수 있다. cross-validation, moving-window 등을 통해서 validation에 신경을 써야한다.\n",
    "\n",
    "\n",
    "\n",
    "## 참고사항 1)\n",
    "\n",
    "신고일자를 여기서는 그냥 string으로 보고 code화를 하잖아요.\n",
    "그래서 데이터 들어오는 순서대로 년-월-일 조합에 대해 숫자코드를 부여하고\n",
    "test data에서 그 조합이 있으면 해당 code를 부여하고 없으면 0을 부여하는.\n",
    "\n",
    "근데 학습:평가 데이터를 날짜를 기준으로 끊은 상황에서\n",
    "저런 방식으로 code화 한 후에 onehot encoding을 한다면 어떤 일이 발생할까요?\n",
    "모든 날짜가 각각 1개의 변수화가 되면서 변수는 많이 낭비하는 반면\n",
    "test data는 \"그 후의 날짜\" 데이터만 들어오기 때문에\n",
    "학습 데이터에 있지 않은 값, 그러니까 모두 0값이 부여되겠죠.\n",
    "\n",
    "학습 데이터로 변수의 특성을 찾아 이럴 때 y값이 어떻게 돼,\n",
    "그러니까 test data에서도 그 변수가 이런 특성이면 마찬가지로 y는 이거일거야, 라는 결론을 얻고 싶은데\n",
    "애시당초 test data에는 학습 데이터에 존재하지 않는 값(0)만 들어올테니까\n",
    "다소 의문이 드는 전처리라고 생각됩니다.\n",
    "(만약 int로 그냥 처리했다면? 추울때/더울때 같이 기준을 잡아 binarize 했다면?)\n",
    "\n",
    "제가 전처리 강의에서 설명했듯이 이 raw variable에서 어떤 의미있는 값을 뽑아낼까,\n",
    "이 변수의 어떤 정보가 y에 영향을 줄까에 대한 가설을 설정하고\n",
    "그걸 변수화해서 표현하는 것이 중요합니다.\n",
    "날짜는 날짜답게 encoding하는 시도가 필요하고\n",
    "물론 가설이 다 맞을 수는 없으니 그걸 validation을 잘 하면서 검증해야 합니다.\n",
    "\n",
    "## 참고사항 2)\n",
    "\n",
    "- 신고번호는 unique한 key로 보는게 맞음\n",
    "\n",
    "\n",
    "- 핵심우범 변수: 0정상 1우범 2핵심우범\n",
    "\n",
    "\n",
    "- 검사결과코드에 따라 나름의 점수를 부여한 후 조합하여 threshold를 두고 정상/우범/핵심이 나뉘어짐\n",
    "\n",
    "\n",
    "- 가능하면 핵심에 대한 예측까지 갔으면 좋겠음, 혹은 검사결과코드 기준으로 비중 높은 여러 핵심을 multiclass로 해봐도 좋을 것 같음\n",
    "\n",
    "\n",
    "- 개인적으로는 2-stage model을 생각해보셔도 될 것 같아요. 각각 역할이 다른 모델을 serial하게 엮어서"
   ]
  },
  {
   "cell_type": "markdown",
   "metadata": {},
   "source": [
    "## 0. 기본 모듈 및 함수 import "
   ]
  },
  {
   "cell_type": "code",
   "execution_count": 1,
   "metadata": {},
   "outputs": [],
   "source": [
    "# 모델 구현 시간 체크\n",
    "import time\n",
    "# 시작시간 체크\n",
    "start = time.time()"
   ]
  },
  {
   "cell_type": "code",
   "execution_count": 2,
   "metadata": {},
   "outputs": [],
   "source": [
    "# 패키지 로딩\n",
    "import pickle\n",
    "import pandas as pd\n",
    "import numpy as np\n",
    "import matplotlib.pyplot as plt\n",
    "import seaborn as sns"
   ]
  },
  {
   "cell_type": "code",
   "execution_count": 3,
   "metadata": {},
   "outputs": [
    {
     "name": "stdout",
     "output_type": "stream",
     "text": [
      "['NanumGothic']\n"
     ]
    }
   ],
   "source": [
    "# 한글폰트 적용\n",
    "#plt.rc('font', family='NanumGothicOTF') # For MacOS\n",
    "plt.rc('font', family='NanumGothic') # For Windows\n",
    "print(plt.rcParams['font.family'])\n"
   ]
  },
  {
   "cell_type": "code",
   "execution_count": 4,
   "metadata": {},
   "outputs": [],
   "source": [
    "# 분석 차트 그리는 함수 목록\n",
    "\n",
    "def show_pie_chart(df, col_name):\n",
    "    colname_survived = survived_crosstab(df, col_name)\n",
    "    pie_chart(colname_survived)\n",
    "    return colname_survived\n",
    "\n",
    "def survived_crosstab(df, col_name):\n",
    "    '''col_name과 Survived간의 교차도표 생성'''\n",
    "    feature_survived = pd.crosstab(df[col_name], df['우범여부'])\n",
    "    feature_survived.columns = feature_survived.columns.map({0:\"정상\", 1:\"우범\"})\n",
    "    return feature_survived\n",
    "\n",
    "def pie_chart(feature_survived):\n",
    "    '''\n",
    "    pie_chart 생성\n",
    "    pcol, prow = 차트를 출력할 개수. pcol * prow 만큼의 차트 출력 \n",
    "    '''\n",
    "    frows, fcols = feature_survived.shape\n",
    "    pcol = 3\n",
    "    prow = (frows/pcol + frows%pcol)\n",
    "    plot_height = prow * 2.5\n",
    "    plt.figure(figsize=(8, plot_height))\n",
    "\n",
    "    for row in range(0, frows):\n",
    "        plt.subplot(prow, pcol, row+1)\n",
    "\n",
    "        index_name = feature_survived.index[row]\n",
    "        plt.pie(feature_survived.loc[index_name], labels=feature_survived.loc[index_name].index, autopct='%1.1f%%')\n",
    "        plt.title(\"{0}' 우범\".format(index_name))\n",
    "\n",
    "    plt.show()"
   ]
  },
  {
   "cell_type": "markdown",
   "metadata": {},
   "source": [
    "## 1. 전처리 "
   ]
  },
  {
   "cell_type": "code",
   "execution_count": 5,
   "metadata": {},
   "outputs": [],
   "source": [
    "# 수입 데이터 로딩 (가상데이터)\n",
    "df = pd.read_csv('train.csv')"
   ]
  },
  {
   "cell_type": "code",
   "execution_count": 6,
   "metadata": {
    "scrolled": false
   },
   "outputs": [
    {
     "data": {
      "text/html": [
       "<div>\n",
       "<style scoped>\n",
       "    .dataframe tbody tr th:only-of-type {\n",
       "        vertical-align: middle;\n",
       "    }\n",
       "\n",
       "    .dataframe tbody tr th {\n",
       "        vertical-align: top;\n",
       "    }\n",
       "\n",
       "    .dataframe thead th {\n",
       "        text-align: right;\n",
       "    }\n",
       "</style>\n",
       "<table border=\"1\" class=\"dataframe\">\n",
       "  <thead>\n",
       "    <tr style=\"text-align: right;\">\n",
       "      <th></th>\n",
       "      <th>신고번호</th>\n",
       "      <th>신고일자</th>\n",
       "      <th>통관지세관부호</th>\n",
       "      <th>신고인부호</th>\n",
       "      <th>수입자부호</th>\n",
       "      <th>해외거래처부호</th>\n",
       "      <th>특송업체부호</th>\n",
       "      <th>수입통관계획코드</th>\n",
       "      <th>수입신고구분코드</th>\n",
       "      <th>수입거래구분코드</th>\n",
       "      <th>...</th>\n",
       "      <th>운송수단유형코드</th>\n",
       "      <th>반입보세구역부호</th>\n",
       "      <th>HS10단위부호</th>\n",
       "      <th>적출국가코드</th>\n",
       "      <th>원산지국가코드</th>\n",
       "      <th>관세율구분코드</th>\n",
       "      <th>관세율</th>\n",
       "      <th>검사결과코드</th>\n",
       "      <th>우범여부</th>\n",
       "      <th>핵심적발</th>\n",
       "    </tr>\n",
       "  </thead>\n",
       "  <tbody>\n",
       "    <tr>\n",
       "      <th>0</th>\n",
       "      <td>57298928</td>\n",
       "      <td>2020-01-01</td>\n",
       "      <td>121</td>\n",
       "      <td>2O5A2</td>\n",
       "      <td>82ZHWNL</td>\n",
       "      <td>NaN</td>\n",
       "      <td>TQ18AK</td>\n",
       "      <td>D</td>\n",
       "      <td>B</td>\n",
       "      <td>15</td>\n",
       "      <td>...</td>\n",
       "      <td>10</td>\n",
       "      <td>2106003</td>\n",
       "      <td>8481900000</td>\n",
       "      <td>US</td>\n",
       "      <td>US</td>\n",
       "      <td>A</td>\n",
       "      <td>8.0</td>\n",
       "      <td>N3</td>\n",
       "      <td>1</td>\n",
       "      <td>1</td>\n",
       "    </tr>\n",
       "    <tr>\n",
       "      <th>1</th>\n",
       "      <td>85092852</td>\n",
       "      <td>2020-01-01</td>\n",
       "      <td>30</td>\n",
       "      <td>305K5</td>\n",
       "      <td>5IS70LE</td>\n",
       "      <td>NaN</td>\n",
       "      <td>NaN</td>\n",
       "      <td>C</td>\n",
       "      <td>B</td>\n",
       "      <td>11</td>\n",
       "      <td>...</td>\n",
       "      <td>40</td>\n",
       "      <td>4077010</td>\n",
       "      <td>2106909099</td>\n",
       "      <td>US</td>\n",
       "      <td>US</td>\n",
       "      <td>A</td>\n",
       "      <td>8.0</td>\n",
       "      <td>A</td>\n",
       "      <td>0</td>\n",
       "      <td>0</td>\n",
       "    </tr>\n",
       "    <tr>\n",
       "      <th>2</th>\n",
       "      <td>63014158</td>\n",
       "      <td>2020-01-01</td>\n",
       "      <td>20</td>\n",
       "      <td>CGMT6</td>\n",
       "      <td>GJ5KBL3</td>\n",
       "      <td>R9ZQOG7</td>\n",
       "      <td>NaN</td>\n",
       "      <td>D</td>\n",
       "      <td>B</td>\n",
       "      <td>11</td>\n",
       "      <td>...</td>\n",
       "      <td>40</td>\n",
       "      <td>4077007</td>\n",
       "      <td>6307909000</td>\n",
       "      <td>US</td>\n",
       "      <td>US</td>\n",
       "      <td>A</td>\n",
       "      <td>10.0</td>\n",
       "      <td>A</td>\n",
       "      <td>0</td>\n",
       "      <td>0</td>\n",
       "    </tr>\n",
       "    <tr>\n",
       "      <th>3</th>\n",
       "      <td>40175917</td>\n",
       "      <td>2020-01-01</td>\n",
       "      <td>40</td>\n",
       "      <td>QWUTG</td>\n",
       "      <td>PBYW02T</td>\n",
       "      <td>NaN</td>\n",
       "      <td>NaN</td>\n",
       "      <td>C</td>\n",
       "      <td>B</td>\n",
       "      <td>94</td>\n",
       "      <td>...</td>\n",
       "      <td>40</td>\n",
       "      <td>4077106</td>\n",
       "      <td>6505009090</td>\n",
       "      <td>CN</td>\n",
       "      <td>CN</td>\n",
       "      <td>A</td>\n",
       "      <td>8.0</td>\n",
       "      <td>A</td>\n",
       "      <td>0</td>\n",
       "      <td>0</td>\n",
       "    </tr>\n",
       "    <tr>\n",
       "      <th>4</th>\n",
       "      <td>11602631</td>\n",
       "      <td>2020-01-01</td>\n",
       "      <td>30</td>\n",
       "      <td>0X1CO</td>\n",
       "      <td>MCX0GJB</td>\n",
       "      <td>4Z9PX0Y</td>\n",
       "      <td>NaN</td>\n",
       "      <td>C</td>\n",
       "      <td>B</td>\n",
       "      <td>11</td>\n",
       "      <td>...</td>\n",
       "      <td>40</td>\n",
       "      <td>2006075</td>\n",
       "      <td>6204320000</td>\n",
       "      <td>CN</td>\n",
       "      <td>CN</td>\n",
       "      <td>FCN1</td>\n",
       "      <td>5.2</td>\n",
       "      <td>M1_N1</td>\n",
       "      <td>1</td>\n",
       "      <td>1</td>\n",
       "    </tr>\n",
       "  </tbody>\n",
       "</table>\n",
       "<p>5 rows × 24 columns</p>\n",
       "</div>"
      ],
      "text/plain": [
       "       신고번호        신고일자  통관지세관부호  신고인부호    수입자부호  해외거래처부호  특송업체부호 수입통관계획코드  \\\n",
       "0  57298928  2020-01-01      121  2O5A2  82ZHWNL      NaN  TQ18AK        D   \n",
       "1  85092852  2020-01-01       30  305K5  5IS70LE      NaN     NaN        C   \n",
       "2  63014158  2020-01-01       20  CGMT6  GJ5KBL3  R9ZQOG7     NaN        D   \n",
       "3  40175917  2020-01-01       40  QWUTG  PBYW02T      NaN     NaN        C   \n",
       "4  11602631  2020-01-01       30  0X1CO  MCX0GJB  4Z9PX0Y     NaN        C   \n",
       "\n",
       "  수입신고구분코드  수입거래구분코드  ...  운송수단유형코드  반입보세구역부호    HS10단위부호  적출국가코드  원산지국가코드  \\\n",
       "0        B        15  ...        10   2106003  8481900000      US       US   \n",
       "1        B        11  ...        40   4077010  2106909099      US       US   \n",
       "2        B        11  ...        40   4077007  6307909000      US       US   \n",
       "3        B        94  ...        40   4077106  6505009090      CN       CN   \n",
       "4        B        11  ...        40   2006075  6204320000      CN       CN   \n",
       "\n",
       "   관세율구분코드   관세율 검사결과코드 우범여부 핵심적발  \n",
       "0        A   8.0     N3    1    1  \n",
       "1        A   8.0      A    0    0  \n",
       "2        A  10.0      A    0    0  \n",
       "3        A   8.0      A    0    0  \n",
       "4     FCN1   5.2  M1_N1    1    1  \n",
       "\n",
       "[5 rows x 24 columns]"
      ]
     },
     "execution_count": 6,
     "metadata": {},
     "output_type": "execute_result"
    }
   ],
   "source": [
    "df.head(5)"
   ]
  },
  {
   "cell_type": "code",
   "execution_count": 7,
   "metadata": {},
   "outputs": [
    {
     "data": {
      "text/plain": [
       "(76837, 24)"
      ]
     },
     "execution_count": 7,
     "metadata": {},
     "output_type": "execute_result"
    }
   ],
   "source": [
    "# data size 확인 \n",
    "df.shape"
   ]
  },
  {
   "cell_type": "code",
   "execution_count": 8,
   "metadata": {
    "scrolled": false
   },
   "outputs": [
    {
     "name": "stdout",
     "output_type": "stream",
     "text": [
      "<class 'pandas.core.frame.DataFrame'>\n",
      "RangeIndex: 76837 entries, 0 to 76836\n",
      "Data columns (total 24 columns):\n",
      " #   Column    Non-Null Count  Dtype  \n",
      "---  ------    --------------  -----  \n",
      " 0   신고번호      76837 non-null  int64  \n",
      " 1   신고일자      76837 non-null  object \n",
      " 2   통관지세관부호   76837 non-null  int64  \n",
      " 3   신고인부호     76837 non-null  object \n",
      " 4   수입자부호     76829 non-null  object \n",
      " 5   해외거래처부호   50544 non-null  object \n",
      " 6   특송업체부호    25106 non-null  object \n",
      " 7   수입통관계획코드  76837 non-null  object \n",
      " 8   수입신고구분코드  76837 non-null  object \n",
      " 9   수입거래구분코드  76837 non-null  int64  \n",
      " 10  수입종류코드    76837 non-null  int64  \n",
      " 11  징수형태코드    76837 non-null  int64  \n",
      " 12  신고중량(KG)  76837 non-null  float64\n",
      " 13  과세가격원화금액  76837 non-null  float64\n",
      " 14  운송수단유형코드  76837 non-null  int64  \n",
      " 15  반입보세구역부호  76837 non-null  int64  \n",
      " 16  HS10단위부호  76837 non-null  int64  \n",
      " 17  적출국가코드    76837 non-null  object \n",
      " 18  원산지국가코드   76837 non-null  object \n",
      " 19  관세율구분코드   76837 non-null  object \n",
      " 20  관세율       76837 non-null  float64\n",
      " 21  검사결과코드    76837 non-null  object \n",
      " 22  우범여부      76837 non-null  int64  \n",
      " 23  핵심적발      76837 non-null  int64  \n",
      "dtypes: float64(3), int64(10), object(11)\n",
      "memory usage: 14.1+ MB\n"
     ]
    }
   ],
   "source": [
    "# 전반적인 data 확인\n",
    "df.info()"
   ]
  },
  {
   "cell_type": "markdown",
   "metadata": {},
   "source": [
    "### 정상 및 우범 비율 "
   ]
  },
  {
   "cell_type": "code",
   "execution_count": 9,
   "metadata": {},
   "outputs": [
    {
     "name": "stdout",
     "output_type": "stream",
     "text": [
      "우범 : 정상\n",
      "1 :  3\n"
     ]
    }
   ],
   "source": [
    "crime = np.sum(df['우범여부'] == 1) \n",
    "normal = np.sum(df['우범여부'] == 0)\n",
    "\n",
    "print('우범 : 정상')\n",
    "print(\"{} :  {}\".format(1,round(normal / crime)))"
   ]
  },
  {
   "cell_type": "markdown",
   "metadata": {},
   "source": [
    "### 수입신고구분코드\n",
    "\n",
    "- 수입신고구분코드와 우범여부와의 관계를 알아본다\n"
   ]
  },
  {
   "cell_type": "code",
   "execution_count": 10,
   "metadata": {
    "scrolled": true
   },
   "outputs": [
    {
     "name": "stderr",
     "output_type": "stream",
     "text": [
      "<ipython-input-4-ce1c551bc529>:26: MatplotlibDeprecationWarning: Passing non-integers as three-element position specification is deprecated since 3.3 and will be removed two minor releases later.\n",
      "  plt.subplot(prow, pcol, row+1)\n"
     ]
    },
    {
     "data": {
      "image/png": "[encoded data removed]",
      "text/plain": [
       "<Figure size 576x420 with 4 Axes>"
      ]
     },
     "metadata": {},
     "output_type": "display_data"
    },
    {
     "data": {
      "text/html": [
       "<div>\n",
       "<style scoped>\n",
       "    .dataframe tbody tr th:only-of-type {\n",
       "        vertical-align: middle;\n",
       "    }\n",
       "\n",
       "    .dataframe tbody tr th {\n",
       "        vertical-align: top;\n",
       "    }\n",
       "\n",
       "    .dataframe thead th {\n",
       "        text-align: right;\n",
       "    }\n",
       "</style>\n",
       "<table border=\"1\" class=\"dataframe\">\n",
       "  <thead>\n",
       "    <tr style=\"text-align: right;\">\n",
       "      <th>우범여부</th>\n",
       "      <th>정상</th>\n",
       "      <th>우범</th>\n",
       "    </tr>\n",
       "    <tr>\n",
       "      <th>수입신고구분코드</th>\n",
       "      <th></th>\n",
       "      <th></th>\n",
       "    </tr>\n",
       "  </thead>\n",
       "  <tbody>\n",
       "    <tr>\n",
       "      <th>A</th>\n",
       "      <td>713</td>\n",
       "      <td>131</td>\n",
       "    </tr>\n",
       "    <tr>\n",
       "      <th>B</th>\n",
       "      <td>56729</td>\n",
       "      <td>15616</td>\n",
       "    </tr>\n",
       "    <tr>\n",
       "      <th>D</th>\n",
       "      <td>1037</td>\n",
       "      <td>1038</td>\n",
       "    </tr>\n",
       "    <tr>\n",
       "      <th>E</th>\n",
       "      <td>786</td>\n",
       "      <td>787</td>\n",
       "    </tr>\n",
       "  </tbody>\n",
       "</table>\n",
       "</div>"
      ],
      "text/plain": [
       "우범여부         정상     우범\n",
       "수입신고구분코드              \n",
       "A           713    131\n",
       "B         56729  15616\n",
       "D          1037   1038\n",
       "E           786    787"
      ]
     },
     "execution_count": 10,
     "metadata": {},
     "output_type": "execute_result"
    }
   ],
   "source": [
    "c = show_pie_chart(df, '수입신고구분코드')\n",
    "c"
   ]
  },
  {
   "cell_type": "markdown",
   "metadata": {},
   "source": [
    "### 수입종류코드"
   ]
  },
  {
   "cell_type": "code",
   "execution_count": 11,
   "metadata": {},
   "outputs": [
    {
     "name": "stderr",
     "output_type": "stream",
     "text": [
      "<ipython-input-4-ce1c551bc529>:26: MatplotlibDeprecationWarning: Passing non-integers as three-element position specification is deprecated since 3.3 and will be removed two minor releases later.\n",
      "  plt.subplot(prow, pcol, row+1)\n"
     ]
    },
    {
     "data": {
      "image/png": "[encoded data removed]",
      "text/plain": [
       "<Figure size 576x780 with 10 Axes>"
      ]
     },
     "metadata": {},
     "output_type": "display_data"
    },
    {
     "data": {
      "text/html": [
       "<div>\n",
       "<style scoped>\n",
       "    .dataframe tbody tr th:only-of-type {\n",
       "        vertical-align: middle;\n",
       "    }\n",
       "\n",
       "    .dataframe tbody tr th {\n",
       "        vertical-align: top;\n",
       "    }\n",
       "\n",
       "    .dataframe thead th {\n",
       "        text-align: right;\n",
       "    }\n",
       "</style>\n",
       "<table border=\"1\" class=\"dataframe\">\n",
       "  <thead>\n",
       "    <tr style=\"text-align: right;\">\n",
       "      <th>우범여부</th>\n",
       "      <th>정상</th>\n",
       "      <th>우범</th>\n",
       "    </tr>\n",
       "    <tr>\n",
       "      <th>수입종류코드</th>\n",
       "      <th></th>\n",
       "      <th></th>\n",
       "    </tr>\n",
       "  </thead>\n",
       "  <tbody>\n",
       "    <tr>\n",
       "      <th>11</th>\n",
       "      <td>4893</td>\n",
       "      <td>687</td>\n",
       "    </tr>\n",
       "    <tr>\n",
       "      <th>12</th>\n",
       "      <td>32</td>\n",
       "      <td>76</td>\n",
       "    </tr>\n",
       "    <tr>\n",
       "      <th>13</th>\n",
       "      <td>7</td>\n",
       "      <td>21</td>\n",
       "    </tr>\n",
       "    <tr>\n",
       "      <th>14</th>\n",
       "      <td>9</td>\n",
       "      <td>16</td>\n",
       "    </tr>\n",
       "    <tr>\n",
       "      <th>15</th>\n",
       "      <td>26</td>\n",
       "      <td>73</td>\n",
       "    </tr>\n",
       "    <tr>\n",
       "      <th>21</th>\n",
       "      <td>53827</td>\n",
       "      <td>16032</td>\n",
       "    </tr>\n",
       "    <tr>\n",
       "      <th>23</th>\n",
       "      <td>26</td>\n",
       "      <td>70</td>\n",
       "    </tr>\n",
       "    <tr>\n",
       "      <th>26</th>\n",
       "      <td>402</td>\n",
       "      <td>503</td>\n",
       "    </tr>\n",
       "    <tr>\n",
       "      <th>27</th>\n",
       "      <td>9</td>\n",
       "      <td>24</td>\n",
       "    </tr>\n",
       "    <tr>\n",
       "      <th>28</th>\n",
       "      <td>34</td>\n",
       "      <td>70</td>\n",
       "    </tr>\n",
       "  </tbody>\n",
       "</table>\n",
       "</div>"
      ],
      "text/plain": [
       "우범여부       정상     우범\n",
       "수입종류코드              \n",
       "11       4893    687\n",
       "12         32     76\n",
       "13          7     21\n",
       "14          9     16\n",
       "15         26     73\n",
       "21      53827  16032\n",
       "23         26     70\n",
       "26        402    503\n",
       "27          9     24\n",
       "28         34     70"
      ]
     },
     "execution_count": 11,
     "metadata": {},
     "output_type": "execute_result"
    }
   ],
   "source": [
    "c = show_pie_chart(df, '수입종류코드')\n",
    "c"
   ]
  },
  {
   "cell_type": "markdown",
   "metadata": {},
   "source": [
    "\n",
    "- 일반수입 Grouping"
   ]
  },
  {
   "cell_type": "code",
   "execution_count": 12,
   "metadata": {
    "scrolled": false
   },
   "outputs": [],
   "source": [
    "frows, fcols = df.shape\n",
    "\n",
    "# 수입종류 번호가 일반수입(코드 11, 21)인 것만 그룹(1) 처리\n",
    "for row in range(0, frows):\n",
    "    if df.loc[row, '수입종류코드'] in [11, 21]:\n",
    "        df.loc[row, '수입종류코드'] = 1"
   ]
  },
  {
   "cell_type": "code",
   "execution_count": 13,
   "metadata": {
    "scrolled": true
   },
   "outputs": [
    {
     "name": "stderr",
     "output_type": "stream",
     "text": [
      "<ipython-input-4-ce1c551bc529>:26: MatplotlibDeprecationWarning: Passing non-integers as three-element position specification is deprecated since 3.3 and will be removed two minor releases later.\n",
      "  plt.subplot(prow, pcol, row+1)\n"
     ]
    },
    {
     "data": {
      "image/png": "[encoded data removed]",
      "text/plain": [
       "<Figure size 576x540 with 9 Axes>"
      ]
     },
     "metadata": {},
     "output_type": "display_data"
    },
    {
     "data": {
      "text/html": [
       "<div>\n",
       "<style scoped>\n",
       "    .dataframe tbody tr th:only-of-type {\n",
       "        vertical-align: middle;\n",
       "    }\n",
       "\n",
       "    .dataframe tbody tr th {\n",
       "        vertical-align: top;\n",
       "    }\n",
       "\n",
       "    .dataframe thead th {\n",
       "        text-align: right;\n",
       "    }\n",
       "</style>\n",
       "<table border=\"1\" class=\"dataframe\">\n",
       "  <thead>\n",
       "    <tr style=\"text-align: right;\">\n",
       "      <th>우범여부</th>\n",
       "      <th>정상</th>\n",
       "      <th>우범</th>\n",
       "    </tr>\n",
       "    <tr>\n",
       "      <th>수입종류코드</th>\n",
       "      <th></th>\n",
       "      <th></th>\n",
       "    </tr>\n",
       "  </thead>\n",
       "  <tbody>\n",
       "    <tr>\n",
       "      <th>1</th>\n",
       "      <td>58720</td>\n",
       "      <td>16719</td>\n",
       "    </tr>\n",
       "    <tr>\n",
       "      <th>12</th>\n",
       "      <td>32</td>\n",
       "      <td>76</td>\n",
       "    </tr>\n",
       "    <tr>\n",
       "      <th>13</th>\n",
       "      <td>7</td>\n",
       "      <td>21</td>\n",
       "    </tr>\n",
       "    <tr>\n",
       "      <th>14</th>\n",
       "      <td>9</td>\n",
       "      <td>16</td>\n",
       "    </tr>\n",
       "    <tr>\n",
       "      <th>15</th>\n",
       "      <td>26</td>\n",
       "      <td>73</td>\n",
       "    </tr>\n",
       "    <tr>\n",
       "      <th>23</th>\n",
       "      <td>26</td>\n",
       "      <td>70</td>\n",
       "    </tr>\n",
       "    <tr>\n",
       "      <th>26</th>\n",
       "      <td>402</td>\n",
       "      <td>503</td>\n",
       "    </tr>\n",
       "    <tr>\n",
       "      <th>27</th>\n",
       "      <td>9</td>\n",
       "      <td>24</td>\n",
       "    </tr>\n",
       "    <tr>\n",
       "      <th>28</th>\n",
       "      <td>34</td>\n",
       "      <td>70</td>\n",
       "    </tr>\n",
       "  </tbody>\n",
       "</table>\n",
       "</div>"
      ],
      "text/plain": [
       "우범여부       정상     우범\n",
       "수입종류코드              \n",
       "1       58720  16719\n",
       "12         32     76\n",
       "13          7     21\n",
       "14          9     16\n",
       "15         26     73\n",
       "23         26     70\n",
       "26        402    503\n",
       "27          9     24\n",
       "28         34     70"
      ]
     },
     "execution_count": 13,
     "metadata": {},
     "output_type": "execute_result"
    }
   ],
   "source": [
    "c = show_pie_chart(df, '수입종류코드')\n",
    "c"
   ]
  },
  {
   "cell_type": "markdown",
   "metadata": {},
   "source": [
    "- 보세공장 관련"
   ]
  },
  {
   "cell_type": "code",
   "execution_count": 14,
   "metadata": {},
   "outputs": [],
   "source": [
    "# 수입종류-보세공장관련(코드 12, 13, 27, 28)  컬럼 추가, 관련되어있을 경우 1\n",
    "mycol = df['수입종류코드'].values\n",
    "df['보세공장관련'] = mycol\n",
    "\n",
    "for row in range(0, frows):\n",
    "    if df.loc[row, '수입종류코드'] in [12, 13, 27, 28]:\n",
    "        df.loc[row, '보세공장관련'] = 1\n",
    "    else:\n",
    "        df.loc[row, '보세공장관련'] = 0"
   ]
  },
  {
   "cell_type": "code",
   "execution_count": 15,
   "metadata": {
    "scrolled": true
   },
   "outputs": [
    {
     "name": "stderr",
     "output_type": "stream",
     "text": [
      "<ipython-input-4-ce1c551bc529>:26: MatplotlibDeprecationWarning: Passing non-integers as three-element position specification is deprecated since 3.3 and will be removed two minor releases later.\n",
      "  plt.subplot(prow, pcol, row+1)\n"
     ]
    },
    {
     "data": {
      "image/png": "[encoded data removed]",
      "text/plain": [
       "<Figure size 576x480 with 2 Axes>"
      ]
     },
     "metadata": {},
     "output_type": "display_data"
    },
    {
     "data": {
      "text/html": [
       "<div>\n",
       "<style scoped>\n",
       "    .dataframe tbody tr th:only-of-type {\n",
       "        vertical-align: middle;\n",
       "    }\n",
       "\n",
       "    .dataframe tbody tr th {\n",
       "        vertical-align: top;\n",
       "    }\n",
       "\n",
       "    .dataframe thead th {\n",
       "        text-align: right;\n",
       "    }\n",
       "</style>\n",
       "<table border=\"1\" class=\"dataframe\">\n",
       "  <thead>\n",
       "    <tr style=\"text-align: right;\">\n",
       "      <th>우범여부</th>\n",
       "      <th>정상</th>\n",
       "      <th>우범</th>\n",
       "    </tr>\n",
       "    <tr>\n",
       "      <th>보세공장관련</th>\n",
       "      <th></th>\n",
       "      <th></th>\n",
       "    </tr>\n",
       "  </thead>\n",
       "  <tbody>\n",
       "    <tr>\n",
       "      <th>0</th>\n",
       "      <td>59183</td>\n",
       "      <td>17381</td>\n",
       "    </tr>\n",
       "    <tr>\n",
       "      <th>1</th>\n",
       "      <td>82</td>\n",
       "      <td>191</td>\n",
       "    </tr>\n",
       "  </tbody>\n",
       "</table>\n",
       "</div>"
      ],
      "text/plain": [
       "우범여부       정상     우범\n",
       "보세공장관련              \n",
       "0       59183  17381\n",
       "1          82    191"
      ]
     },
     "execution_count": 15,
     "metadata": {},
     "output_type": "execute_result"
    }
   ],
   "source": [
    "c = show_pie_chart(df, '보세공장관련')\n",
    "c"
   ]
  },
  {
   "cell_type": "markdown",
   "metadata": {},
   "source": [
    " - 자유무역 관련"
   ]
  },
  {
   "cell_type": "code",
   "execution_count": 16,
   "metadata": {},
   "outputs": [],
   "source": [
    "# 수입종류-자유무역관련(코드 14, 15, 27, 18)  컬럼 추가, 관련되어있을 경우 1\n",
    "mycol = df['수입종류코드'].values\n",
    "df['자유무역관련'] = mycol\n",
    "\n",
    "for row in range(0, frows):\n",
    "    if df.loc[row, '수입종류코드'] in [14, 15, 27, 28]:\n",
    "        df.loc[row, '자유무역관련'] = 1\n",
    "    else:\n",
    "        df.loc[row, '자유무역관련'] = 0"
   ]
  },
  {
   "cell_type": "code",
   "execution_count": 17,
   "metadata": {
    "scrolled": false
   },
   "outputs": [
    {
     "name": "stderr",
     "output_type": "stream",
     "text": [
      "<ipython-input-4-ce1c551bc529>:26: MatplotlibDeprecationWarning: Passing non-integers as three-element position specification is deprecated since 3.3 and will be removed two minor releases later.\n",
      "  plt.subplot(prow, pcol, row+1)\n"
     ]
    },
    {
     "data": {
      "image/png": "[encoded data removed]",
      "text/plain": [
       "<Figure size 576x480 with 2 Axes>"
      ]
     },
     "metadata": {},
     "output_type": "display_data"
    },
    {
     "data": {
      "text/html": [
       "<div>\n",
       "<style scoped>\n",
       "    .dataframe tbody tr th:only-of-type {\n",
       "        vertical-align: middle;\n",
       "    }\n",
       "\n",
       "    .dataframe tbody tr th {\n",
       "        vertical-align: top;\n",
       "    }\n",
       "\n",
       "    .dataframe thead th {\n",
       "        text-align: right;\n",
       "    }\n",
       "</style>\n",
       "<table border=\"1\" class=\"dataframe\">\n",
       "  <thead>\n",
       "    <tr style=\"text-align: right;\">\n",
       "      <th>우범여부</th>\n",
       "      <th>정상</th>\n",
       "      <th>우범</th>\n",
       "    </tr>\n",
       "    <tr>\n",
       "      <th>자유무역관련</th>\n",
       "      <th></th>\n",
       "      <th></th>\n",
       "    </tr>\n",
       "  </thead>\n",
       "  <tbody>\n",
       "    <tr>\n",
       "      <th>0</th>\n",
       "      <td>59187</td>\n",
       "      <td>17389</td>\n",
       "    </tr>\n",
       "    <tr>\n",
       "      <th>1</th>\n",
       "      <td>78</td>\n",
       "      <td>183</td>\n",
       "    </tr>\n",
       "  </tbody>\n",
       "</table>\n",
       "</div>"
      ],
      "text/plain": [
       "우범여부       정상     우범\n",
       "자유무역관련              \n",
       "0       59187  17389\n",
       "1          78    183"
      ]
     },
     "execution_count": 17,
     "metadata": {},
     "output_type": "execute_result"
    }
   ],
   "source": [
    "c = show_pie_chart(df, '자유무역관련')\n",
    "c"
   ]
  },
  {
   "cell_type": "markdown",
   "metadata": {},
   "source": [
    "### 원산지국가코드"
   ]
  },
  {
   "cell_type": "code",
   "execution_count": 18,
   "metadata": {},
   "outputs": [
    {
     "data": {
      "text/html": [
       "<div>\n",
       "<style scoped>\n",
       "    .dataframe tbody tr th:only-of-type {\n",
       "        vertical-align: middle;\n",
       "    }\n",
       "\n",
       "    .dataframe tbody tr th {\n",
       "        vertical-align: top;\n",
       "    }\n",
       "\n",
       "    .dataframe thead th {\n",
       "        text-align: right;\n",
       "    }\n",
       "</style>\n",
       "<table border=\"1\" class=\"dataframe\">\n",
       "  <thead>\n",
       "    <tr style=\"text-align: right;\">\n",
       "      <th></th>\n",
       "      <th>신고번호</th>\n",
       "      <th>신고일자</th>\n",
       "      <th>통관지세관부호</th>\n",
       "      <th>신고인부호</th>\n",
       "      <th>수입자부호</th>\n",
       "      <th>해외거래처부호</th>\n",
       "      <th>특송업체부호</th>\n",
       "      <th>수입통관계획코드</th>\n",
       "      <th>수입신고구분코드</th>\n",
       "      <th>수입거래구분코드</th>\n",
       "      <th>...</th>\n",
       "      <th>적출국가코드</th>\n",
       "      <th>원산지국가코드</th>\n",
       "      <th>관세율구분코드</th>\n",
       "      <th>관세율</th>\n",
       "      <th>검사결과코드</th>\n",
       "      <th>우범여부</th>\n",
       "      <th>핵심적발</th>\n",
       "      <th>보세공장관련</th>\n",
       "      <th>자유무역관련</th>\n",
       "      <th>원산지적출국가동일여부</th>\n",
       "    </tr>\n",
       "  </thead>\n",
       "  <tbody>\n",
       "    <tr>\n",
       "      <th>0</th>\n",
       "      <td>57298928</td>\n",
       "      <td>2020-01-01</td>\n",
       "      <td>121</td>\n",
       "      <td>2O5A2</td>\n",
       "      <td>82ZHWNL</td>\n",
       "      <td>NaN</td>\n",
       "      <td>TQ18AK</td>\n",
       "      <td>D</td>\n",
       "      <td>B</td>\n",
       "      <td>15</td>\n",
       "      <td>...</td>\n",
       "      <td>US</td>\n",
       "      <td>US</td>\n",
       "      <td>A</td>\n",
       "      <td>8.0</td>\n",
       "      <td>N3</td>\n",
       "      <td>1</td>\n",
       "      <td>1</td>\n",
       "      <td>0</td>\n",
       "      <td>0</td>\n",
       "      <td>0.0</td>\n",
       "    </tr>\n",
       "    <tr>\n",
       "      <th>1</th>\n",
       "      <td>85092852</td>\n",
       "      <td>2020-01-01</td>\n",
       "      <td>30</td>\n",
       "      <td>305K5</td>\n",
       "      <td>5IS70LE</td>\n",
       "      <td>NaN</td>\n",
       "      <td>NaN</td>\n",
       "      <td>C</td>\n",
       "      <td>B</td>\n",
       "      <td>11</td>\n",
       "      <td>...</td>\n",
       "      <td>US</td>\n",
       "      <td>US</td>\n",
       "      <td>A</td>\n",
       "      <td>8.0</td>\n",
       "      <td>A</td>\n",
       "      <td>0</td>\n",
       "      <td>0</td>\n",
       "      <td>0</td>\n",
       "      <td>0</td>\n",
       "      <td>0.0</td>\n",
       "    </tr>\n",
       "    <tr>\n",
       "      <th>2</th>\n",
       "      <td>63014158</td>\n",
       "      <td>2020-01-01</td>\n",
       "      <td>20</td>\n",
       "      <td>CGMT6</td>\n",
       "      <td>GJ5KBL3</td>\n",
       "      <td>R9ZQOG7</td>\n",
       "      <td>NaN</td>\n",
       "      <td>D</td>\n",
       "      <td>B</td>\n",
       "      <td>11</td>\n",
       "      <td>...</td>\n",
       "      <td>US</td>\n",
       "      <td>US</td>\n",
       "      <td>A</td>\n",
       "      <td>10.0</td>\n",
       "      <td>A</td>\n",
       "      <td>0</td>\n",
       "      <td>0</td>\n",
       "      <td>0</td>\n",
       "      <td>0</td>\n",
       "      <td>0.0</td>\n",
       "    </tr>\n",
       "    <tr>\n",
       "      <th>3</th>\n",
       "      <td>40175917</td>\n",
       "      <td>2020-01-01</td>\n",
       "      <td>40</td>\n",
       "      <td>QWUTG</td>\n",
       "      <td>PBYW02T</td>\n",
       "      <td>NaN</td>\n",
       "      <td>NaN</td>\n",
       "      <td>C</td>\n",
       "      <td>B</td>\n",
       "      <td>94</td>\n",
       "      <td>...</td>\n",
       "      <td>CN</td>\n",
       "      <td>CN</td>\n",
       "      <td>A</td>\n",
       "      <td>8.0</td>\n",
       "      <td>A</td>\n",
       "      <td>0</td>\n",
       "      <td>0</td>\n",
       "      <td>0</td>\n",
       "      <td>0</td>\n",
       "      <td>0.0</td>\n",
       "    </tr>\n",
       "    <tr>\n",
       "      <th>4</th>\n",
       "      <td>11602631</td>\n",
       "      <td>2020-01-01</td>\n",
       "      <td>30</td>\n",
       "      <td>0X1CO</td>\n",
       "      <td>MCX0GJB</td>\n",
       "      <td>4Z9PX0Y</td>\n",
       "      <td>NaN</td>\n",
       "      <td>C</td>\n",
       "      <td>B</td>\n",
       "      <td>11</td>\n",
       "      <td>...</td>\n",
       "      <td>CN</td>\n",
       "      <td>CN</td>\n",
       "      <td>FCN1</td>\n",
       "      <td>5.2</td>\n",
       "      <td>M1_N1</td>\n",
       "      <td>1</td>\n",
       "      <td>1</td>\n",
       "      <td>0</td>\n",
       "      <td>0</td>\n",
       "      <td>0.0</td>\n",
       "    </tr>\n",
       "    <tr>\n",
       "      <th>...</th>\n",
       "      <td>...</td>\n",
       "      <td>...</td>\n",
       "      <td>...</td>\n",
       "      <td>...</td>\n",
       "      <td>...</td>\n",
       "      <td>...</td>\n",
       "      <td>...</td>\n",
       "      <td>...</td>\n",
       "      <td>...</td>\n",
       "      <td>...</td>\n",
       "      <td>...</td>\n",
       "      <td>...</td>\n",
       "      <td>...</td>\n",
       "      <td>...</td>\n",
       "      <td>...</td>\n",
       "      <td>...</td>\n",
       "      <td>...</td>\n",
       "      <td>...</td>\n",
       "      <td>...</td>\n",
       "      <td>...</td>\n",
       "      <td>...</td>\n",
       "    </tr>\n",
       "    <tr>\n",
       "      <th>76832</th>\n",
       "      <td>94508764</td>\n",
       "      <td>2020-09-30</td>\n",
       "      <td>40</td>\n",
       "      <td>3A8I7</td>\n",
       "      <td>BECE6R3</td>\n",
       "      <td>FYZA0QQ</td>\n",
       "      <td>NaN</td>\n",
       "      <td>C</td>\n",
       "      <td>D</td>\n",
       "      <td>11</td>\n",
       "      <td>...</td>\n",
       "      <td>AE</td>\n",
       "      <td>AE</td>\n",
       "      <td>C</td>\n",
       "      <td>8.0</td>\n",
       "      <td>A</td>\n",
       "      <td>0</td>\n",
       "      <td>0</td>\n",
       "      <td>0</td>\n",
       "      <td>0</td>\n",
       "      <td>0.0</td>\n",
       "    </tr>\n",
       "    <tr>\n",
       "      <th>76833</th>\n",
       "      <td>17853106</td>\n",
       "      <td>2020-09-30</td>\n",
       "      <td>40</td>\n",
       "      <td>QK03W</td>\n",
       "      <td>2WEWINH</td>\n",
       "      <td>QUM8VZX</td>\n",
       "      <td>NaN</td>\n",
       "      <td>B</td>\n",
       "      <td>B</td>\n",
       "      <td>91</td>\n",
       "      <td>...</td>\n",
       "      <td>JP</td>\n",
       "      <td>JP</td>\n",
       "      <td>A</td>\n",
       "      <td>8.0</td>\n",
       "      <td>A_N5_D6</td>\n",
       "      <td>1</td>\n",
       "      <td>1</td>\n",
       "      <td>0</td>\n",
       "      <td>0</td>\n",
       "      <td>0.0</td>\n",
       "    </tr>\n",
       "    <tr>\n",
       "      <th>76834</th>\n",
       "      <td>26558010</td>\n",
       "      <td>2020-09-30</td>\n",
       "      <td>40</td>\n",
       "      <td>S86Q6</td>\n",
       "      <td>GIWBVU7</td>\n",
       "      <td>PHNRCZY</td>\n",
       "      <td>NaN</td>\n",
       "      <td>D</td>\n",
       "      <td>B</td>\n",
       "      <td>91</td>\n",
       "      <td>...</td>\n",
       "      <td>CN</td>\n",
       "      <td>CN</td>\n",
       "      <td>FCN1</td>\n",
       "      <td>0.0</td>\n",
       "      <td>A_K</td>\n",
       "      <td>0</td>\n",
       "      <td>0</td>\n",
       "      <td>0</td>\n",
       "      <td>0</td>\n",
       "      <td>0.0</td>\n",
       "    </tr>\n",
       "    <tr>\n",
       "      <th>76835</th>\n",
       "      <td>48138979</td>\n",
       "      <td>2020-09-30</td>\n",
       "      <td>40</td>\n",
       "      <td>OGZCI</td>\n",
       "      <td>N3UTDBA</td>\n",
       "      <td>8DJ0WHZ</td>\n",
       "      <td>ID7FLR</td>\n",
       "      <td>D</td>\n",
       "      <td>B</td>\n",
       "      <td>87</td>\n",
       "      <td>...</td>\n",
       "      <td>US</td>\n",
       "      <td>US</td>\n",
       "      <td>A</td>\n",
       "      <td>3.0</td>\n",
       "      <td>F2</td>\n",
       "      <td>1</td>\n",
       "      <td>2</td>\n",
       "      <td>0</td>\n",
       "      <td>0</td>\n",
       "      <td>0.0</td>\n",
       "    </tr>\n",
       "    <tr>\n",
       "      <th>76836</th>\n",
       "      <td>81391181</td>\n",
       "      <td>2020-09-30</td>\n",
       "      <td>40</td>\n",
       "      <td>CGMT6</td>\n",
       "      <td>LIPZTZ4</td>\n",
       "      <td>ZLF7Q7N</td>\n",
       "      <td>QJ0YGH</td>\n",
       "      <td>D</td>\n",
       "      <td>B</td>\n",
       "      <td>15</td>\n",
       "      <td>...</td>\n",
       "      <td>AE</td>\n",
       "      <td>AE</td>\n",
       "      <td>C</td>\n",
       "      <td>8.0</td>\n",
       "      <td>N3</td>\n",
       "      <td>1</td>\n",
       "      <td>1</td>\n",
       "      <td>0</td>\n",
       "      <td>0</td>\n",
       "      <td>0.0</td>\n",
       "    </tr>\n",
       "  </tbody>\n",
       "</table>\n",
       "<p>76837 rows × 27 columns</p>\n",
       "</div>"
      ],
      "text/plain": [
       "           신고번호        신고일자  통관지세관부호  신고인부호    수입자부호  해외거래처부호  특송업체부호  \\\n",
       "0      57298928  2020-01-01      121  2O5A2  82ZHWNL      NaN  TQ18AK   \n",
       "1      85092852  2020-01-01       30  305K5  5IS70LE      NaN     NaN   \n",
       "2      63014158  2020-01-01       20  CGMT6  GJ5KBL3  R9ZQOG7     NaN   \n",
       "3      40175917  2020-01-01       40  QWUTG  PBYW02T      NaN     NaN   \n",
       "4      11602631  2020-01-01       30  0X1CO  MCX0GJB  4Z9PX0Y     NaN   \n",
       "...         ...         ...      ...    ...      ...      ...     ...   \n",
       "76832  94508764  2020-09-30       40  3A8I7  BECE6R3  FYZA0QQ     NaN   \n",
       "76833  17853106  2020-09-30       40  QK03W  2WEWINH  QUM8VZX     NaN   \n",
       "76834  26558010  2020-09-30       40  S86Q6  GIWBVU7  PHNRCZY     NaN   \n",
       "76835  48138979  2020-09-30       40  OGZCI  N3UTDBA  8DJ0WHZ  ID7FLR   \n",
       "76836  81391181  2020-09-30       40  CGMT6  LIPZTZ4  ZLF7Q7N  QJ0YGH   \n",
       "\n",
       "      수입통관계획코드 수입신고구분코드  수입거래구분코드  ...  적출국가코드  원산지국가코드  관세율구분코드   관세율  \\\n",
       "0            D        B        15  ...      US       US        A   8.0   \n",
       "1            C        B        11  ...      US       US        A   8.0   \n",
       "2            D        B        11  ...      US       US        A  10.0   \n",
       "3            C        B        94  ...      CN       CN        A   8.0   \n",
       "4            C        B        11  ...      CN       CN     FCN1   5.2   \n",
       "...        ...      ...       ...  ...     ...      ...      ...   ...   \n",
       "76832        C        D        11  ...      AE       AE        C   8.0   \n",
       "76833        B        B        91  ...      JP       JP        A   8.0   \n",
       "76834        D        B        91  ...      CN       CN     FCN1   0.0   \n",
       "76835        D        B        87  ...      US       US        A   3.0   \n",
       "76836        D        B        15  ...      AE       AE        C   8.0   \n",
       "\n",
       "        검사결과코드  우범여부  핵심적발 보세공장관련 자유무역관련 원산지적출국가동일여부  \n",
       "0           N3     1     1      0      0         0.0  \n",
       "1            A     0     0      0      0         0.0  \n",
       "2            A     0     0      0      0         0.0  \n",
       "3            A     0     0      0      0         0.0  \n",
       "4        M1_N1     1     1      0      0         0.0  \n",
       "...        ...   ...   ...    ...    ...         ...  \n",
       "76832        A     0     0      0      0         0.0  \n",
       "76833  A_N5_D6     1     1      0      0         0.0  \n",
       "76834      A_K     0     0      0      0         0.0  \n",
       "76835       F2     1     2      0      0         0.0  \n",
       "76836       N3     1     1      0      0         0.0  \n",
       "\n",
       "[76837 rows x 27 columns]"
      ]
     },
     "metadata": {},
     "output_type": "display_data"
    }
   ],
   "source": [
    "# 원산지국가코드 - 적출국가코드가 상이할 경우 1\n",
    "\n",
    "for row in range(0, frows):\n",
    "    if df.loc[row, '원산지국가코드'] == df.loc[row, '적출국가코드']:\n",
    "        df.loc[row, '원산지적출국가동일여부'] = 0\n",
    "    else:\n",
    "        df.loc[row, '원산지적출국가동일여부'] = 1\n",
    "\n",
    "display(df)"
   ]
  },
  {
   "cell_type": "code",
   "execution_count": 19,
   "metadata": {
    "scrolled": true
   },
   "outputs": [
    {
     "name": "stderr",
     "output_type": "stream",
     "text": [
      "<ipython-input-4-ce1c551bc529>:26: MatplotlibDeprecationWarning: Passing non-integers as three-element position specification is deprecated since 3.3 and will be removed two minor releases later.\n",
      "  plt.subplot(prow, pcol, row+1)\n"
     ]
    },
    {
     "data": {
      "image/png": "[encoded data removed]",
      "text/plain": [
       "<Figure size 576x480 with 2 Axes>"
      ]
     },
     "metadata": {},
     "output_type": "display_data"
    },
    {
     "data": {
      "text/html": [
       "<div>\n",
       "<style scoped>\n",
       "    .dataframe tbody tr th:only-of-type {\n",
       "        vertical-align: middle;\n",
       "    }\n",
       "\n",
       "    .dataframe tbody tr th {\n",
       "        vertical-align: top;\n",
       "    }\n",
       "\n",
       "    .dataframe thead th {\n",
       "        text-align: right;\n",
       "    }\n",
       "</style>\n",
       "<table border=\"1\" class=\"dataframe\">\n",
       "  <thead>\n",
       "    <tr style=\"text-align: right;\">\n",
       "      <th>우범여부</th>\n",
       "      <th>정상</th>\n",
       "      <th>우범</th>\n",
       "    </tr>\n",
       "    <tr>\n",
       "      <th>원산지적출국가동일여부</th>\n",
       "      <th></th>\n",
       "      <th></th>\n",
       "    </tr>\n",
       "  </thead>\n",
       "  <tbody>\n",
       "    <tr>\n",
       "      <th>0.0</th>\n",
       "      <td>49219</td>\n",
       "      <td>14398</td>\n",
       "    </tr>\n",
       "    <tr>\n",
       "      <th>1.0</th>\n",
       "      <td>10046</td>\n",
       "      <td>3174</td>\n",
       "    </tr>\n",
       "  </tbody>\n",
       "</table>\n",
       "</div>"
      ],
      "text/plain": [
       "우범여부            정상     우범\n",
       "원산지적출국가동일여부              \n",
       "0.0          49219  14398\n",
       "1.0          10046   3174"
      ]
     },
     "execution_count": 19,
     "metadata": {},
     "output_type": "execute_result"
    }
   ],
   "source": [
    "c = show_pie_chart(df, '원산지적출국가동일여부')\n",
    "c"
   ]
  },
  {
   "cell_type": "code",
   "execution_count": 20,
   "metadata": {
    "scrolled": true
   },
   "outputs": [
    {
     "data": {
      "text/plain": [
       "0.0    63617\n",
       "1.0    13220\n",
       "Name: 원산지적출국가동일여부, dtype: int64"
      ]
     },
     "execution_count": 20,
     "metadata": {},
     "output_type": "execute_result"
    }
   ],
   "source": [
    "df['원산지적출국가동일여부'].value_counts()"
   ]
  },
  {
   "cell_type": "markdown",
   "metadata": {},
   "source": [
    "### missing data & NaN-data"
   ]
  },
  {
   "cell_type": "code",
   "execution_count": 21,
   "metadata": {
    "scrolled": false
   },
   "outputs": [
    {
     "data": {
      "text/plain": [
       "신고번호               0\n",
       "신고일자               0\n",
       "통관지세관부호            0\n",
       "신고인부호              0\n",
       "수입자부호              8\n",
       "해외거래처부호        26293\n",
       "특송업체부호         51731\n",
       "수입통관계획코드           0\n",
       "수입신고구분코드           0\n",
       "수입거래구분코드           0\n",
       "수입종류코드             0\n",
       "징수형태코드             0\n",
       "신고중량(KG)           0\n",
       "과세가격원화금액           0\n",
       "운송수단유형코드           0\n",
       "반입보세구역부호           0\n",
       "HS10단위부호           0\n",
       "적출국가코드             0\n",
       "원산지국가코드            0\n",
       "관세율구분코드            0\n",
       "관세율                0\n",
       "검사결과코드             0\n",
       "우범여부               0\n",
       "핵심적발               0\n",
       "보세공장관련             0\n",
       "자유무역관련             0\n",
       "원산지적출국가동일여부        0\n",
       "dtype: int64"
      ]
     },
     "execution_count": 21,
     "metadata": {},
     "output_type": "execute_result"
    }
   ],
   "source": [
    "df.isnull().sum()"
   ]
  }
 ],
 "metadata": {
  "kernelspec": {
   "display_name": "Python 3",
   "language": "python",
   "name": "python3"
  },
  "language_info": {
   "codemirror_mode": {
    "name": "ipython",
    "version": 3
   },
   "file_extension": ".py",
   "mimetype": "text/x-python",
   "name": "python",
   "nbconvert_exporter": "python",
   "pygments_lexer": "ipython3",
   "version": "3.8.5"
  }
 },
 "nbformat": 4,
 "nbformat_minor": 4
}
